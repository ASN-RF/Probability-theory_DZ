{
 "cells": [
  {
   "cell_type": "markdown",
   "id": "f2c41726",
   "metadata": {},
   "source": [
    "#  <p style=\"text-align: center;\">Практическое задание к Семинару 4.<br><br>Урок 4. Непрерывная случайная величина.</p>"
   ]
  },
  {
   "cell_type": "code",
   "execution_count": 1,
   "id": "044d230a",
   "metadata": {},
   "outputs": [],
   "source": [
    "from math import factorial, exp\n",
    "import numpy as np\n",
    "from statistics import NormalDist"
   ]
  },
  {
   "cell_type": "markdown",
   "id": "ad9f254c",
   "metadata": {},
   "source": [
    "**Равномерное распределение.**<br>\n",
    "***Дисперсия:***\n",
    "<div class=\"alert alert-block alert-warning\"><font size=4 color=black><b>$D=\\frac{\\displaystyle (b - a)^2}{12}$ (1)</b></font></div>"
   ]
  },
  {
   "cell_type": "markdown",
   "id": "db9f7d99",
   "metadata": {},
   "source": [
    "***Математическое ожидание:***\n",
    "<div class=\"alert alert-block alert-warning\"><font size=4 color=black><b>$M(X)=\\frac{a + b}{12}$ (2)</b></font></div>"
   ]
  },
  {
   "cell_type": "markdown",
   "id": "8f5e8e60",
   "metadata": {},
   "source": [
    "---"
   ]
  },
  {
   "cell_type": "markdown",
   "id": "7b76f9d6",
   "metadata": {},
   "source": [
    "**Нормальное распределение:**<br>  \n",
    "***Функция плотности нормального распределения:*** \n",
    "<div class=\"alert alert-block alert-warning\"><font size=4 color=black><b>$\\displaystyle f(x)=\\frac{1}{\\sigma\\sqrt{2\\pi}}\\cdot e^{-\\frac{(x-a)^2}{2\\sigma^2}}$ (3)</b></font></div>"
   ]
  },
  {
   "cell_type": "markdown",
   "id": "3eaf5cae",
   "metadata": {},
   "source": [
    "***Формула расчета $Z$-оценки:***\n",
    "<div class=\"alert alert-block alert-warning\"><font size=4 color=black><b>$\\displaystyle Z=\\frac{X-\\bar x}{\\sigma}$ (3)</b></font></div>   "
   ]
  },
  {
   "cell_type": "markdown",
   "id": "3d1787ee",
   "metadata": {},
   "source": [
    "Таблица 1. Z Таблица (положительные значения)"
   ]
  },
  {
   "cell_type": "markdown",
   "id": "91271b09",
   "metadata": {},
   "source": [
    "![Positive Z Table](https://datascience.eu/wp-content/uploads/2020/05/image1.png)"
   ]
  },
  {
   "cell_type": "markdown",
   "id": "c2a3f3eb",
   "metadata": {},
   "source": [
    "Таблица 2. Z Таблица (отрицательные значения)"
   ]
  },
  {
   "cell_type": "markdown",
   "id": "03e92ab8",
   "metadata": {},
   "source": [
    "![Negative Z Table](https://www.ztable.net/wp-content/uploads/2018/11/negativeztable.png)"
   ]
  },
  {
   "cell_type": "code",
   "execution_count": 2,
   "id": "ebc677af",
   "metadata": {},
   "outputs": [],
   "source": [
    "def D_rav (a,b):  # Дисперсия\n",
    "    return ((b-a)**2)/12"
   ]
  },
  {
   "cell_type": "code",
   "execution_count": 3,
   "id": "d1db4655",
   "metadata": {},
   "outputs": [],
   "source": [
    "def Mean_rav (a,b):  # Математическое ожидание\n",
    "    return (a + b)/2"
   ]
  },
  {
   "cell_type": "code",
   "execution_count": 4,
   "id": "9bc37ef8",
   "metadata": {},
   "outputs": [],
   "source": [
    "def z_value(x,mu,sg): # Приводим к нормальному распределению\n",
    "    return (x-mu)/sg"
   ]
  },
  {
   "cell_type": "markdown",
   "id": "83adb18e",
   "metadata": {},
   "source": [
    "## ЗАДАНИЕ 1. \n",
    "**Случайная непрерывная величина A имеет равномерное распределение на промежутке (200, 800]. Найдите ее среднее значение и дисперсию.**"
   ]
  },
  {
   "cell_type": "markdown",
   "id": "13587216",
   "metadata": {},
   "source": [
    "**<p style=\"text-align: center;\">\n",
    "    <font size=10 color=#32CD32><b>-------------------------------</b></font><br>\n",
    "    <font size=4.5 color=#3ac444>РЕШЕНИЕ:</font><br>\n",
    "<font size=10 color=#32CD32><b>-------------------------------</b></font></p>**"
   ]
  },
  {
   "cell_type": "code",
   "execution_count": 5,
   "id": "cdfa0b0c",
   "metadata": {},
   "outputs": [],
   "source": [
    "# Дано\n",
    "a = 200\n",
    "b = 800"
   ]
  },
  {
   "cell_type": "markdown",
   "id": "eb886fea",
   "metadata": {},
   "source": [
    "По формуле (1) находим Среднее значение:"
   ]
  },
  {
   "cell_type": "code",
   "execution_count": 6,
   "id": "c9801f01",
   "metadata": {},
   "outputs": [
    {
     "data": {
      "text/plain": [
       "30000.0"
      ]
     },
     "execution_count": 6,
     "metadata": {},
     "output_type": "execute_result"
    }
   ],
   "source": [
    "D_rav (a,b)"
   ]
  },
  {
   "cell_type": "markdown",
   "id": "49c8e74d",
   "metadata": {},
   "source": [
    "По формуле (2) находим Дисперсию:"
   ]
  },
  {
   "cell_type": "code",
   "execution_count": 7,
   "id": "ce5cd48c",
   "metadata": {},
   "outputs": [
    {
     "data": {
      "text/plain": [
       "500.0"
      ]
     },
     "execution_count": 7,
     "metadata": {},
     "output_type": "execute_result"
    }
   ],
   "source": [
    "Mean_rav (a,b)"
   ]
  },
  {
   "cell_type": "markdown",
   "id": "063934ff",
   "metadata": {},
   "source": [
    "<div class=\"alert alert-block alert-success\"><font size=3 color='b'><b>ОТВЕТ: </b><br>Случайная непрерывная величина A на промежутке (200, 800] равномерного распределения,имеет значение:<br>Cреднее значение: 500.00<br>Дисперсию: 30000.00"
   ]
  },
  {
   "cell_type": "markdown",
   "id": "e003f4f9",
   "metadata": {},
   "source": [
    "---"
   ]
  },
  {
   "cell_type": "markdown",
   "id": "3ae4df09",
   "metadata": {},
   "source": [
    "## ЗАДАНИЕ 2. \n",
    "**О случайной непрерывной равномерно распределенной величине B известно, что ее дисперсия равна 0.2. Можно ли найти правую границу величины B и ее среднее значение зная, что левая граница равна 0.5? Если да, найдите ее.**"
   ]
  },
  {
   "cell_type": "markdown",
   "id": "d4e6cd07",
   "metadata": {},
   "source": [
    "**<p style=\"text-align: center;\">\n",
    "    <font size=10 color=#32CD32><b>-------------------------------</b></font><br>\n",
    "    <font size=4.5 color=#3ac444>РЕШЕНИЕ:</font><br>\n",
    "<font size=10 color=#32CD32><b>-------------------------------</b></font></p>**"
   ]
  },
  {
   "cell_type": "code",
   "execution_count": 8,
   "id": "5964e91e",
   "metadata": {},
   "outputs": [],
   "source": [
    "# Дано\n",
    "D_2 = 0.2\n",
    "a_2 = 0.5"
   ]
  },
  {
   "cell_type": "markdown",
   "id": "c1432515",
   "metadata": {},
   "source": [
    "Используя формулу (1), найдем значание правой границы $b$ величины $B$:<br>$\\displaystyle \\frac{(b-0.5)^2}{12}=0.2\\\\b-0.5=\\sqrt{2.4}\\\\b=0.5+\\sqrt{2.4}$"
   ]
  },
  {
   "cell_type": "code",
   "execution_count": 9,
   "id": "b5b79327",
   "metadata": {},
   "outputs": [
    {
     "name": "stdout",
     "output_type": "stream",
     "text": [
      "Правая граница величины B равна:  2.0492\n"
     ]
    }
   ],
   "source": [
    "b_2 = a_2 + 2.4**0.5\n",
    "print(f'Правая граница величины B равна: {b_2: .4f}')"
   ]
  },
  {
   "cell_type": "markdown",
   "id": "2694f963",
   "metadata": {},
   "source": [
    "Используя формулу (2), найдем среднее значение величины:"
   ]
  },
  {
   "cell_type": "code",
   "execution_count": 10,
   "id": "168ae703",
   "metadata": {},
   "outputs": [
    {
     "name": "stdout",
     "output_type": "stream",
     "text": [
      "Среднее значение В на промежутке (0.5;  2.0492), равно M(B) =  1.2746\n"
     ]
    }
   ],
   "source": [
    "M_2 = (a_2 + b_2) / 2\n",
    "print (f'Среднее значение В на промежутке (0.5; {b_2: .4f}), равно M(B) = {M_2: .4f}')"
   ]
  },
  {
   "cell_type": "markdown",
   "id": "38ae499a",
   "metadata": {},
   "source": [
    "<div class=\"alert alert-block alert-success\"><font size=3 color='b'><b>ОТВЕТ: </b><br>Можно найти правую границу величины B и ее среднее значение!<br>Правая граница распределения величины B: $b\\approx2.0492$<br>Среднее значение В на промежутке (0.5; 2.0492), равно M(B) $\\approx1.2746$</font></div>"
   ]
  },
  {
   "cell_type": "markdown",
   "id": "ae7fa676",
   "metadata": {},
   "source": [
    "---"
   ]
  },
  {
   "cell_type": "markdown",
   "id": "ce5bc352",
   "metadata": {},
   "source": [
    "## ЗАДАНИЕ 3. \n",
    "**Непрерывная случайная величина X распределена нормально и задана плотностью распределения: $\\displaystyle f(x)=\\frac{1}{4\\cdot\\sqrt{2\\pi}}\\cdot e^{-\\frac{(x+2)^2}{32}}$, Найдите:**  \n",
    "   **а) $M(X)$**  \n",
    "   **б) $D(X)$**  \n",
    "   **в) $\\displaystyle\\sigma$ (среднее квадратичное отклонение)**"
   ]
  },
  {
   "cell_type": "markdown",
   "id": "54aa6e8a",
   "metadata": {},
   "source": [
    "**<p style=\"text-align: center;\">\n",
    "    <font size=10 color=#32CD32><b>-------------------------------</b></font><br>\n",
    "    <font size=4.5 color=#3ac444>РЕШЕНИЕ:</font><br>\n",
    "<font size=10 color=#32CD32><b>-------------------------------</b></font></p>**"
   ]
  },
  {
   "cell_type": "markdown",
   "id": "348911b5",
   "metadata": {},
   "source": [
    "Из формулы (3), плотности нормального распределения найдём:<br>$M(X)=a=-2\\\\\\sigma = 4\\\\D(X)=\\sigma^2=16$"
   ]
  },
  {
   "cell_type": "markdown",
   "id": "a45f60eb",
   "metadata": {},
   "source": [
    "<div class=\"alert alert-block alert-success\"><font size=3 color='b'><b>ОТВЕТ: </b><br>$M(X)=-2\\\\D(X)=16\\\\\\sigma = 4$</font></div>"
   ]
  },
  {
   "cell_type": "markdown",
   "id": "86b3db01",
   "metadata": {},
   "source": [
    "---"
   ]
  },
  {
   "cell_type": "markdown",
   "id": "f4e94560",
   "metadata": {},
   "source": [
    "## ЗАДАНИЕ 4. \n",
    "**Рост взрослого населения города X имеет нормальное распределение. Причем, средний рост равен 174 см, а среднее квадратичное отклонение равно 8 см.Какова вероятность того, что случайным образом выбранный взрослый человек имеет рост:**<br>\n",
    "**а) больше 182 см<br>б) больше 190 см<br>в) от 166 см до 190 см<br>г) от 166 см до 182 см<br>д) от 158 см до 190 см<br>е) не выше 150 см или не ниже 190 см<br>ё) не выше 150 см или не ниже 198 см<br>ж) ниже 166 см.<br><br>**"
   ]
  },
  {
   "cell_type": "markdown",
   "id": "d7b2db09",
   "metadata": {},
   "source": [
    "**<p style=\"text-align: center;\">\n",
    "    <font size=10 color=#32CD32><b>-------------------------------</b></font><br>\n",
    "    <font size=4.5 color=#3ac444>РЕШЕНИЕ:</font><br>\n",
    "<font size=10 color=#32CD32><b>-------------------------------</b></font></p>**"
   ]
  },
  {
   "cell_type": "code",
   "execution_count": 11,
   "id": "5de615c1",
   "metadata": {},
   "outputs": [],
   "source": [
    "# Дано\n",
    "mu = 174\n",
    "sg = 8"
   ]
  },
  {
   "cell_type": "markdown",
   "id": "87ddde2b",
   "metadata": {},
   "source": [
    "**a) больше 182 см.** Определим $Z$-значениe:"
   ]
  },
  {
   "cell_type": "code",
   "execution_count": 12,
   "id": "aff9a089",
   "metadata": {},
   "outputs": [
    {
     "data": {
      "text/plain": [
       "1.0"
      ]
     },
     "execution_count": 12,
     "metadata": {},
     "output_type": "execute_result"
    }
   ],
   "source": [
    "x = 182\n",
    "z_value (x,mu,sg)"
   ]
  },
  {
   "cell_type": "markdown",
   "id": "72c0c1b3",
   "metadata": {},
   "source": [
    "По таблице 1, находим значение Z, которое равно **0.84134**"
   ]
  },
  {
   "cell_type": "markdown",
   "id": "dd72c966",
   "metadata": {},
   "source": [
    "Учитывая, что нам надо найти $P(X\\ge182)$, поэтому вычтем полученное значение из $1$:"
   ]
  },
  {
   "cell_type": "code",
   "execution_count": 13,
   "id": "88294e8f",
   "metadata": {},
   "outputs": [
    {
     "data": {
      "text/plain": [
       "0.1587"
      ]
     },
     "execution_count": 13,
     "metadata": {},
     "output_type": "execute_result"
    }
   ],
   "source": [
    "P_a = 1 - 0.84134\n",
    "round (P_a, 4)"
   ]
  },
  {
   "cell_type": "markdown",
   "id": "0f8ccc4a",
   "metadata": {},
   "source": [
    "***Проверим полученное значение с помощью метода cdf, объекта NormalDist стандартного модуля statistics***"
   ]
  },
  {
   "cell_type": "code",
   "execution_count": 14,
   "id": "27e288a6",
   "metadata": {},
   "outputs": [
    {
     "data": {
      "text/plain": [
       "0.1587"
      ]
     },
     "execution_count": 14,
     "metadata": {},
     "output_type": "execute_result"
    }
   ],
   "source": [
    "P_a_1 = 1- NormalDist().cdf(z_value(x,mu,sg))\n",
    "round (P_a_1, 4)"
   ]
  },
  {
   "cell_type": "markdown",
   "id": "7d02ea8b",
   "metadata": {},
   "source": [
    "**$P(X\\ge182)=0.1587$**"
   ]
  },
  {
   "cell_type": "markdown",
   "id": "9ad4312d",
   "metadata": {},
   "source": [
    "**б) больше 190 см.** Определим $Z$-значениe:"
   ]
  },
  {
   "cell_type": "code",
   "execution_count": 15,
   "id": "68a55344",
   "metadata": {},
   "outputs": [
    {
     "data": {
      "text/plain": [
       "2.0"
      ]
     },
     "execution_count": 15,
     "metadata": {},
     "output_type": "execute_result"
    }
   ],
   "source": [
    "x_b = 190\n",
    "z_value (x_b,mu,sg)"
   ]
  },
  {
   "cell_type": "markdown",
   "id": "bae8ac83",
   "metadata": {},
   "source": [
    "По таблице 1, находим значение Z, которое равно **0.97725**"
   ]
  },
  {
   "cell_type": "markdown",
   "id": "6ec74c33",
   "metadata": {},
   "source": [
    "Учитывая, что нам надо найти $P(X\\ge190)$, поэтому вычтем полученное значение из $1$:"
   ]
  },
  {
   "cell_type": "code",
   "execution_count": 16,
   "id": "ef099233",
   "metadata": {},
   "outputs": [
    {
     "data": {
      "text/plain": [
       "0.0228"
      ]
     },
     "execution_count": 16,
     "metadata": {},
     "output_type": "execute_result"
    }
   ],
   "source": [
    "P_b = 1 - 0.97725\n",
    "round (P_b, 4)"
   ]
  },
  {
   "cell_type": "markdown",
   "id": "81109008",
   "metadata": {},
   "source": [
    "***Проверим полученное значение с помощью метода cdf, объекта NormalDist стандартного модуля statistics***"
   ]
  },
  {
   "cell_type": "code",
   "execution_count": 17,
   "id": "c516eb99",
   "metadata": {},
   "outputs": [
    {
     "data": {
      "text/plain": [
       "0.0228"
      ]
     },
     "execution_count": 17,
     "metadata": {},
     "output_type": "execute_result"
    }
   ],
   "source": [
    "P_b_1 = 1- NormalDist().cdf(z_value(x_b,mu,sg))\n",
    "round (P_b_1, 4)"
   ]
  },
  {
   "cell_type": "markdown",
   "id": "06edd2ab",
   "metadata": {},
   "source": [
    "**$P(X\\ge190)=0.0228$**"
   ]
  },
  {
   "cell_type": "markdown",
   "id": "a8c3351a",
   "metadata": {},
   "source": [
    "**в) от 166 см до 190 см.** Определим $Z$-значения для обоих показателей роста:"
   ]
  },
  {
   "cell_type": "code",
   "execution_count": 18,
   "id": "60f63583",
   "metadata": {},
   "outputs": [
    {
     "data": {
      "text/plain": [
       "-1.0"
      ]
     },
     "execution_count": 18,
     "metadata": {},
     "output_type": "execute_result"
    }
   ],
   "source": [
    "x_v_1 = 166\n",
    "z_value (x_v_1,mu,sg)"
   ]
  },
  {
   "cell_type": "markdown",
   "id": "f4126270",
   "metadata": {},
   "source": [
    "По таблице 2, находим значение Z, которое равно **0.15866**"
   ]
  },
  {
   "cell_type": "code",
   "execution_count": 19,
   "id": "d8351978",
   "metadata": {},
   "outputs": [
    {
     "data": {
      "text/plain": [
       "2.0"
      ]
     },
     "execution_count": 19,
     "metadata": {},
     "output_type": "execute_result"
    }
   ],
   "source": [
    "x_v_2 = 190\n",
    "z_value (x_v_2,mu,sg)"
   ]
  },
  {
   "cell_type": "markdown",
   "id": "76b29ea3",
   "metadata": {},
   "source": [
    "По таблице 1, находим значение Z, которое равно **0.97725**"
   ]
  },
  {
   "cell_type": "markdown",
   "id": "08e83ff5",
   "metadata": {},
   "source": [
    "Найдем требуемый промежуток:"
   ]
  },
  {
   "cell_type": "code",
   "execution_count": 20,
   "id": "2cb7e824",
   "metadata": {},
   "outputs": [
    {
     "data": {
      "text/plain": [
       "0.8186"
      ]
     },
     "execution_count": 20,
     "metadata": {},
     "output_type": "execute_result"
    }
   ],
   "source": [
    "x_v_P = 0.97725 - 0.15866\n",
    "round (x_v_P, 4)"
   ]
  },
  {
   "cell_type": "markdown",
   "id": "06a5b0b2",
   "metadata": {},
   "source": [
    "***Проверим полученное значение с помощью метода cdf, объекта NormalDist стандартного модуля statistics***"
   ]
  },
  {
   "cell_type": "code",
   "execution_count": 21,
   "id": "0ed00683",
   "metadata": {},
   "outputs": [
    {
     "data": {
      "text/plain": [
       "0.8186"
      ]
     },
     "execution_count": 21,
     "metadata": {},
     "output_type": "execute_result"
    }
   ],
   "source": [
    "P_v = NormalDist().cdf(z_value (x_v_2,mu,sg))-NormalDist().cdf(z_value (x_v_1,mu,sg))\n",
    "round (P_v,4)"
   ]
  },
  {
   "cell_type": "markdown",
   "id": "683821a8",
   "metadata": {},
   "source": [
    "$P(166\\le X\\le 190)=0.8186$  "
   ]
  },
  {
   "cell_type": "markdown",
   "id": "8bbd3eb5",
   "metadata": {},
   "source": [
    "**г) от 166 см до 182 см.** Определим $Z$-значения для обоих показателей роста:"
   ]
  },
  {
   "cell_type": "code",
   "execution_count": 22,
   "id": "b4363d64",
   "metadata": {},
   "outputs": [],
   "source": [
    "x_g_1 = 166 \n",
    "z_g_1 = 0.15866 # известно из задание в)."
   ]
  },
  {
   "cell_type": "code",
   "execution_count": 23,
   "id": "26680350",
   "metadata": {},
   "outputs": [
    {
     "data": {
      "text/plain": [
       "1.0"
      ]
     },
     "execution_count": 23,
     "metadata": {},
     "output_type": "execute_result"
    }
   ],
   "source": [
    "x_g_2 = 182\n",
    "z_value (x_g_2,mu,sg)"
   ]
  },
  {
   "cell_type": "markdown",
   "id": "e815740b",
   "metadata": {},
   "source": [
    "По таблице 1, находим значение Z, которое равно **0.84134**"
   ]
  },
  {
   "cell_type": "markdown",
   "id": "5a906b51",
   "metadata": {},
   "source": [
    "Найдем требуемый промежуток:"
   ]
  },
  {
   "cell_type": "code",
   "execution_count": 24,
   "id": "856b17ee",
   "metadata": {},
   "outputs": [
    {
     "data": {
      "text/plain": [
       "0.6827"
      ]
     },
     "execution_count": 24,
     "metadata": {},
     "output_type": "execute_result"
    }
   ],
   "source": [
    "x_g_P = 0.84134 - 0.15866\n",
    "round (x_g_P, 4)"
   ]
  },
  {
   "cell_type": "markdown",
   "id": "c6dfb378",
   "metadata": {},
   "source": [
    "***Проверим полученное значение с помощью метода cdf, объекта NormalDist стандартного модуля statistics***"
   ]
  },
  {
   "cell_type": "code",
   "execution_count": 25,
   "id": "3c9cf25e",
   "metadata": {},
   "outputs": [
    {
     "data": {
      "text/plain": [
       "0.6827"
      ]
     },
     "execution_count": 25,
     "metadata": {},
     "output_type": "execute_result"
    }
   ],
   "source": [
    "P_v = NormalDist().cdf(z_value (x_g_2,mu,sg))-NormalDist().cdf(z_value (x_g_1,mu,sg))\n",
    "round (P_v,4)"
   ]
  },
  {
   "cell_type": "markdown",
   "id": "31067925",
   "metadata": {},
   "source": [
    "$P(166\\le X\\le 182)=0.6827$  "
   ]
  },
  {
   "cell_type": "markdown",
   "id": "bba50d96",
   "metadata": {},
   "source": [
    "**д) от 158 см до 190 см.** Определим $Z$-значения для обоих показателей роста:"
   ]
  },
  {
   "cell_type": "code",
   "execution_count": 26,
   "id": "6eaa0690",
   "metadata": {},
   "outputs": [
    {
     "data": {
      "text/plain": [
       "-2.0"
      ]
     },
     "execution_count": 26,
     "metadata": {},
     "output_type": "execute_result"
    }
   ],
   "source": [
    "x_d_1 = 158 \n",
    "z_value (x_d_1,mu,sg)"
   ]
  },
  {
   "cell_type": "markdown",
   "id": "32b4b4b0",
   "metadata": {},
   "source": [
    "По таблице 2, находим значение Z, которое равно **0.02275**"
   ]
  },
  {
   "cell_type": "code",
   "execution_count": 27,
   "id": "7b71600b",
   "metadata": {},
   "outputs": [],
   "source": [
    "x_d_2 = 190 \n",
    "z_d_1 = 0.97725 # известно из задание в)."
   ]
  },
  {
   "cell_type": "markdown",
   "id": "611d2556",
   "metadata": {},
   "source": [
    "Найдем требуемый промежуток:"
   ]
  },
  {
   "cell_type": "code",
   "execution_count": 28,
   "id": "23f021f9",
   "metadata": {},
   "outputs": [
    {
     "data": {
      "text/plain": [
       "0.9545"
      ]
     },
     "execution_count": 28,
     "metadata": {},
     "output_type": "execute_result"
    }
   ],
   "source": [
    "x_d_P = 0.97725 - 0.02275\n",
    "round (x_d_P, 4)"
   ]
  },
  {
   "cell_type": "markdown",
   "id": "26e387f5",
   "metadata": {},
   "source": [
    "***Проверим полученное значение с помощью метода cdf, объекта NormalDist стандартного модуля statistics***"
   ]
  },
  {
   "cell_type": "code",
   "execution_count": 29,
   "id": "343f2e8e",
   "metadata": {},
   "outputs": [
    {
     "data": {
      "text/plain": [
       "0.9545"
      ]
     },
     "execution_count": 29,
     "metadata": {},
     "output_type": "execute_result"
    }
   ],
   "source": [
    "P_d = NormalDist().cdf(z_value (x_d_2,mu,sg))-NormalDist().cdf(z_value (x_d_1,mu,sg))\n",
    "round (P_d,4)"
   ]
  },
  {
   "cell_type": "markdown",
   "id": "6ceb799f",
   "metadata": {},
   "source": [
    "$P(158\\le X\\le 190)=0.9545$  "
   ]
  },
  {
   "cell_type": "markdown",
   "id": "b5d44e8f",
   "metadata": {},
   "source": [
    "**е) не выше 150 см или не ниже 190 см.** Определим $Z$-значения для обоих показателей роста:"
   ]
  },
  {
   "cell_type": "code",
   "execution_count": 30,
   "id": "01c6e3c1",
   "metadata": {},
   "outputs": [
    {
     "data": {
      "text/plain": [
       "-3.0"
      ]
     },
     "execution_count": 30,
     "metadata": {},
     "output_type": "execute_result"
    }
   ],
   "source": [
    "x_e_1 = 150 \n",
    "z_value (x_e_1,mu,sg)"
   ]
  },
  {
   "cell_type": "markdown",
   "id": "e118b8cd",
   "metadata": {},
   "source": [
    "По таблице 2, находим значение Z, которое равно **0.00135**"
   ]
  },
  {
   "cell_type": "code",
   "execution_count": 31,
   "id": "01afa7db",
   "metadata": {},
   "outputs": [
    {
     "data": {
      "text/plain": [
       "0.02275"
      ]
     },
     "execution_count": 31,
     "metadata": {},
     "output_type": "execute_result"
    }
   ],
   "source": [
    "x_e_2 = 190 \n",
    "z_e_2 = 1 - 0.97725 # известно из задание в). Т.к. нам надо найти все значения не ниже 190, поэтому вычитаем из единицы\n",
    "round (z_e_2,6)"
   ]
  },
  {
   "cell_type": "markdown",
   "id": "b07c3689",
   "metadata": {},
   "source": [
    "Найдем требуемый промежуток:"
   ]
  },
  {
   "cell_type": "code",
   "execution_count": 32,
   "id": "ffaa053d",
   "metadata": {},
   "outputs": [
    {
     "data": {
      "text/plain": [
       "0.02415"
      ]
     },
     "execution_count": 32,
     "metadata": {},
     "output_type": "execute_result"
    }
   ],
   "source": [
    "x_e_P = 0.00135 + 0.0228\n",
    "round (x_e_P, 6)"
   ]
  },
  {
   "cell_type": "markdown",
   "id": "8bf1b0f2",
   "metadata": {},
   "source": [
    "***Проверим полученное значение с помощью метода cdf, объекта NormalDist стандартного модуля statistics***"
   ]
  },
  {
   "cell_type": "code",
   "execution_count": 33,
   "id": "d9ccb356",
   "metadata": {},
   "outputs": [
    {
     "data": {
      "text/plain": [
       "0.0241"
      ]
     },
     "execution_count": 33,
     "metadata": {},
     "output_type": "execute_result"
    }
   ],
   "source": [
    "P_e = (1- NormalDist().cdf(z_value (x_e_2,mu,sg)))+NormalDist().cdf(z_value (x_e_1,mu,sg))\n",
    "round (P_e,6)"
   ]
  },
  {
   "cell_type": "markdown",
   "id": "f48b4ad9",
   "metadata": {},
   "source": [
    "$P(X\\le150\\cup X\\ge 190)=0.0241$  "
   ]
  },
  {
   "cell_type": "markdown",
   "id": "3da2c3b9",
   "metadata": {},
   "source": [
    "**ё) не выше 150 см или не ниже 198 см.** Определим $Z$-значения для обоих показателей роста:"
   ]
  },
  {
   "cell_type": "code",
   "execution_count": 34,
   "id": "72741ba7",
   "metadata": {},
   "outputs": [],
   "source": [
    "x_ei_1 = 150 \n",
    "x_Z_1 = 0.00135 # известно из задания е)"
   ]
  },
  {
   "cell_type": "code",
   "execution_count": 35,
   "id": "f3dac4b3",
   "metadata": {},
   "outputs": [
    {
     "data": {
      "text/plain": [
       "3.0"
      ]
     },
     "execution_count": 35,
     "metadata": {},
     "output_type": "execute_result"
    }
   ],
   "source": [
    "x_ei_2 = 198 \n",
    "z_value (x_ei_2,mu,sg)"
   ]
  },
  {
   "cell_type": "markdown",
   "id": "f210a44a",
   "metadata": {},
   "source": [
    "По таблице 1, находим значение Z, которое равно **0.99865**, т.к. нам надо найти все значения не ниже 198, поэтому вычитаем из единицы полученное значение Z:"
   ]
  },
  {
   "cell_type": "code",
   "execution_count": 36,
   "id": "04692a57",
   "metadata": {},
   "outputs": [
    {
     "data": {
      "text/plain": [
       "0.00135"
      ]
     },
     "execution_count": 36,
     "metadata": {},
     "output_type": "execute_result"
    }
   ],
   "source": [
    "round (1 - 0.99865,6)"
   ]
  },
  {
   "cell_type": "markdown",
   "id": "1c9853f8",
   "metadata": {},
   "source": [
    "Найдем требуемый промежуток:"
   ]
  },
  {
   "cell_type": "code",
   "execution_count": 37,
   "id": "f26c1415",
   "metadata": {},
   "outputs": [
    {
     "data": {
      "text/plain": [
       "0.0027"
      ]
     },
     "execution_count": 37,
     "metadata": {},
     "output_type": "execute_result"
    }
   ],
   "source": [
    "x_ei_P = 0.00135 + 0.00135\n",
    "round (x_ei_P, 6)"
   ]
  },
  {
   "cell_type": "markdown",
   "id": "42e4ef28",
   "metadata": {},
   "source": [
    "***Проверим полученное значение с помощью метода cdf, объекта NormalDist стандартного модуля statistics***"
   ]
  },
  {
   "cell_type": "code",
   "execution_count": 38,
   "id": "4b2d9e4d",
   "metadata": {},
   "outputs": [
    {
     "data": {
      "text/plain": [
       "0.0027"
      ]
     },
     "execution_count": 38,
     "metadata": {},
     "output_type": "execute_result"
    }
   ],
   "source": [
    "P_ei = (1- NormalDist().cdf(z_value (x_ei_2,mu,sg)))+NormalDist().cdf(z_value (x_ei_1,mu,sg))\n",
    "round (P_ei,6)"
   ]
  },
  {
   "cell_type": "markdown",
   "id": "75b976c2",
   "metadata": {},
   "source": [
    "**$P(X\\le150\\cup X\\ge 198)=0.0027$**"
   ]
  },
  {
   "cell_type": "markdown",
   "id": "3572ba18",
   "metadata": {},
   "source": [
    "**ж) ниже 166 см.** Определим $Z$-значение:"
   ]
  },
  {
   "cell_type": "code",
   "execution_count": 39,
   "id": "0b384a9f",
   "metadata": {},
   "outputs": [
    {
     "data": {
      "text/plain": [
       "-1.0"
      ]
     },
     "execution_count": 39,
     "metadata": {},
     "output_type": "execute_result"
    }
   ],
   "source": [
    "x_g_1 = 166\n",
    "z_value (x_g_1,mu,sg)"
   ]
  },
  {
   "cell_type": "markdown",
   "id": "80e310f6",
   "metadata": {},
   "source": [
    "По таблице 2, находим значение Z, которое равно **0.15866**"
   ]
  },
  {
   "cell_type": "markdown",
   "id": "1c288007",
   "metadata": {},
   "source": [
    "***Проверим полученное значение с помощью метода cdf, объекта NormalDist стандартного модуля statistics***"
   ]
  },
  {
   "cell_type": "code",
   "execution_count": 40,
   "id": "d689bc36",
   "metadata": {},
   "outputs": [
    {
     "data": {
      "text/plain": [
       "0.15866"
      ]
     },
     "execution_count": 40,
     "metadata": {},
     "output_type": "execute_result"
    }
   ],
   "source": [
    "P_g = NormalDist().cdf(z_value (x_g_1,mu,sg))\n",
    "round (P_g,5)"
   ]
  },
  {
   "cell_type": "markdown",
   "id": "28ca8e4a",
   "metadata": {},
   "source": [
    "$P(X\\le166)=0.15866$  "
   ]
  },
  {
   "cell_type": "markdown",
   "id": "a669b639",
   "metadata": {},
   "source": [
    "<div class=\"alert alert-block alert-success\"><font size=3 color='b'><b>ОТВЕТ: </b><br> а) $P(X\\ge182)\\approx0.1587$; <br> \n",
    "   б) $P(X\\ge190)\\approx0.0228$;  <br>\n",
    "   в) $P(166\\le X\\le 190)\\approx0.8186$;  <br>\n",
    "   г) $P(166\\le X\\le 182)\\approx0.6827$; <br> \n",
    "   д) $P(158\\le X\\le 190)\\approx0.9545$;  <br>\n",
    "   е) $P(X\\le150\\cup X\\ge 190)\\approx0.0241$;  <br>\n",
    "   ё) $P(X\\le150\\cup X\\ge 198)\\approx0.0027$;  <br>\n",
    "   ж) $P(X\\le166)\\approx0.15866$;  </font></div>"
   ]
  },
  {
   "cell_type": "markdown",
   "id": "7e3a6901",
   "metadata": {},
   "source": [
    "---"
   ]
  },
  {
   "cell_type": "markdown",
   "id": "ea2408f5",
   "metadata": {},
   "source": [
    "## ЗАДАНИЕ 5. \n",
    "**На сколько сигм (средних квадратичных отклонений) отклоняется рост человека, равный 190 см, от математического ожидания роста в популяции, в которой M(X) = 178 см и D(X) = 25 кв.см?.<br><br>**"
   ]
  },
  {
   "cell_type": "markdown",
   "id": "13e8adf8",
   "metadata": {},
   "source": [
    "**<p style=\"text-align: center;\">\n",
    "    <font size=10 color=#32CD32><b>-------------------------------</b></font><br>\n",
    "    <font size=4.5 color=#3ac444>РЕШЕНИЕ:</font><br>\n",
    "<font size=10 color=#32CD32><b>-------------------------------</b></font></p>**"
   ]
  },
  {
   "cell_type": "markdown",
   "id": "bd3ea912",
   "metadata": {},
   "source": [
    "Воспользуемся формулой (3):"
   ]
  },
  {
   "cell_type": "markdown",
   "id": "b9c44f28",
   "metadata": {},
   "source": [
    "$\\displaystyle Z=\\frac{X-\\bar x}{\\sigma}=\\frac{190-178}{\\sqrt{25}}=\\frac{12}{5}$    "
   ]
  },
  {
   "cell_type": "code",
   "execution_count": 41,
   "id": "7d117fbe",
   "metadata": {},
   "outputs": [
    {
     "data": {
      "text/plain": [
       "2.4"
      ]
     },
     "execution_count": 41,
     "metadata": {},
     "output_type": "execute_result"
    }
   ],
   "source": [
    "Z=(190-178)/25**(1/2)\n",
    "Z   "
   ]
  },
  {
   "cell_type": "markdown",
   "id": "89d72ec8",
   "metadata": {},
   "source": [
    "<div class=\"alert alert-block alert-success\"><font size=3 color='b'><b>ОТВЕТ: </b><br> Рост человека, равный 190 см, отклоняется от математического ожидания роста в популяции, в которой M(X) = 178 см и D(X) = 25 кв.см на <b>2,4 сигмы.</b>  </font></div>"
   ]
  }
 ],
 "metadata": {
  "kernelspec": {
   "display_name": "Python 3 (ipykernel)",
   "language": "python",
   "name": "python3"
  },
  "language_info": {
   "codemirror_mode": {
    "name": "ipython",
    "version": 3
   },
   "file_extension": ".py",
   "mimetype": "text/x-python",
   "name": "python",
   "nbconvert_exporter": "python",
   "pygments_lexer": "ipython3",
   "version": "3.11.3"
  }
 },
 "nbformat": 4,
 "nbformat_minor": 5
}
