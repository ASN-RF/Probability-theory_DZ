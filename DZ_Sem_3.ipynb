{
 "cells": [
  {
   "cell_type": "markdown",
   "id": "1613a771",
   "metadata": {},
   "source": [
    "#  <p style=\"text-align: center;\">Практическое задание к Семинару 3.<br><br>Урок 3. EDA (exploratory data analysis) или Разведочный анализ.</p>"
   ]
  },
  {
   "cell_type": "code",
   "execution_count": 10,
   "id": "f670a9c8",
   "metadata": {},
   "outputs": [],
   "source": [
    "from math import factorial, exp"
   ]
  },
  {
   "cell_type": "code",
   "execution_count": 11,
   "id": "a1cad74d",
   "metadata": {},
   "outputs": [],
   "source": [
    "import numpy as np"
   ]
  },
  {
   "cell_type": "markdown",
   "id": "27a4f34a",
   "metadata": {},
   "source": [
    "**Формула вероятности:**\n",
    "<div class=\"alert alert-block alert-warning\"><font size=4 color=black><b>\n",
    "$\\displaystyle P(A)=\\frac{m}{n}$ (1)<br>, где $m$-число благоприятных исходов, $n$-общее число всех исходов.</b></font></div>"
   ]
  },
  {
   "cell_type": "markdown",
   "id": "854abb8a",
   "metadata": {},
   "source": [
    "**Формула подсчета количества сочетаний по $k$ элементов из множества $n$:**  \n",
    "<div class=\"alert alert-block alert-warning\"><font size=4 color=black><b>$\\displaystyle C^k_n=\\frac{n!}{k!(n-k)!}$ (2)</b></font></div>"
   ]
  },
  {
   "cell_type": "markdown",
   "id": "3a4d0712",
   "metadata": {},
   "source": [
    "**Формула Бернулли:**\n",
    "<div class=\"alert alert-block alert-warning\"><font size=4 color=black><b>$\\displaystyle P_{n}(X=k)=C^k_{n}p^{k}q^{n-k}$ (3)</b></font></div>"
   ]
  },
  {
   "cell_type": "markdown",
   "id": "6e6fec60",
   "metadata": {},
   "source": [
    "**Формула Пуассона:**\n",
    "<div class=\"alert alert-block alert-warning\"><font size=4 color=black><b>$\\displaystyle P_m=\\frac{\\lambda^m}{m!}\\cdot e^{-\\lambda}$ (4)<br>, где $\\lambda$ - среднее количество наступления события за определенную единицу измерений, и $\\lambda=p\\cdot n$.</b></font></div>"
   ]
  },
  {
   "cell_type": "markdown",
   "id": "2f9cfa56",
   "metadata": {},
   "source": [
    "Формулы:\n",
    "Среднеаифметическое\n",
    "СКО\n",
    "Дисперсия"
   ]
  },
  {
   "cell_type": "code",
   "execution_count": 2,
   "id": "4ac1d3a5",
   "metadata": {},
   "outputs": [],
   "source": [
    "def sochetaniy(n, k): #функция расчета количества сочетаний\n",
    "    return int(factorial(n) / (factorial(k) * factorial(n - k)))"
   ]
  },
  {
   "cell_type": "code",
   "execution_count": 3,
   "id": "73a995fe",
   "metadata": {},
   "outputs": [],
   "source": [
    "def bernylli(n, k, p): # Формула Бернулли\n",
    "    q = 1 - p;\n",
    "    return float(sochetaniy(n, k)*p**k*q**(n-k))"
   ]
  },
  {
   "cell_type": "code",
   "execution_count": 4,
   "id": "3b81cb22",
   "metadata": {},
   "outputs": [],
   "source": [
    "def pyassona (m,p,n): # Формула Пуассона\n",
    "    lambd=p*n\n",
    "    return (lambd**m)/factorial(m)*exp(-lambd)"
   ]
  },
  {
   "cell_type": "markdown",
   "id": "6d8a08d3",
   "metadata": {},
   "source": [
    "## ЗАДАНИЕ 1. \n",
    "**Даны значения зарплат из выборки выпускников: 100, 80, 75, 77, 89, 33, 45, 25, 65, 17, 30, 24, 57, 55, 70, 75, 65, 84, 90, 150. Посчитать (желательно без использования статистических методов наподобие std, var, mean) среднее арифметическое, среднее квадратичное отклонение, смещенную и несмещенную оценки дисперсий для данной выборки.**"
   ]
  },
  {
   "cell_type": "markdown",
   "id": "e2bd2a6a",
   "metadata": {},
   "source": [
    "**<p style=\"text-align: center;\">\n",
    "    <font size=10 color=#32CD32><b>-------------------------------</b></font><br>\n",
    "    <font size=4.5 color=#3ac444>РЕШЕНИЕ:</font><br>\n",
    "<font size=10 color=#32CD32><b>-------------------------------</b></font></p>**"
   ]
  },
  {
   "cell_type": "markdown",
   "id": "627068bb",
   "metadata": {},
   "source": [
    "<u>***Среднее арифметическое***</u>"
   ]
  },
  {
   "cell_type": "code",
   "execution_count": 71,
   "id": "9101ef1c",
   "metadata": {
    "scrolled": true
   },
   "outputs": [
    {
     "data": {
      "text/plain": [
       "65.3"
      ]
     },
     "execution_count": 71,
     "metadata": {},
     "output_type": "execute_result"
    }
   ],
   "source": [
    "ZP = [100, 80, 75, 77, 89, 33, 45, 25, 65, 17, 30, 24, 57, 55, 70, 75, 65, 84, 90, 150]\n",
    "total = 0      # или sum(ZP)\n",
    "for i in ZP:\n",
    "    total += i\n",
    "mean_ar = total/len(ZP)\n",
    "mean_ar                 # Средние арифметическое"
   ]
  },
  {
   "cell_type": "markdown",
   "id": "f993c151",
   "metadata": {},
   "source": [
    "<u>***Дисперсия***</u>"
   ]
  },
  {
   "cell_type": "code",
   "execution_count": 63,
   "id": "827adf79",
   "metadata": {},
   "outputs": [
    {
     "data": {
      "text/plain": [
       "950.11"
      ]
     },
     "execution_count": 63,
     "metadata": {},
     "output_type": "execute_result"
    }
   ],
   "source": [
    "total_var = 0\n",
    "for i in ZP:\n",
    "    total_var += (i-mean_ar)**2\n",
    "Variance_Bia = total_var/len(ZP) # Несмещенная дисперсия\n",
    "Variance"
   ]
  },
  {
   "cell_type": "code",
   "execution_count": 73,
   "id": "d4a5da98",
   "metadata": {
    "scrolled": true
   },
   "outputs": [
    {
     "data": {
      "text/plain": [
       "1000.1157894736842"
      ]
     },
     "execution_count": 73,
     "metadata": {},
     "output_type": "execute_result"
    }
   ],
   "source": [
    "Variance_Unb = total_var/(len(ZP)-1) # Cмещенная дисперсия\n",
    "Variance_Unb"
   ]
  },
  {
   "cell_type": "markdown",
   "id": "14c168a6",
   "metadata": {},
   "source": [
    "<u>***Среднее квадратичное отклонение***</u>"
   ]
  },
  {
   "cell_type": "code",
   "execution_count": 75,
   "id": "aecff94e",
   "metadata": {},
   "outputs": [
    {
     "data": {
      "text/plain": [
       "30.823854398825596"
      ]
     },
     "execution_count": 75,
     "metadata": {},
     "output_type": "execute_result"
    }
   ],
   "source": [
    "CKO = np.sqrt(Variance_Bia) # Variance_Bia**0.5\n",
    "CKO"
   ]
  },
  {
   "cell_type": "markdown",
   "id": "7461304a",
   "metadata": {},
   "source": [
    "<u>***ПРОВЕРКА С ПОМОЩЬЮ БИБЛИОТЕКИ NUMPY***</u>"
   ]
  },
  {
   "cell_type": "code",
   "execution_count": 43,
   "id": "51ef1eca",
   "metadata": {},
   "outputs": [
    {
     "data": {
      "text/plain": [
       "(20,)"
      ]
     },
     "execution_count": 43,
     "metadata": {},
     "output_type": "execute_result"
    }
   ],
   "source": [
    "ZP_np = np.array([100, 80, 75, 77, 89, 33, 45, 25, 65, 17, 30, 24, 57, 55, 70, 75, 65, 84, 90, 150])\n",
    "ZP_np.shape"
   ]
  },
  {
   "cell_type": "markdown",
   "id": "9c61b056",
   "metadata": {},
   "source": [
    "<u>***Среднее арифметическое***</u>"
   ]
  },
  {
   "cell_type": "code",
   "execution_count": 44,
   "id": "8a04e85a",
   "metadata": {},
   "outputs": [
    {
     "data": {
      "text/plain": [
       "65.3"
      ]
     },
     "execution_count": 44,
     "metadata": {},
     "output_type": "execute_result"
    }
   ],
   "source": [
    "ZP_np.mean() #Среднее арифметическое"
   ]
  },
  {
   "cell_type": "markdown",
   "id": "58b372ab",
   "metadata": {},
   "source": [
    "<u>***Дисперсия***</u>"
   ]
  },
  {
   "cell_type": "code",
   "execution_count": 49,
   "id": "65c0d943",
   "metadata": {},
   "outputs": [
    {
     "data": {
      "text/plain": [
       "950.11"
      ]
     },
     "execution_count": 49,
     "metadata": {},
     "output_type": "execute_result"
    }
   ],
   "source": [
    "np.var(ZP_np) # Несмещенная дисперсия"
   ]
  },
  {
   "cell_type": "code",
   "execution_count": 80,
   "id": "c75a489a",
   "metadata": {},
   "outputs": [
    {
     "data": {
      "text/plain": [
       "1000.116"
      ]
     },
     "execution_count": 80,
     "metadata": {},
     "output_type": "execute_result"
    }
   ],
   "source": [
    "round(np.var(ZP_np, ddof=1),3) # Cмещенная дисперсия"
   ]
  },
  {
   "cell_type": "markdown",
   "id": "793de769",
   "metadata": {},
   "source": [
    "<u>***Среднее квадратичное отклонение***</u>"
   ]
  },
  {
   "cell_type": "code",
   "execution_count": 81,
   "id": "15815ca3",
   "metadata": {},
   "outputs": [
    {
     "data": {
      "text/plain": [
       "30.824"
      ]
     },
     "execution_count": 81,
     "metadata": {},
     "output_type": "execute_result"
    }
   ],
   "source": [
    "round(np.std(ZP_np),3)"
   ]
  },
  {
   "cell_type": "markdown",
   "id": "4204da53",
   "metadata": {},
   "source": [
    "<div class=\"alert alert-block alert-success\"><font size=3 color='b'><b>ОТВЕТ: </b><br>Среднее арифметическое: 65.3<br>Cреднее квадратичное отклонение: 30.824<br>Несмещенная дисперсия: 950.11<br>Cмещенная дисперсия: 1000.116</font></div>"
   ]
  },
  {
   "cell_type": "markdown",
   "id": "fb8c5306",
   "metadata": {},
   "source": [
    "---"
   ]
  },
  {
   "cell_type": "markdown",
   "id": "e9dea642",
   "metadata": {},
   "source": [
    "## ЗАДАНИЕ 2. \n",
    "**В первом ящике находится 8 мячей, из которых 5 - белые. Во втором ящике - 12 мячей, из которых 5 белых. Из первого ящика вытаскивают случайным образом два мяча, из второго - 4. Какова вероятность того, что 3 мяча белые?**"
   ]
  },
  {
   "cell_type": "markdown",
   "id": "03745fc9",
   "metadata": {},
   "source": [
    "**<p style=\"text-align: center;\">\n",
    "    <font size=10 color=#32CD32><b>-------------------------------</b></font><br>\n",
    "    <font size=4.5 color=#3ac444>РЕШЕНИЕ:</font><br>\n",
    "<font size=10 color=#32CD32><b>-------------------------------</b></font></p>**"
   ]
  },
  {
   "cell_type": "markdown",
   "id": "bc886c98",
   "metadata": {},
   "source": [
    "Решаем по формуле 1, $\\displaystyle P(A)=\\frac{m}{n}$, т.к. из условия задачи имеются разные ящики, то вероятность будем рассчитывать для каждого ящика по отдельности. \n",
    "Общая вероятность будет находиться по формуле: $P(1,2,3)=P(1) + P(2) + P(3)$, для этого:<br>\n",
    "**1 сценарий (P(1))** - Из первого ящика вынули 2 белых мяча, тогда из второго 1 белый мяч:<br>\n",
    "1.1) Находим все благоприятные исходы в первом ящике (все сочетания белых мячей).  => $\\displaystyle C^2_{5}$<br>\n",
    "1.2) Находим все возможные исходы в первом ящике (все сочетания мячей).  => $\\displaystyle C^2_{8}$<br>\n",
    "1.3) Находим вероятность вытащить оба мяча подряд из первого ящика. => $P(A) = \\frac {C^2_{5}} {C^2_{8}}$<br>\n",
    "1.4) Находим все благоприятные исходы во втором ящике (вытащить 1 белый мяч).  => $\\displaystyle C^1_{5}$<br>\n",
    "1.5) Находим все возможные исходы во втором ящике (все сочетания мячей).  => $\\displaystyle C^4_{12}$<br>\n",
    "1.6) Находим вероятность вытащить оба не белых мяча подряд из второго ящика. => $P(B) = \\frac {C^2_{2}} {C^2_{11}}$<br>\n",
    "1.7) Находим вероятность того, что все мячи белые. => $P(1_{(A+B)})=P(A)\\cdot P(B)$\n",
    "\n",
    "**2 сценарий (P(2))** - Из каждого ящика вынули только 1 белый мяч и 1 НЕ белый мяч:<br>\n",
    "2.1) Находим все благоприятные исходы в первом ящике (все сочетания белых мячей).  => $\\displaystyle C^1_{7}$<br>\n",
    "2.2) Находим все благоприятные исходы в первом ящике (все сочетания НЕ белых мячей).  => $\\displaystyle C^1_{3}$<br>\n",
    "2.3) Находим все возможные исходы в первом ящике (все сочетания мячей).  => $\\displaystyle C^2_{10}$<br>\n",
    "2.4) Находим вероятность вытащить один белый и один НЕ белый мяч из первого ящика. => $P(A) = \\frac {C^1_{7}+C^1_{3}} {C^2_{10}}$<br>\n",
    "2.5) Находим все благоприятные исходы во втором ящике (все сочетания белых мячей).  => $\\displaystyle C^1_{9}$<br>\n",
    "2.6) Находим все благоприятные исходы во втором ящике (все сочетания НЕ белых мячей).  => $\\displaystyle C^1_{2}$<br>\n",
    "2.7) Находим все возможные исходы во втором ящике (все сочетания мячей).  => $\\displaystyle C^2_{11}$<br>\n",
    "2.8) Находим вероятность вытащить один белый и один НЕ белый мяч из второго ящика. => $P(B) = \\frac {C^1_{9}+C^1_{2}} {C^2_{11}}$<br>\n",
    "2.9) Находим вероятность того, что все мячи белые. => $P(2_{(A+B)})=P(A)\\cdot P(B)$\n",
    "\n",
    "**3 сценарий (P(3))** - Из второго ящика вынули 2 белых мяча, тогда из первого 0 белых мячей:<br>\n",
    "3.1) Находим все благоприятные исходы в первом ящике (все сочетания белых мячей).  => $\\displaystyle C^2_{3}$<br>\n",
    "3.2) Находим все возможные исходы в первом ящике (все сочетания мячей).  => $\\displaystyle C^2_{10}$<br>\n",
    "3.3) Находим вероятность вытащить оба мяча подряд из первого ящика. => $P(A) = \\frac {C^2_{3}} {C^2_{10}}$<br>\n",
    "3.4) Находим все благоприятные исходы во втором ящике (все сочетания белых мячей).  => $\\displaystyle C^2_{9}$<br>\n",
    "3.5) Находим все возможные исходы во втором ящике (все сочетания мячей).  => $\\displaystyle C^2_{11}$<br>\n",
    "3.6) Находим вероятность вытащить оба не белых мяча подряд из второго ящика. => $P(B) = \\frac {C^2_{9}} {C^2_{11}}$<br>\n",
    "3.7) Находим вероятность того, что все мячи белые. => $P(3_{(A+B)})=P(A)\\cdot P(B)$<br><br>\n",
    "\n",
    "Находим вероятность того, что ровно два белых мяча:<br> 1 сценарий **ИЛИ** 2 сценарий **ИЛИ** 3 сценарий => **ИЛИ** = \"+\"<br>\n",
    "P(1,2,3) = 1 сценарий **+** 2 сценарий **+** 3 сценарий\n"
   ]
  },
  {
   "cell_type": "code",
   "execution_count": null,
   "id": "4669f8da",
   "metadata": {},
   "outputs": [],
   "source": []
  }
 ],
 "metadata": {
  "kernelspec": {
   "display_name": "Python 3 (ipykernel)",
   "language": "python",
   "name": "python3"
  },
  "language_info": {
   "codemirror_mode": {
    "name": "ipython",
    "version": 3
   },
   "file_extension": ".py",
   "mimetype": "text/x-python",
   "name": "python",
   "nbconvert_exporter": "python",
   "pygments_lexer": "ipython3",
   "version": "3.11.3"
  }
 },
 "nbformat": 4,
 "nbformat_minor": 5
}
