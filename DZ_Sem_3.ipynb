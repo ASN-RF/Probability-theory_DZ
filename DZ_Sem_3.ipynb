{
 "cells": [
  {
   "cell_type": "markdown",
   "id": "1613a771",
   "metadata": {},
   "source": [
    "#  <p style=\"text-align: center;\">Практическое задание к Семинару 3.<br><br>Урок 3. EDA (exploratory data analysis) или Разведочный анализ.</p>"
   ]
  },
  {
   "cell_type": "code",
   "execution_count": 2,
   "id": "f670a9c8",
   "metadata": {},
   "outputs": [],
   "source": [
    "from math import factorial, exp"
   ]
  },
  {
   "cell_type": "code",
   "execution_count": 3,
   "id": "a1cad74d",
   "metadata": {},
   "outputs": [],
   "source": [
    "import numpy as np"
   ]
  },
  {
   "cell_type": "markdown",
   "id": "27a4f34a",
   "metadata": {},
   "source": [
    "**Формула вероятности:**\n",
    "<div class=\"alert alert-block alert-warning\"><font size=4 color=black><b>\n",
    "$\\displaystyle P(A)=\\frac{m}{n}$ (1)<br>, где $m$-число благоприятных исходов, $n$-общее число всех исходов.</b></font></div>"
   ]
  },
  {
   "cell_type": "markdown",
   "id": "854abb8a",
   "metadata": {},
   "source": [
    "**Формула подсчета количества сочетаний по $k$ элементов из множества $n$:**  \n",
    "<div class=\"alert alert-block alert-warning\"><font size=4 color=black><b>$\\displaystyle C^k_n=\\frac{n!}{k!(n-k)!}$ (2)</b></font></div>"
   ]
  },
  {
   "cell_type": "markdown",
   "id": "3a4d0712",
   "metadata": {},
   "source": [
    "**Формула Бернулли:**\n",
    "<div class=\"alert alert-block alert-warning\"><font size=4 color=black><b>$\\displaystyle P_{n}(X=k)=C^k_{n}p^{k}q^{n-k}$ (3)</b></font></div>"
   ]
  },
  {
   "cell_type": "markdown",
   "id": "6e6fec60",
   "metadata": {},
   "source": [
    "**Формула Пуассона:**\n",
    "<div class=\"alert alert-block alert-warning\"><font size=4 color=black><b>$\\displaystyle P_m=\\frac{\\lambda^m}{m!}\\cdot e^{-\\lambda}$ (4)<br>, где $\\lambda$ - среднее количество наступления события за определенную единицу измерений, и $\\lambda=p\\cdot n$.</b></font></div>"
   ]
  },
  {
   "cell_type": "markdown",
   "id": "7cf438f3",
   "metadata": {},
   "source": [
    "**Среднее арифметическое:**\n",
    "<div class=\"alert alert-block alert-warning\"><font size=4 color=black><b>$\\displaystyle M(X)=\\frac{1}{n}\\sum^n_{i=1}x_i$ (5)</b></font></div>"
   ]
  },
  {
   "cell_type": "markdown",
   "id": "6f3db42a",
   "metadata": {},
   "source": [
    "**Среднее квадратичное отклонение (СКО) выборки:**\n",
    "<div class=\"alert alert-block alert-warning\"><font size=4 color=black><b>$\\sigma=\\sqrt{\\frac{\\displaystyle\\sum^n_{i=1}(x_{i}-\\bar x)^2}{n}}$ (6)</b></font></div>"
   ]
  },
  {
   "cell_type": "markdown",
   "id": "6c888d07",
   "metadata": {},
   "source": [
    "**Смещенная дисперсия:**\n",
    "<div class=\"alert alert-block alert-warning\"><font size=4 color=black><b>$\\sigma^2=\\frac{\\displaystyle\\sum^n_{i=1}(x_{i}-\\bar x)^2}{n}$ (7)</b></font></div>"
   ]
  },
  {
   "cell_type": "markdown",
   "id": "14e47df4",
   "metadata": {},
   "source": [
    "**Несмещенная дисперсия:**\n",
    "<div class=\"alert alert-block alert-warning\"><font size=4 color=black><b>$\\sigma^2=\\frac{\\displaystyle\\sum^n_{i=1}(x_{i}-\\bar x)^2}{n-1}$ (8)</b></font></div>"
   ]
  },
  {
   "cell_type": "markdown",
   "id": "f3823545",
   "metadata": {},
   "source": [
    "**Формула Баеса:**\n",
    "<div class=\"alert alert-block alert-warning\"><font size=4 color=black><b>$P_A(B_n)=\\frac{P(B_n)\\cdot P_{B_n}(A)}{P(A)}$ (9)</b></font></div>\n"
   ]
  },
  {
   "cell_type": "code",
   "execution_count": 4,
   "id": "4ac1d3a5",
   "metadata": {},
   "outputs": [],
   "source": [
    "def sochetaniy(n, k): #функция расчета количества сочетаний\n",
    "    return int(factorial(n) / (factorial(k) * factorial(n - k)))"
   ]
  },
  {
   "cell_type": "code",
   "execution_count": 5,
   "id": "73a995fe",
   "metadata": {},
   "outputs": [],
   "source": [
    "def bernylli(n, k, p): # Формула Бернулли\n",
    "    q = 1 - p;\n",
    "    return float(sochetaniy(n, k)*p**k*q**(n-k))"
   ]
  },
  {
   "cell_type": "code",
   "execution_count": 6,
   "id": "3b81cb22",
   "metadata": {},
   "outputs": [],
   "source": [
    "def pyassona (m,p,n): # Формула Пуассона\n",
    "    lambd=p*n\n",
    "    return (lambd**m)/factorial(m)*exp(-lambd)"
   ]
  },
  {
   "cell_type": "markdown",
   "id": "6d8a08d3",
   "metadata": {},
   "source": [
    "## ЗАДАНИЕ 1. \n",
    "**Даны значения зарплат из выборки выпускников: 100, 80, 75, 77, 89, 33, 45, 25, 65, 17, 30, 24, 57, 55, 70, 75, 65, 84, 90, 150. Посчитать (желательно без использования статистических методов наподобие std, var, mean) среднее арифметическое, среднее квадратичное отклонение, смещенную и несмещенную оценки дисперсий для данной выборки.**"
   ]
  },
  {
   "cell_type": "markdown",
   "id": "e2bd2a6a",
   "metadata": {},
   "source": [
    "**<p style=\"text-align: center;\">\n",
    "    <font size=10 color=#32CD32><b>-------------------------------</b></font><br>\n",
    "    <font size=4.5 color=#3ac444>РЕШЕНИЕ:</font><br>\n",
    "<font size=10 color=#32CD32><b>-------------------------------</b></font></p>**"
   ]
  },
  {
   "cell_type": "markdown",
   "id": "627068bb",
   "metadata": {},
   "source": [
    "<u>***Среднее арифметическое***</u>"
   ]
  },
  {
   "cell_type": "code",
   "execution_count": 7,
   "id": "9101ef1c",
   "metadata": {
    "scrolled": true
   },
   "outputs": [
    {
     "data": {
      "text/plain": [
       "65.3"
      ]
     },
     "execution_count": 7,
     "metadata": {},
     "output_type": "execute_result"
    }
   ],
   "source": [
    "ZP = [100, 80, 75, 77, 89, 33, 45, 25, 65, 17, 30, 24, 57, 55, 70, 75, 65, 84, 90, 150]\n",
    "total = 0      # или sum(ZP)\n",
    "for i in ZP:\n",
    "    total += i\n",
    "mean_ar = total/len(ZP)\n",
    "mean_ar                 # Средние арифметическое"
   ]
  },
  {
   "cell_type": "markdown",
   "id": "f993c151",
   "metadata": {},
   "source": [
    "<u>***Дисперсия***</u>"
   ]
  },
  {
   "cell_type": "code",
   "execution_count": 11,
   "id": "827adf79",
   "metadata": {},
   "outputs": [
    {
     "data": {
      "text/plain": [
       "950.11"
      ]
     },
     "execution_count": 11,
     "metadata": {},
     "output_type": "execute_result"
    }
   ],
   "source": [
    "total_var = 0\n",
    "for i in ZP:\n",
    "    total_var += (i-mean_ar)**2\n",
    "Variance_Bia = total_var/len(ZP) # Несмещенная дисперсия\n",
    "Variance_Bia"
   ]
  },
  {
   "cell_type": "code",
   "execution_count": 12,
   "id": "d4a5da98",
   "metadata": {
    "scrolled": true
   },
   "outputs": [
    {
     "data": {
      "text/plain": [
       "1000.1157894736842"
      ]
     },
     "execution_count": 12,
     "metadata": {},
     "output_type": "execute_result"
    }
   ],
   "source": [
    "Variance_Unb = total_var/(len(ZP)-1) # Cмещенная дисперсия\n",
    "Variance_Unb"
   ]
  },
  {
   "cell_type": "markdown",
   "id": "14c168a6",
   "metadata": {},
   "source": [
    "<u>***Среднее квадратичное отклонение***</u>"
   ]
  },
  {
   "cell_type": "code",
   "execution_count": 13,
   "id": "aecff94e",
   "metadata": {},
   "outputs": [
    {
     "data": {
      "text/plain": [
       "30.823854398825596"
      ]
     },
     "execution_count": 13,
     "metadata": {},
     "output_type": "execute_result"
    }
   ],
   "source": [
    "CKO = np.sqrt(Variance_Bia) # Variance_Bia**0.5\n",
    "CKO"
   ]
  },
  {
   "cell_type": "markdown",
   "id": "7461304a",
   "metadata": {},
   "source": [
    "<u>***ПРОВЕРКА С ПОМОЩЬЮ БИБЛИОТЕКИ NUMPY***</u>"
   ]
  },
  {
   "cell_type": "code",
   "execution_count": 14,
   "id": "51ef1eca",
   "metadata": {},
   "outputs": [
    {
     "data": {
      "text/plain": [
       "(20,)"
      ]
     },
     "execution_count": 14,
     "metadata": {},
     "output_type": "execute_result"
    }
   ],
   "source": [
    "ZP_np = np.array([100, 80, 75, 77, 89, 33, 45, 25, 65, 17, 30, 24, 57, 55, 70, 75, 65, 84, 90, 150])\n",
    "ZP_np.shape"
   ]
  },
  {
   "cell_type": "markdown",
   "id": "9c61b056",
   "metadata": {},
   "source": [
    "<u>***Среднее арифметическое***</u>"
   ]
  },
  {
   "cell_type": "code",
   "execution_count": 15,
   "id": "8a04e85a",
   "metadata": {},
   "outputs": [
    {
     "data": {
      "text/plain": [
       "65.3"
      ]
     },
     "execution_count": 15,
     "metadata": {},
     "output_type": "execute_result"
    }
   ],
   "source": [
    "ZP_np.mean() #Среднее арифметическое"
   ]
  },
  {
   "cell_type": "markdown",
   "id": "58b372ab",
   "metadata": {},
   "source": [
    "<u>***Дисперсия***</u>"
   ]
  },
  {
   "cell_type": "code",
   "execution_count": 16,
   "id": "65c0d943",
   "metadata": {},
   "outputs": [
    {
     "data": {
      "text/plain": [
       "950.11"
      ]
     },
     "execution_count": 16,
     "metadata": {},
     "output_type": "execute_result"
    }
   ],
   "source": [
    "np.var(ZP_np) # Несмещенная дисперсия"
   ]
  },
  {
   "cell_type": "code",
   "execution_count": 17,
   "id": "c75a489a",
   "metadata": {},
   "outputs": [
    {
     "data": {
      "text/plain": [
       "1000.116"
      ]
     },
     "execution_count": 17,
     "metadata": {},
     "output_type": "execute_result"
    }
   ],
   "source": [
    "round(np.var(ZP_np, ddof=1),3) # Cмещенная дисперсия"
   ]
  },
  {
   "cell_type": "markdown",
   "id": "793de769",
   "metadata": {},
   "source": [
    "<u>***Среднее квадратичное отклонение***</u>"
   ]
  },
  {
   "cell_type": "code",
   "execution_count": 18,
   "id": "15815ca3",
   "metadata": {},
   "outputs": [
    {
     "data": {
      "text/plain": [
       "30.824"
      ]
     },
     "execution_count": 18,
     "metadata": {},
     "output_type": "execute_result"
    }
   ],
   "source": [
    "round(np.std(ZP_np),3)"
   ]
  },
  {
   "cell_type": "markdown",
   "id": "4204da53",
   "metadata": {},
   "source": [
    "<div class=\"alert alert-block alert-success\"><font size=3 color='b'><b>ОТВЕТ: </b><br>Среднее арифметическое: М(Х) = 65.3<br>Cреднее квадратичное отклонение: $\\sigma = 30.8239$<br>Несмещенная дисперсия: $\\sigma^2_{\\text{смещ}}=950.11$<br>Cмещенная дисперсия: $\\sigma^2_{\\text{несмещ}}=1000.116$"
   ]
  },
  {
   "cell_type": "markdown",
   "id": "fb8c5306",
   "metadata": {},
   "source": [
    "---"
   ]
  },
  {
   "cell_type": "markdown",
   "id": "e9dea642",
   "metadata": {},
   "source": [
    "## ЗАДАНИЕ 2. \n",
    "**В первом ящике находится 8 мячей, из которых 5 - белые. Во втором ящике - 12 мячей, из которых 5 белых. Из первого ящика вытаскивают случайным образом два мяча, из второго - 4. Какова вероятность того, что 3 мяча белые?**"
   ]
  },
  {
   "cell_type": "markdown",
   "id": "03745fc9",
   "metadata": {},
   "source": [
    "**<p style=\"text-align: center;\">\n",
    "    <font size=10 color=#32CD32><b>-------------------------------</b></font><br>\n",
    "    <font size=4.5 color=#3ac444>РЕШЕНИЕ:</font><br>\n",
    "<font size=10 color=#32CD32><b>-------------------------------</b></font></p>**"
   ]
  },
  {
   "cell_type": "markdown",
   "id": "bc886c98",
   "metadata": {},
   "source": [
    "Решаем по формуле 1, $\\displaystyle P(A)=\\frac{m}{n}$, т.к. из условия задачи имеются разные ящики, то вероятность будем рассчитывать для каждого ящика по отдельности. \n",
    "Общая вероятность будет находиться по формуле: $P(1,2,3)=P(1) + P(2) + P(3)$, для этого:<br>\n",
    "**1 сценарий (P(1))** - Из первого ящика вынули 2 белых мяча, тогда из второго 1 белый мяч:<br>\n",
    "1.1) Находим все благоприятные исходы в первом ящике (все сочетания белых мячей).  => $\\displaystyle C^2_{5}$<br>\n",
    "1.2) Находим все возможные исходы в первом ящике (все сочетания мячей).  => $\\displaystyle C^2_{8}$<br>\n",
    "1.3) Находим вероятность вытащить оба мяча подряд из первого ящика. => $P(A) = \\frac {C^2_{5}} {C^2_{8}}$<br>\n",
    "1.4) Находим все благоприятные исходы во втором ящике (вытащить 1 белый мяч).  => $\\displaystyle C^1_{5}$<br>\n",
    "1.5) Находим все благоприятные исходы во втором ящике (вытащить 3 НЕ белый мяч).  => $\\displaystyle C^3_{7}$<br>\n",
    "1.6) Находим все возможные исходы во втором ящике (все сочетания мячей).  => $\\displaystyle C^4_{12}$<br>\n",
    "1.7) Находим вероятность вытащить только 1 белый мяч из второго ящика. => $P(B) = \\frac {C^1_{5}*C^3_{7}} {C^4_{12}}$<br>\n",
    "1.8) Находим вероятность того, что 3 мяча белые. => $P(1_{(A+B)})=P(A)\\cdot P(B)$\n",
    "\n",
    "**2 сценарий (P(2))** - Из первого ящика вынули только 1 белый мяч и 1 НЕ белый мяч, тогда из второго ящика вынули 2 белых и 2 НЕ белых мяча:<br>\n",
    "2.1) Находим все благоприятные исходы в первом ящике (все сочетания белых мячей).  => $\\displaystyle C^1_{5}$<br>\n",
    "2.2) Находим все благоприятные исходы в первом ящике (все сочетания НЕ белых мячей).  => $\\displaystyle C^1_{3}$<br>\n",
    "2.3) Находим все возможные исходы в первом ящике (все сочетания мячей).  => $\\displaystyle C^2_{8}$<br>\n",
    "2.4) Находим вероятность вытащить один белый и один НЕ белый мяч из первого ящика. => $P(A) = \\frac {C^1_{5}+C^1_{3}} {C^2_{8}}$<br>\n",
    "2.5) Находим все благоприятные исходы во втором ящике (2 белых мячя).  => $\\displaystyle C^2_{5}$<br>\n",
    "2.6) Находим все благоприятные исходы во втором ящике (сочетания 2 НЕ белых мячей).  => $\\displaystyle C^2_{7}$<br>\n",
    "2.7) Находим все возможные исходы во втором ящике (все сочетания мячей).  => $\\displaystyle C^4_{12}$<br>\n",
    "2.8) Находим вероятность вытащить два белый и два НЕ белый мяча из второго ящика. => $P(B) = \\frac {C^2_{5}*C^2_{7}} {C^4_{12}}$<br>\n",
    "2.9) Находим вероятность того, что все мячи белые. => $P(2_{(A+B)})=P(A)\\cdot P(B)$\n",
    "\n",
    "**3 сценарий (P(3))** - Из второго ящика вынули 3 белых мяча, тогда из первого 0 белых мячей:<br>\n",
    "3.1) Находим все благоприятные исходы в первом ящике (все сочетания НЕ белых мячей).  => $\\displaystyle C^2_{3}$<br>\n",
    "3.2) Находим все возможные исходы в первом ящике (все сочетания мячей).  => $\\displaystyle C^2_{8}$<br>\n",
    "3.3) Находим вероятность вытащить оба НЕ белых мяча подряд из первого ящика. => $P(A) = \\frac {C^2_{3}} {C^2_{8}}$<br>\n",
    "3.4) Находим все благоприятные исходы во втором ящике (все сочетания белых мячей).  => $\\displaystyle C^3_{5}$<br>\n",
    "3.5) Находим все благоприятные исходы во втором ящике (все сочетания НЕ белых мячей).  => $\\displaystyle C^1_{7}$<br>\n",
    "3.5) Находим все возможные исходы во втором ящике (все сочетания мячей).  => $\\displaystyle C^2_{12}$<br>\n",
    "3.6) Находим вероятность вытащить 3 белых мяча и один НЕ белый мяч из второго ящика. => $P(B) = \\frac {C^3_{5}*C^1_{7}} {C^4_{12}}$<br>\n",
    "3.7) Находим вероятность того, что все мячи белые. => $P(3_{(A+B)})=P(A)\\cdot P(B)$<br><br>\n",
    "\n",
    "Находим вероятность того, что ровно два белых мяча:<br> 1 сценарий **ИЛИ** 2 сценарий **ИЛИ** 3 сценарий => **ИЛИ** = \"+\"<br>\n",
    "P(1,2,3) = 1 сценарий **+** 2 сценарий **+** 3 сценарий\n"
   ]
  },
  {
   "cell_type": "code",
   "execution_count": 19,
   "id": "4669f8da",
   "metadata": {},
   "outputs": [],
   "source": [
    "#Дано:\n",
    "n_1 = 8\n",
    "n_1_bel = 5\n",
    "n_1_NO_bel = n_1 - n_1_bel\n",
    "\n",
    "n_2 = 12\n",
    "n_2_bel = 5\n",
    "n_2_NO_bel = n_2 - n_2_bel\n",
    "\n",
    "k_4 = 4\n",
    "k_3 = 3\n",
    "k_2 = 2\n",
    "k_1 = 1"
   ]
  },
  {
   "cell_type": "code",
   "execution_count": 20,
   "id": "5d38ae52",
   "metadata": {},
   "outputs": [
    {
     "data": {
      "text/plain": [
       "0.12626262626262627"
      ]
     },
     "execution_count": 20,
     "metadata": {},
     "output_type": "execute_result"
    }
   ],
   "source": [
    "P_1 = sochetaniy(n_1_bel, k_2)/sochetaniy(n_1, k_2) * (sochetaniy(n_2_bel, k_1) * sochetaniy(n_2_NO_bel, k_3))/sochetaniy(n_2, k_4)\n",
    "P_1"
   ]
  },
  {
   "cell_type": "code",
   "execution_count": 21,
   "id": "c2455cab",
   "metadata": {},
   "outputs": [
    {
     "data": {
      "text/plain": [
       "0.22727272727272727"
      ]
     },
     "execution_count": 21,
     "metadata": {},
     "output_type": "execute_result"
    }
   ],
   "source": [
    "P_2 = (sochetaniy(n_1_bel, k_1) * sochetaniy(n_1_NO_bel, k_1))/sochetaniy(n_1, k_2) * (sochetaniy(n_2_bel, k_2) * sochetaniy(n_2_NO_bel, k_2))/sochetaniy(n_2, k_4)\n",
    "P_2"
   ]
  },
  {
   "cell_type": "code",
   "execution_count": 22,
   "id": "105adb12",
   "metadata": {},
   "outputs": [
    {
     "data": {
      "text/plain": [
       "0.015151515151515152"
      ]
     },
     "execution_count": 22,
     "metadata": {},
     "output_type": "execute_result"
    }
   ],
   "source": [
    "P_3 = sochetaniy(n_1_NO_bel, k_2)/sochetaniy(n_1, k_2) * (sochetaniy(n_2_bel, k_3) * sochetaniy(n_2_NO_bel, k_1))/sochetaniy(n_2, k_4)\n",
    "P_3"
   ]
  },
  {
   "cell_type": "code",
   "execution_count": 23,
   "id": "7c848f24",
   "metadata": {},
   "outputs": [
    {
     "data": {
      "text/plain": [
       "0.3686868686868687"
      ]
     },
     "execution_count": 23,
     "metadata": {},
     "output_type": "execute_result"
    }
   ],
   "source": [
    "P = P_1 + P_2 + P_3\n",
    "P"
   ]
  },
  {
   "cell_type": "markdown",
   "id": "c5400710",
   "metadata": {},
   "source": [
    "<div class=\"alert alert-block alert-success\"><font size=3 color='b'><b>ОТВЕТ: </b><br>Вероятность того, что 3 мяча белые: $P\\approx0.3687\\approx36.87\\%$</font></div>"
   ]
  },
  {
   "cell_type": "markdown",
   "id": "3f56aaca",
   "metadata": {},
   "source": [
    "---"
   ]
  },
  {
   "cell_type": "markdown",
   "id": "df2e1bef",
   "metadata": {},
   "source": [
    "## ЗАДАНИЕ 3. \n",
    "**На соревновании по биатлону один из трех спортсменов стреляет и попадает в мишень. Вероятность попадания для первого спортсмена равна 0.9, для второго — 0.8, для третьего — 0.6. Найти вероятность того, что выстрел произведен:<br>а) первым спортсменом?<br>б) вторым спортсменом?<br>в) третьим спортсменом?**"
   ]
  },
  {
   "cell_type": "markdown",
   "id": "979971ec",
   "metadata": {},
   "source": [
    "**<p style=\"text-align: center;\">\n",
    "    <font size=10 color=#32CD32><b>-------------------------------</b></font><br>\n",
    "    <font size=4.5 color=#3ac444>РЕШЕНИЕ:</font><br>\n",
    "<font size=10 color=#32CD32><b>-------------------------------</b></font></p>**"
   ]
  },
  {
   "cell_type": "markdown",
   "id": "3de56e76",
   "metadata": {},
   "source": [
    "**Дано:**<br>\n",
    "$A$ - в результате выстрела, цель поражена;  \n",
    "$B_1$ - выстрел произведен первым спортсменом;  \n",
    "$B_2$ - выстрел произведен вторым спортсменом;  \n",
    "$B_3$ - выстрел произведен третьим спортсменом.\n",
    "Т.к. выстрел, в результате которого цель будет поражена, может произвести любой из спортсменов, то эти события равновероятны и составляют полную группу событий. $\\Rightarrow P(B_1)=P(B_2)=P(B_3)=\\frac{1}{3}$ (1 попадание и 3 спортсмена).<br>\n",
    "Вероятность того, что произошло событие $A$, при условии наступления события $B_n$ даны в условии задачи, т.е.<br>$P_{B_1}(A)=0.9,$<br>$P_{B_2}(A)=0.8,$<br>$P_{B_3}(A)=0.6$,<br>по формуле **полной** вероятности, вероятность наступления события:<br> $A$ - $P(A)=P(B_1)\\cdot P_{B_1}(A)+P(B_2)\\cdot P_{B_2}(A)+P(B_3)\\cdot P_{B_3}(A)=\\frac{1}{3}\\cdot 0.9+\\frac{1}{3}\\cdot 0.8+\\frac{1}{3}\\cdot 0.6$  "
   ]
  },
  {
   "cell_type": "code",
   "execution_count": 39,
   "id": "c87640a8",
   "metadata": {},
   "outputs": [
    {
     "name": "stdout",
     "output_type": "stream",
     "text": [
      "Полная вероятность наступления события А Р(А) =  0.7667\n"
     ]
    }
   ],
   "source": [
    "P_B=1/3\n",
    "P_A=P_B*0.9+P_B*0.8+P_B*0.6\n",
    "print(f'Полная вероятность наступления события А Р(А) = {PA: .4f}')"
   ]
  },
  {
   "cell_type": "markdown",
   "id": "27f7e114",
   "metadata": {},
   "source": [
    "Используя формулу **Байеса** (9), найдем оценку вероятности того, что могло произойти одно из событий $B_n$:\n",
    "$P_A(B_1)=\\frac{\\frac{1}{3}\\cdot 0.9}{0.7667}\\\\P_A(B_2)=\\frac{\\frac{1}{3}\\cdot 0.8}{0.7667}\\\\P_A(B_1)=\\frac{\\frac{1}{3}\\cdot 0.6}{0.7667}$  "
   ]
  },
  {
   "cell_type": "code",
   "execution_count": 41,
   "id": "2d911a19",
   "metadata": {},
   "outputs": [
    {
     "name": "stdout",
     "output_type": "stream",
     "text": [
      "Вероятность того, что выстрел произвёл первый спортсмен:  0.3913;\n",
      "Вероятность того, что выстрел произвёл второй спортсмен:  0.3478;\n",
      "Вероятность того, что выстрел произвёл третий спортсмен:  0.2609.\n"
     ]
    }
   ],
   "source": [
    "P_AB_1=P_B*0.9/P_A\n",
    "P_AB_2=P_B*0.8/P_A\n",
    "P_AB_3=P_B*0.6/P_A\n",
    "print(f'Вероятность того, что выстрел произвёл первый спортсмен: {P_AB_1: .4f};\\n'\n",
    "      f'Вероятность того, что выстрел произвёл второй спортсмен: {P_AB_2: .4f};\\n'\n",
    "      f'Вероятность того, что выстрел произвёл третий спортсмен: {P_AB_3: .4f}.'\n",
    "     )"
   ]
  },
  {
   "cell_type": "markdown",
   "id": "261d6695",
   "metadata": {},
   "source": [
    "<div class=\"alert alert-block alert-success\"><font size=3 color='b'><b>ОТВЕТ: </b><br>а) Вероятность того, что выстрел произвёл первый спортсмен: $P_{A}(B_1)\\approx0.3913\\approx39.13\\%$;<br>\n",
    "б) Вероятность того, что выстрел произвёл второй спортсмен: $P_{A}(B_2)\\approx0.3478\\approx34.78\\%$;<br> \n",
    "в) Вероятность того, что выстрел произвёл третий спортсмен: $P_{A}(B_3)\\approx0.2609\\approx26.09\\%$.</font></div>"
   ]
  },
  {
   "cell_type": "markdown",
   "id": "c8851e89",
   "metadata": {},
   "source": [
    "---"
   ]
  },
  {
   "cell_type": "markdown",
   "id": "a1e23390",
   "metadata": {},
   "source": [
    "## ЗАДАНИЕ 4. \n",
    "**В университет на факультеты A и B поступило равное количество студентов, а на факультет C студентов поступило столько же, сколько на A и B вместе. Вероятность того, что студент факультета A сдаст первую сессию, равна 0.8. Для студента факультета B эта вероятность равна 0.7, а для студента факультета C - 0.9. Студент сдал первую сессию. Какова вероятность, что он учится:<br>а) на факультете A?<br>б) на факультете B?<br>в) на факультете C?**"
   ]
  },
  {
   "cell_type": "markdown",
   "id": "80f821fa",
   "metadata": {},
   "source": [
    "**<p style=\"text-align: center;\">\n",
    "    <font size=10 color=#32CD32><b>-------------------------------</b></font><br>\n",
    "    <font size=4.5 color=#3ac444>РЕШЕНИЕ:</font><br>\n",
    "<font size=10 color=#32CD32><b>-------------------------------</b></font></p>**"
   ]
  },
  {
   "cell_type": "markdown",
   "id": "c31c96e3",
   "metadata": {},
   "source": [
    "**Дано:**<br>\n",
    "$x$ - количество стедентов на факультете А и В;<br>\n",
    "$2x$ - количество стедентов на факультете С;<br>\n",
    "$Yra$ - сессия сдана;<br>\n",
    "$Sdal_A$ - сессию сдал студент факультета A;<br>\n",
    "$Sdal_B$ - сессию сдал студент факультета B;<br>\n",
    "$Sdal_C$ - сессию сдал студент факультета C;<br>\n",
    "Сдать первую сессию должен один из студентов факультетов, чтобы наступило событе Yra, тогда  $\\Rightarrow P(Sdal_A)+P(Sdal_B)+P(Sdal_C)=1$ - образуют полную группу событий:  \n",
    "$\\frac{1}{n}+\\frac{1}{n}+\\frac{1}{2n}=1\\Rightarrow n=2.5\\\\\\Rightarrow P(Sdal_A)=\\frac{1}{n}=0.25, P(Sdal_B)=\\frac{1}{n}=0.25, P(Sdal_C)=\\frac{1}{2n}=0.5$  \n",
    "Вероятности наступления события \"сессия сдана\" ($Yra$), при условии что произошло одно из событий сессию сдал студент одного из факультетов $Sdal_n$ известны из условия задачи.  \n",
    "Полная вероятность сдачи первой сессии студентом одного из факультетов исходя из формулы **полной** вероятности:  \n",
    "$P(Yra)=0.25\\cdot 0.8+0.25\\cdot 0.7+0.5\\cdot 0.9$"
   ]
  },
  {
   "cell_type": "code",
   "execution_count": 48,
   "id": "c68993d9",
   "metadata": {},
   "outputs": [
    {
     "name": "stdout",
     "output_type": "stream",
     "text": [
      "Полная вероятность сдачи сесссии студентом одного из факультетов, P(Yra) = 0.825.\n"
     ]
    }
   ],
   "source": [
    "P_Yra=0.25*0.8+0.25*0.7+0.5*0.9\n",
    "print(f'Полная вероятность сдачи сесссии студентом одного из факультетов, P(Yra) = {P_Yra}.')"
   ]
  },
  {
   "cell_type": "markdown",
   "id": "965b25ee",
   "metadata": {},
   "source": [
    "Используя формулу **Байеса** (9), найдем вероятность того, на каком факультете учиться студент сдавший сессию:<br>\n",
    "$P_{𝑌𝑟𝑎}(Sdal_A)=\\frac{P(SdalS_A)\\cdot P_{Sdal_A}(𝑌𝑟𝑎)}{P(𝑌𝑟𝑎)}$ студент учится на факультете А  <br>\n",
    "$P_{𝑌𝑟𝑎}(Sdal_B)=\\frac{P(Sdal_B)\\cdot P_{Sdal_B}(𝑌𝑟𝑎)}{P(𝑌𝑟𝑎)}$ студент учится на факультете В  <br>\n",
    "$P_{𝑌𝑟𝑎}(Sdal_C)=\\frac{P(Sdal_C)\\cdot P_{Sdal_C}(𝑌𝑟𝑎)}{P(𝑌𝑟𝑎)}$ студент учится на факультете С"
   ]
  },
  {
   "cell_type": "code",
   "execution_count": 49,
   "id": "18d4c7ec",
   "metadata": {
    "scrolled": true
   },
   "outputs": [
    {
     "name": "stdout",
     "output_type": "stream",
     "text": [
      "Вероятность того, что студент учится на факультете А:  0.2424;\n",
      "Вероятность того, что студент учится на факультете B:  0.2121;\n",
      "Вероятность того, что студент учится на факультете C:  0.5455.\n"
     ]
    }
   ],
   "source": [
    "P_Yra_Sdal_A=0.25*0.8/P_Yra\n",
    "P_Yra_Sdal_B=0.25*0.7/P_Yra\n",
    "P_Yra_Sdal_C=0.5*0.9/P_Yra\n",
    "print(f'Вероятность того, что студент учится на факультете А: {P_Yra_Sdal_A: .4f};\\n'\n",
    "      f'Вероятность того, что студент учится на факультете B: {P_Yra_Sdal_B: .4f};\\n'\n",
    "      f'Вероятность того, что студент учится на факультете C: {P_Yra_Sdal_C: .4f}.'\n",
    "      )"
   ]
  },
  {
   "cell_type": "markdown",
   "id": "10a79040",
   "metadata": {},
   "source": [
    "<div class=\"alert alert-block alert-success\"><font size=3 color='b'><b>ОТВЕТ: </b><br>а) Вероятность того, что студент учится на факультете А:  $P_D(S_A)\\approx0.2424\\approx24.24\\%$;<br>\n",
    "б) Вероятность того, что студент учится на факультете B:  $P_D(S_B)\\approx0.2121\\approx21.21\\%$;<br> \n",
    "в) Вероятность того, что студент учится на факультете C:  $P_D(S_C)\\approx0.5455\\approx54.55\\%$.</font></div>"
   ]
  },
  {
   "cell_type": "markdown",
   "id": "c025fb82",
   "metadata": {},
   "source": [
    "---"
   ]
  },
  {
   "cell_type": "markdown",
   "id": "a49fa6af",
   "metadata": {},
   "source": [
    "## ЗАДАНИЕ 5. \n",
    "**Устройство состоит из трех деталей. Для первой детали вероятность выйти из строя в первый месяц равна 0.1, для второй - 0.2, для третьей - 0.25. Какова вероятность того, что в первый месяц выйдут из строя:<br>а) все детали?<br>б) только две детали?<br>в) хотя бы одна деталь?<br>г) от одной до двух деталей?**"
   ]
  },
  {
   "cell_type": "markdown",
   "id": "3b6cd772",
   "metadata": {},
   "source": [
    "**<p style=\"text-align: center;\">\n",
    "    <font size=10 color=#32CD32><b>-------------------------------</b></font><br>\n",
    "    <font size=4.5 color=#3ac444>РЕШЕНИЕ:</font><br>\n",
    "<font size=10 color=#32CD32><b>-------------------------------</b></font></p>**"
   ]
  },
  {
   "cell_type": "markdown",
   "id": "2183a060",
   "metadata": {},
   "source": [
    "**Дано:**<br>\n",
    "$A_1$ - в первый месяц вышла из строя 1 деталь;<br>\n",
    "$A_2$ - в первый месяц вышла из строя 2 деталь;<br>\n",
    "$A_2$ - в первый месяц вышла из строя 3 деталь;<br>\n",
    "\n",
    "Вероятность выйти из строя в первый месяц:\n",
    "- для **ПЕРВОЙ** детали: $P(A_1) = 0.1$\n",
    "- для **ВТОРОЙ** детали: $P(A_2)=0.2$\n",
    "- для **ТРЕТЬЕЙ** детали: $P(A_3)=0.25$\n",
    "\n",
    "Противоположные события:<br>\n",
    "$\\bar A_1$ - в первый месяц НЕ вышла из строя 1 деталь;<br>\n",
    "$\\bar A_2$ - в первый месяц НЕ вышла из строя 2 деталь;<br>\n",
    "$\\bar A_3$ - в первый месяц НЕ вышла из строя 3 деталь;<br>\n",
    "\n",
    "Вероятность **НЕ** выйти из строя в первый месяц:\n",
    "- для **ПЕРВОЙ** детали:$P(\\bar A_1)=1-P(A_1)=1-0.1=0,9$\n",
    "- для **ВТОРОЙ** детали: $P(\\bar A_2)=1-P(A_2)=1-0.2=0,8$\n",
    "- для **ТРЕТЬЕЙ** детали: $P(\\bar A_3)=1-P(A_3)=1-0.25=0,75$"
   ]
  },
  {
   "cell_type": "markdown",
   "id": "b50291b2",
   "metadata": {},
   "source": [
    "**а)** Вероятность выйти из строя в первый месяц всех деталей, будет равна произведению вероятностей всех событий выхода из строя деталей:<br>$P(а)=P(A_1)\\cdot P(A_2)\\cdot P(A_3)=0.1\\cdot 0.2\\cdot 0.25$"
   ]
  },
  {
   "cell_type": "code",
   "execution_count": 65,
   "id": "f913985f",
   "metadata": {},
   "outputs": [
    {
     "name": "stdout",
     "output_type": "stream",
     "text": [
      "Вероятность того, что в первый месяц из строя выйдут все детали Р(a) =  0.0050\n"
     ]
    }
   ],
   "source": [
    "P_a=0.1*0.2*0.25\n",
    "print(f'Вероятность того, что в первый месяц из строя выйдут все детали Р(a) = {P_a: .4f}')"
   ]
  },
  {
   "cell_type": "markdown",
   "id": "38d9c2a2",
   "metadata": {},
   "source": [
    "**б)** Вероятность выйти из строя в первый месяц тольку двух деталей, будет равна сумме вероятностей 3 сценариев:\n",
    "- **1 сценарий:** В первый месяц вышли из строя 1 и 2 деталь  $\\Rightarrow A_1$ **и** $A_2$ **и** $\\bar A_3$;\n",
    "- **2 сценарий:** В первый месяц вышли из строя 1 и 3 деталь  $\\Rightarrow A_1$ **и** $A_3$ **и** $\\bar A_2$;\n",
    "- **3 сценарий:** В первый месяц вышли из строя 2 и 3 деталь  $\\Rightarrow A_2$ **и** $A_3$ **и** $\\bar A_1$;\n",
    "$P(б)=P(A_1)\\cdot P(A_2)\\cdot P(\\bar A_3)+P(A_1)\\cdot P(A_3)\\cdot P(\\bar A_2)+P(A_2)\\cdot P(A_3)\\cdot P(\\bar A_1)=0.1\\cdot 0.2\\cdot 0.75+0.1\\cdot 0.25\\cdot 0.8+0.2\\cdot 0.25\\cdot 0.9$"
   ]
  },
  {
   "cell_type": "code",
   "execution_count": 66,
   "id": "2759814e",
   "metadata": {},
   "outputs": [
    {
     "name": "stdout",
     "output_type": "stream",
     "text": [
      "Вероятность того, что в первый месяц из строя только 2 детали Р(б) =  0.0800\n"
     ]
    }
   ],
   "source": [
    "P_b=0.1*0.2*0.75+0.1*0.25*0.8+0.2*0.25*0.9\n",
    "print(f'Вероятность того, что в первый месяц из строя только 2 детали Р(б) = {P_b: .4f}')"
   ]
  },
  {
   "cell_type": "markdown",
   "id": "d628a702",
   "metadata": {},
   "source": [
    "**в)** Вероятность выйти из строя в первый месяц хотя бы одной деталь, можно вычислить через противоположное событие \"не вышло из строя ни одной детали\", тогда $P(в)$ вероятность события, что все детали работали в первый месяц, будет равна произведению вероятностей НЕ выхоода из строя в первый месяц всех трех деталей $\\Rightarrow\\bar A_1$, $\\bar A_2$, и $\\bar A_3$:<br> \n",
    "$P(Z)=P(\\bar A_1)\\cdot P(\\bar A_2)\\cdot P(\\bar A_3)=0.9*0.8*0.75$"
   ]
  },
  {
   "cell_type": "code",
   "execution_count": 67,
   "id": "67f66ea3",
   "metadata": {},
   "outputs": [
    {
     "name": "stdout",
     "output_type": "stream",
     "text": [
      "Вероятность того, что из работать будут все детали равна Р(в) =  0.5400\n"
     ]
    }
   ],
   "source": [
    "P_Z=0.9*0.8*0.75\n",
    "print(f'Вероятность того, что из работать будут все детали равна Р(в) = {P_Z: .4f}')"
   ]
  },
  {
   "cell_type": "markdown",
   "id": "39278eee",
   "metadata": {},
   "source": [
    "Тогда вероятность выйти из строя хотя бы одной детали будет равно: $P(в)=1-P(Z)$"
   ]
  },
  {
   "cell_type": "code",
   "execution_count": 68,
   "id": "fef68990",
   "metadata": {},
   "outputs": [
    {
     "name": "stdout",
     "output_type": "stream",
     "text": [
      "Вероятность того, что выйдет из строя хотя бы одна деталь Р(в) =  0.4600\n"
     ]
    }
   ],
   "source": [
    "P_v=1-P_Z\n",
    "print(f'Вероятность того, что выйдет из строя хотя бы одна деталь Р(в) = {P_v: .4f}')"
   ]
  },
  {
   "cell_type": "markdown",
   "id": "8187ddb9",
   "metadata": {},
   "source": [
    "**г)** Вероятность выйти из строя в первый месяц от одной до двух деталей, будет равна сумме вероятностей 2 событий $\\Rightarrow P(г)=P(1)+P(2)$, а именно:<br>1 событие - выйдет в первый из строя одна деталь;<br>2 событие - выйдет в первый из строя две детали;<br>\n",
    "Вероятность 2-го события (выйдет в первый из строя две детали) нам известно из **б)**, тогда найдем вероятность P(1) 1-го события (выйдет в первый из строя одна деталь).<br>\n",
    "**1 способ**<br>\n",
    "Выйти из строя в первый месяц одна деталь может по трем сценариям:\n",
    "- **1 сценарий:** В первый месяц вышли из строя 1 деталь  $\\Rightarrow A_1$ **и** $\\bar A_2$ **и** $\\bar A_3$;\n",
    "- **2 сценарий:** В первый месяц вышли из строя 2 деталь  $\\Rightarrow A_2$ **и** $\\bar A_1$ **и** $\\bar A_3$;\n",
    "- **3 сценарий:** В первый месяц вышли из строя 3 деталь  $\\Rightarrow A_3$ **и** $\\bar A_1$ **и** $\\bar A_2$.\n",
    "Вероятностью выхода в первый из строя одно детали  $P(1)$  будет равна **сумме** вероятностей этих сценариев:  \n",
    "$P(1)=P(A_1)\\cdot P(\\bar A_2)\\cdot P(\\bar A_3)+P(A_2)\\cdot P(\\bar A_1)\\cdot P(\\bar A_3)+P(A_3)\\cdot P(\\bar A_1)\\cdot P(\\bar A_2)=0.1\\cdot 0.8\\cdot 0.75+0.2\\cdot 0.9\\cdot 0.75+0.25\\cdot 0.9\\cdot 0.8$  "
   ]
  },
  {
   "cell_type": "code",
   "execution_count": 69,
   "id": "3b1252f6",
   "metadata": {},
   "outputs": [
    {
     "name": "stdout",
     "output_type": "stream",
     "text": [
      "Вероятность того, что выйдет из строя одна деталь Р(1) =  0.3750\n"
     ]
    }
   ],
   "source": [
    "P_1=0.1*0.8*0.75+0.2*0.9*0.75+0.25*0.9*0.8\n",
    "print(f'Вероятность того, что выйдет из строя одна деталь Р(1) = {P_1: .4f}')"
   ]
  },
  {
   "cell_type": "markdown",
   "id": "e72e9ab9",
   "metadata": {},
   "source": [
    "**2 способ**<br>Учитывая, что все варианты событий \"не выйдет из строя ни одной детали\", \"из строя выйдет одна деталь\", \"из строя выйдет 2 детали\", \"из строя выйдут все детали\", являются **несовместимыми**, и образуют полную группу событий, поэтому сумма вероятностей наступления этих событий равна $1$.  \n",
    "$P(Z)+P(1)+P(б)+P(3а)=1\\\\0.54+P(1)+0.08+0.005=1\\\\P(1)=0.375$  "
   ]
  },
  {
   "cell_type": "markdown",
   "id": "17bfba20",
   "metadata": {},
   "source": [
    "Найдйм вероятность выйти из строя в первый месяц от одной до двух деталей:<br>$P(г)=P(1)+P(б)=0.375+0.08=0.455$ "
   ]
  },
  {
   "cell_type": "markdown",
   "id": "e5865ceb",
   "metadata": {},
   "source": [
    "<div class=\"alert alert-block alert-success\"><font size=3 color='b'><b>ОТВЕТ: </b><br>а) Вероятность того что в первый месяц выйдут из строя все детали:  $P(3a)\\approx0.005\\approx0.50\\%$;<br>\n",
    "б) Вероятность того что в первый месяц выйдут из строя только 2 детали:  $P(б)\\approx0.08\\approx8.00\\%$;<br> \n",
    "в) Вероятность того что в первый месяц выйдут из строя хотя бы одна деталь:  $P(в)\\approx0.46\\approx46.00\\%$;<br>\n",
    "г) Вероятность того что в первый месяц выйдут из строя от одной до двух деталей:  $P(г)\\approx0.455\\approx45.50\\%$.</font></div>"
   ]
  }
 ],
 "metadata": {
  "kernelspec": {
   "display_name": "Python 3 (ipykernel)",
   "language": "python",
   "name": "python3"
  },
  "language_info": {
   "codemirror_mode": {
    "name": "ipython",
    "version": 3
   },
   "file_extension": ".py",
   "mimetype": "text/x-python",
   "name": "python",
   "nbconvert_exporter": "python",
   "pygments_lexer": "ipython3",
   "version": "3.11.3"
  }
 },
 "nbformat": 4,
 "nbformat_minor": 5
}
