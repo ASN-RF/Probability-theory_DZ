{
 "cells": [
  {
   "cell_type": "markdown",
   "id": "72759e29",
   "metadata": {},
   "source": [
    "#  <p style=\"text-align: center;\">Практическое задание к Семинару 5.<br><br>Урок 5. Тестирование гипотез.</p>"
   ]
  },
  {
   "cell_type": "markdown",
   "id": "ed3d492e",
   "metadata": {},
   "source": [
    "<div class=\"alert alert-block alert-danger\"><font size=4 color=black>\n",
    "<b>Здравствуйте! Не успеваю, обязуюсь выложить все задания на GitHub до 12:00 (МСК) 29.10.2023 на GitHub. Заранее спасибо.</b></font></div>"
   ]
  }
 ],
 "metadata": {
  "kernelspec": {
   "display_name": "Python 3 (ipykernel)",
   "language": "python",
   "name": "python3"
  },
  "language_info": {
   "codemirror_mode": {
    "name": "ipython",
    "version": 3
   },
   "file_extension": ".py",
   "mimetype": "text/x-python",
   "name": "python",
   "nbconvert_exporter": "python",
   "pygments_lexer": "ipython3",
   "version": "3.11.3"
  }
 },
 "nbformat": 4,
 "nbformat_minor": 5
}
