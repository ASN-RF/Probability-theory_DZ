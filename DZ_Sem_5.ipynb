{
 "cells": [
  {
   "cell_type": "markdown",
   "id": "72759e29",
   "metadata": {},
   "source": [
    "#  <p style=\"text-align: center;\">Практическое задание к Семинару 5.<br><br>Урок 5. Тестирование гипотез.</p>"
   ]
  },
  {
   "cell_type": "markdown",
   "id": "ed3d492e",
   "metadata": {},
   "source": [
    "<div class=\"alert alert-block alert-danger\"><font size=4 color=black>\n",
    "<b>Здравствуйте! Не успеваю, обязуюсь выложить все задания на GitHub до 12:00 (МСК) 29.10.2023 на GitHub. Заранее спасибо.</b></font></div>"
   ]
  },
  {
   "cell_type": "code",
   "execution_count": 11,
   "id": "07ed0778",
   "metadata": {},
   "outputs": [],
   "source": [
    "import scipy.stats as stats"
   ]
  },
  {
   "cell_type": "markdown",
   "id": "d625976f",
   "metadata": {},
   "source": [
    "**АЛГОРИТМ МЕТОДИКИ ТЕСТИРОВАНИЯ  ГИПОТЕЗ**\n",
    "<div class=\"alert alert-block alert-warning\"><font size=4 color=black><b>1 этап - Формулирование нулевой  $H_{0}$ и  альтернативной гипотез $H_{1}$;<br>\n",
    "2 этап - Выбор уровня статистической значимости α;<br>\n",
    "3 этап - Выбор статистического критерия;<br>\n",
    "4 этап - Расчет наблюдаемого критерия;<br>\n",
    "5 этап - Сравнение табличного и наблюдаемого значений критерия;<br>\n",
    "6 этап - Вывод.</b></font></div>"
   ]
  },
  {
   "cell_type": "markdown",
   "id": "2e48162a",
   "metadata": {},
   "source": [
    "**Z-критерий**\n",
    "<div class=\"alert alert-block alert-warning\"><font size=4 color=black><b>$z_н=\\frac{\\bar X-\\mu_0}{\\sigma/\\sqrt n}$ (1)</b></font></div>\n"
   ]
  },
  {
   "cell_type": "markdown",
   "id": "ca9f5b8f",
   "metadata": {},
   "source": [
    "Таблица 1. Z Таблица (положительные значения)"
   ]
  },
  {
   "cell_type": "markdown",
   "id": "ff7d89a2",
   "metadata": {},
   "source": [
    "![Positive Z Table](https://datascience.eu/wp-content/uploads/2020/05/image1.png)"
   ]
  },
  {
   "cell_type": "markdown",
   "id": "26209ecd",
   "metadata": {},
   "source": [
    "Таблица 2. Z Таблица (отрицательные значения)"
   ]
  },
  {
   "cell_type": "markdown",
   "id": "a7a4b695",
   "metadata": {},
   "source": [
    "![Negative Z Table](https://www.ztable.net/wp-content/uploads/2018/11/negativeztable.png)"
   ]
  },
  {
   "cell_type": "markdown",
   "id": "b9d5fe60",
   "metadata": {},
   "source": [
    "## ЗАДАНИЕ 1. \n",
    "**Когда используется критерий Стьюдента, а когда Z –критерий?**"
   ]
  },
  {
   "cell_type": "markdown",
   "id": "125cedd9",
   "metadata": {},
   "source": [
    "**<p style=\"text-align: center;\">\n",
    "    <font size=10 color=#32CD32><b>-------------------------------</b></font><br>\n",
    "    <font size=4.5 color=#3ac444>РЕШЕНИЕ:</font><br>\n",
    "<font size=10 color=#32CD32><b>-------------------------------</b></font></p>**"
   ]
  },
  {
   "cell_type": "markdown",
   "id": "912b6a32",
   "metadata": {},
   "source": [
    "<div class=\"alert alert-block alert-success\"><font size=3 color='b'><b>ОТВЕТ: </b><br>Критерии Стьюдента и Z-критерий, являются параметрическими критериями и используются для статистической проверки гипотезы путем сравнения двух выборочных средних. Оба критерия предполагают, что выборка взята из нормально распределенной генеральной совокупности, и имеется равенство дисперсий в группах. Если известна сигма генеральной совокупности более предпочтительнее ипспользовать Z- критерий, в противном случае -  критерий Стьюдента t. </font></div>"
   ]
  },
  {
   "cell_type": "markdown",
   "id": "c266943f",
   "metadata": {},
   "source": [
    "## ЗАДАНИЕ 2. \n",
    "**Проведите тест гипотезы. Утверждается, что шарики для подшипников, изготовленные автоматическим станком, имеют средний диаметр 17 мм. Используя односторонний критерий с α=0,05, проверить эту гипотезу, если в выборке из n=100 шариков средний диаметр оказался равным 17.5 мм, а дисперсия известна и равна 4 кв. мм.**"
   ]
  },
  {
   "cell_type": "markdown",
   "id": "2c0b3718",
   "metadata": {},
   "source": [
    "**<p style=\"text-align: center;\">\n",
    "    <font size=10 color=#32CD32><b>-------------------------------</b></font><br>\n",
    "    <font size=4.5 color=#3ac444>РЕШЕНИЕ:</font><br>\n",
    "<font size=10 color=#32CD32><b>-------------------------------</b></font></p>**"
   ]
  },
  {
   "cell_type": "markdown",
   "id": "605819cc",
   "metadata": {},
   "source": [
    "**1 этап - Формулирование нулевой  $H_{0}$ и  альтернативной гипотез $H_{1}$.**<br>\n",
    "***$H_{0}$ гипотеза*** - Средний диаметр шариков для подшипников, изготовленные автоматическим станком <b>НЕ ИМЕЕТ</b> различий с диаметром шиариков из выборки. $H_{0}$: $M(X) = 17 => \\mu=\\mu_0$<br>\n",
    "***$H_{1}$ гипотеза*** - Средний диаметр шариков для подшипников, изготовленные автоматическим станком <b>ИМЕЕТ</b> различие с диаметром шиариков из выборки. $H_{1}$: $M(X) = 17,5 => \\mu>\\mu_0$<br><br>\n",
    "**2 этап - Выбор уровня статистической значимости α.**<br>\n",
    "Из условия **α = 0,05**.<br><br>\n",
    "**3 этап - Выбор статистического критерия.**<br>\n",
    "Т.к. из условия нам известна дисперсия, то будем использовать Z-критерий.<br><br>\n",
    "**4 этап - Расчет наблюдаемого критерия.**<br>\n",
    "***Дано:***<br>\n",
    "$\\alpha = 0.05$<br>\n",
    "$D(X) = 4$<br>\n",
    "$\\sigma=\\sqrt 4=2$<br>\n",
    "n = 100 размер выборки<br>\n",
    "$\\bar X = \\mu=17.5$<br>\n",
    "$\\mu_{0}=17$<br>\n",
    "По формуле (1), находим наблюдаемое значение Z-критерия."
   ]
  },
  {
   "cell_type": "code",
   "execution_count": 12,
   "id": "81f388b4",
   "metadata": {},
   "outputs": [
    {
     "name": "stdout",
     "output_type": "stream",
     "text": [
      "Наблюдаемое значение z-критерия:  2.5000\n"
     ]
    }
   ],
   "source": [
    "z=(17.5-17)/0.2\n",
    "print(f'Наблюдаемое значение z-критерия: {z: .4f}')"
   ]
  },
  {
   "cell_type": "markdown",
   "id": "7f3250e5",
   "metadata": {},
   "source": [
    "**5 этап - Сравнение табличного и наблюдаемого значений критерия.**<br>\n",
    "Табличное значение z-критерия. Т.к. α = 5% (0.05) и $\\mu>\\mu_0$, то альтернативная гипотеза находиться справа, а слева лежат 0.95 или 95% всех значений стандартного нормального распределения. По таблице Z-значений сначала ищем долю 0.95. А потом смотрим, на пересечении каких составных частей Z лежит эта доля. $Z_{tab}\\approx1.645$.<br><br>"
   ]
  },
  {
   "cell_type": "code",
   "execution_count": 14,
   "id": "f3f3933e",
   "metadata": {},
   "outputs": [
    {
     "name": "stdout",
     "output_type": "stream",
     "text": [
      "Табличное значение z-критерия: Z_tab  1.6449\n"
     ]
    }
   ],
   "source": [
    "# Проверка правилности определения табличного значения\n",
    "z_tab=stats.norm.ppf(0.95)\n",
    "print(f'Табличное значение z-критерия: Z_tab {z_tab: .4f}')"
   ]
  },
  {
   "cell_type": "markdown",
   "id": "28a07b0e",
   "metadata": {},
   "source": [
    "$Z_{nab} > Z_{tab} = > 2.5000 > 1.645 $ "
   ]
  },
  {
   "cell_type": "markdown",
   "id": "77467b79",
   "metadata": {},
   "source": [
    "Т.к. $Z_{nab} > Z_{tab}$ отвергаем нулевую гипотезу на уровне значимости  𝛼=0.05 и можем констатировать, что средний диаметр шариков больше 17."
   ]
  },
  {
   "cell_type": "markdown",
   "id": "a8eb808c",
   "metadata": {},
   "source": [
    "<div class=\"alert alert-block alert-success\"><font size=3 color='b'><b>ОТВЕТ: </b><br> $Z_{nab} > Z_{tab}$ отвергаем нулевую гипотезу на уровне значимости  𝛼=0.05 и можем констатировать, что средний диаметр шариков больше 17.  </font></div>"
   ]
  }
 ],
 "metadata": {
  "kernelspec": {
   "display_name": "Python 3 (ipykernel)",
   "language": "python",
   "name": "python3"
  },
  "language_info": {
   "codemirror_mode": {
    "name": "ipython",
    "version": 3
   },
   "file_extension": ".py",
   "mimetype": "text/x-python",
   "name": "python",
   "nbconvert_exporter": "python",
   "pygments_lexer": "ipython3",
   "version": "3.11.3"
  }
 },
 "nbformat": 4,
 "nbformat_minor": 5
}
