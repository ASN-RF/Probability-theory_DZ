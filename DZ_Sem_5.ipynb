{
 "cells": [
  {
   "cell_type": "markdown",
   "id": "72759e29",
   "metadata": {},
   "source": [
    "#  <p style=\"text-align: center;\">Практическое задание к Семинару 5.<br><br>Урок 5. Тестирование гипотез.</p>"
   ]
  },
  {
   "cell_type": "code",
   "execution_count": 31,
   "id": "bfaa388f",
   "metadata": {},
   "outputs": [],
   "source": [
    "import scipy.stats as stats\n",
    "import statistics as st\n",
    "import numpy as np\n",
    "import math"
   ]
  },
  {
   "cell_type": "markdown",
   "id": "e588a40b",
   "metadata": {},
   "source": [
    "**АЛГОРИТМ МЕТОДИКИ ТЕСТИРОВАНИЯ  ГИПОТЕЗ**\n",
    "<div class=\"alert alert-block alert-warning\"><font size=4 color=black><b>1 этап - Формулирование нулевой  $H_{0}$ и  альтернативной гипотез $H_{1}$;<br>\n",
    "2 этап - Выбор уровня статистической значимости α;<br>\n",
    "3 этап - Выбор статистического критерия;<br>\n",
    "4 этап - Расчет наблюдаемого критерия;<br>\n",
    "5 этап - Сравнение табличного и наблюдаемого значений критерия;<br>\n",
    "6 этап - Вывод.</b></font></div>"
   ]
  },
  {
   "cell_type": "markdown",
   "id": "16472645",
   "metadata": {},
   "source": [
    "**Z-критерий**\n",
    "<div class=\"alert alert-block alert-warning\"><font size=4 color=black><b>$z_н=\\frac{\\bar X-\\mu_0}{\\sigma/\\sqrt n}$ (1)</b></font></div>"
   ]
  },
  {
   "cell_type": "markdown",
   "id": "b6536323",
   "metadata": {},
   "source": [
    "**Критерий Стьюдента (t)**\n",
    "<div class=\"alert alert-block alert-warning\"><font size=4 color=black><b>$t_н=\\frac{\\bar X-\\mu_0}{\\sigma_н\\sqrt n}$ (2)</b></font></div>\n"
   ]
  },
  {
   "cell_type": "markdown",
   "id": "83f92ccc",
   "metadata": {},
   "source": [
    "Таблица 1. Z Таблица (положительные значения)"
   ]
  },
  {
   "cell_type": "markdown",
   "id": "21c2ecf1",
   "metadata": {},
   "source": [
    "![Positive Z Table](https://datascience.eu/wp-content/uploads/2020/05/image1.png)"
   ]
  },
  {
   "cell_type": "markdown",
   "id": "cba4d217",
   "metadata": {},
   "source": [
    "Таблица 2. Z Таблица (отрицательные значения)"
   ]
  },
  {
   "cell_type": "markdown",
   "id": "ee8801c9",
   "metadata": {},
   "source": [
    "![Negative Z Table](https://www.ztable.net/wp-content/uploads/2018/11/negativeztable.png)"
   ]
  },
  {
   "cell_type": "markdown",
   "id": "62e957c0",
   "metadata": {},
   "source": [
    "Таблица 3. Таблица Стьюдента    "
   ]
  },
  {
   "cell_type": "markdown",
   "id": "d251f8d6",
   "metadata": {},
   "source": [
    "![Student Table](https://fsd.multiurok.ru/viewImage.php?image=http://nice-diplom.ru/templates/blue/images/img/form_69.gif)"
   ]
  },
  {
   "cell_type": "markdown",
   "id": "a65ff2c2",
   "metadata": {},
   "source": [
    "## ЗАДАНИЕ 1. \n",
    "**Когда используется критерий Стьюдента, а когда Z –критерий?**"
   ]
  },
  {
   "cell_type": "markdown",
   "id": "52afcac6",
   "metadata": {},
   "source": [
    "**<p style=\"text-align: center;\">\n",
    "    <font size=10 color=#32CD32><b>-------------------------------</b></font><br>\n",
    "    <font size=4.5 color=#3ac444>РЕШЕНИЕ:</font><br>\n",
    "<font size=10 color=#32CD32><b>-------------------------------</b></font></p>**"
   ]
  },
  {
   "cell_type": "markdown",
   "id": "ecc77356",
   "metadata": {},
   "source": [
    "<div class=\"alert alert-block alert-success\"><font size=3 color='b'><b>ОТВЕТ: </b><br>Критерии Стьюдента и Z-критерий, являются параметрическими критериями и используются для статистической проверки гипотезы путем сравнения двух выборочных средних. Оба критерия предполагают, что выборка взята из нормально распределенной генеральной совокупности, и имеется равенство дисперсий в группах. Если известна сигма генеральной совокупности более предпочтительнее ипспользовать Z- критерий, в противном случае -  критерий Стьюдента t. </font></div>"
   ]
  },
  {
   "cell_type": "markdown",
   "id": "e507681f",
   "metadata": {},
   "source": [
    "---"
   ]
  },
  {
   "cell_type": "markdown",
   "id": "805601eb",
   "metadata": {},
   "source": [
    "## ЗАДАНИЕ 2. \n",
    "**Проведите тест гипотезы. Утверждается, что шарики для подшипников, изготовленные автоматическим станком, имеют средний диаметр 17 мм. Используя односторонний критерий с α=0,05, проверить эту гипотезу, если в выборке из n=100 шариков средний диаметр оказался равным 17.5 мм, а дисперсия известна и равна 4 кв. мм.**"
   ]
  },
  {
   "cell_type": "markdown",
   "id": "b14c8dd3",
   "metadata": {},
   "source": [
    "**<p style=\"text-align: center;\">\n",
    "    <font size=10 color=#32CD32><b>-------------------------------</b></font><br>\n",
    "    <font size=4.5 color=#3ac444>РЕШЕНИЕ:</font><br>\n",
    "<font size=10 color=#32CD32><b>-------------------------------</b></font></p>**"
   ]
  },
  {
   "cell_type": "markdown",
   "id": "2b550e90",
   "metadata": {},
   "source": [
    "**1 этап - Формулирование нулевой  $H_{0}$ и  альтернативной гипотез $H_{1}$.**<br>\n",
    "***$H_{0}$ гипотеза*** - Средний диаметр шариков для подшипников, изготовленные автоматическим станком <b>НЕ ИМЕЕТ</b> различий с диаметром шиариков из выборки. $H_{0}$: $M(X) = 17 => \\mu=\\mu_0$<br>\n",
    "***$H_{1}$ гипотеза*** - Средний диаметр шариков для подшипников, изготовленные автоматическим станком <b>ИМЕЕТ</b> различие с диаметром шиариков из выборки. $H_{1}$: $M(X) = 17,5 => \\mu>\\mu_0$<br><br>\n",
    "**2 этап - Выбор уровня статистической значимости α.**<br>\n",
    "Из условия **α = 0,05**.<br><br>\n",
    "**3 этап - Выбор статистического критерия.**<br>\n",
    "Т.к. из условия нам известна дисперсия, то будем использовать Z-критерий.<br><br>\n",
    "**4 этап - Расчет наблюдаемого критерия.**<br>\n",
    "***Дано:***<br>\n",
    "$\\alpha = 0.05$<br>\n",
    "$D(X) = 4$<br>\n",
    "$\\sigma=\\sqrt 4=2$<br>\n",
    "n = 100 размер выборки<br>\n",
    "$\\bar X = \\mu=17.5$<br>\n",
    "$\\mu_{0}=17$<br>\n",
    "По формуле (1), находим наблюдаемое значение Z-критерия."
   ]
  },
  {
   "cell_type": "code",
   "execution_count": 32,
   "id": "fd98206c",
   "metadata": {},
   "outputs": [
    {
     "name": "stdout",
     "output_type": "stream",
     "text": [
      "Наблюдаемое значение z-критерия:  2.5000\n"
     ]
    }
   ],
   "source": [
    "z=(17.5-17)/0.2\n",
    "print(f'Наблюдаемое значение z-критерия: {z: .4f}')"
   ]
  },
  {
   "cell_type": "markdown",
   "id": "ed8ef902",
   "metadata": {},
   "source": [
    "**5 этап - Сравнение табличного и наблюдаемого значений критерия.**<br>\n",
    "Табличное значение z-критерия. Т.к. α = 5% (0.05) и $\\mu>\\mu_0$, то альтернативная гипотеза находиться справа, а слева лежат 0.95 или 95% всех значений стандартного нормального распределения. По таблице Z-значений сначала ищем долю 0.95. А потом смотрим, на пересечении каких составных частей Z лежит эта доля. $Z_{tab}\\approx1.645$.<br><br>"
   ]
  },
  {
   "cell_type": "code",
   "execution_count": 33,
   "id": "e7d31d8b",
   "metadata": {},
   "outputs": [
    {
     "name": "stdout",
     "output_type": "stream",
     "text": [
      "Табличное значение z-критерия: Z_tab  1.6449\n"
     ]
    }
   ],
   "source": [
    "# Проверка правилности определения табличного значения\n",
    "z_tab=stats.norm.ppf(0.95)\n",
    "print(f'Табличное значение z-критерия: Z_tab {z_tab: .4f}')"
   ]
  },
  {
   "cell_type": "markdown",
   "id": "0cdaf91e",
   "metadata": {},
   "source": [
    "$Z_{nab} > Z_{tab} = > 2.5000 > 1.645 $ "
   ]
  },
  {
   "cell_type": "markdown",
   "id": "5f965682",
   "metadata": {},
   "source": [
    "Т.к. $Z_{nab} > Z_{tab}$ отвергаем нулевую гипотезу на уровне значимости  𝛼=0.05 и можем констатировать, что средний диаметр шариков больше 17."
   ]
  },
  {
   "cell_type": "markdown",
   "id": "b985f285",
   "metadata": {},
   "source": [
    "<div class=\"alert alert-block alert-success\"><font size=3 color='b'><b>ОТВЕТ: </b><br> $Z_{nab} > Z_{tab}$ отвергаем нулевую гипотезу на уровне значимости  𝛼=0.05 и можем констатировать, что средний диаметр шариков больше 17.  </font></div>"
   ]
  },
  {
   "cell_type": "markdown",
   "id": "75357363",
   "metadata": {},
   "source": [
    "---"
   ]
  },
  {
   "cell_type": "markdown",
   "id": "b319d5fb",
   "metadata": {},
   "source": [
    "## ЗАДАНИЕ 3. \n",
    "**Проведите тест гипотезы. Продавец утверждает, что средний вес пачки печенья составляет 200 г. Из партии извлечена выборка из 10 пачек. Вес каждой пачки составляет: 202, 203, 199, 197, 195, 201, 200, 204, 194, 190. Известно, что их веса распределены нормально. Верно ли утверждение продавца, если учитывать, что доверительная вероятность равна 99%? (Провести двусторонний тест.)**"
   ]
  },
  {
   "cell_type": "markdown",
   "id": "76251c76",
   "metadata": {},
   "source": [
    "**<p style=\"text-align: center;\">\n",
    "    <font size=10 color=#32CD32><b>-------------------------------</b></font><br>\n",
    "    <font size=4.5 color=#3ac444>РЕШЕНИЕ:</font><br>\n",
    "<font size=10 color=#32CD32><b>-------------------------------</b></font></p>**"
   ]
  },
  {
   "cell_type": "markdown",
   "id": "71355587",
   "metadata": {},
   "source": [
    "**1 этап - Формулирование нулевой  $H_{0}$ и  альтернативной гипотез $H_{1}$.**<br>\n",
    "***$H_{0}$ гипотеза*** - Средний вес пачки печенья составляет 200 г. и <b>НЕ ИМЕЕТ</b> различий со средним весом из выборки. $H_{0}$: $M(X) = 200 => \\mu=\\mu_0$<br>\n",
    "***$H_{1}$ гипотеза*** - Средний вес пачки печенья составляет 200 г. и <b>ИМЕЕТ</b> различия со средним весом из выборки. $H_{1}: \\mu\\neq\\mu_0$<br><br>\n",
    "**2 этап - Выбор уровня статистической значимости α.**<br>\n",
    "Из условия **$\\alpha=1-0.99=0.01$**.<br><br>\n",
    "**3 этап - Выбор статистического критерия.**<br>\n",
    "Т.к. из условия нам не известны ни среднее, ни дисперсия генеральной совокупности, то будем использовать критерий Стьюдента (t).<br><br>\n",
    "**4 этап - Расчет наблюдаемого критерия.**<br>\n",
    "***Дано:***<br>\n",
    "$\\alpha = 0.05$<br>\n",
    "pechenie = [202, 203, 199, 197, 195, 201, 200, 204, 194, 190]<br>\n",
    "n = 10 пач. размер выборки<br>\n",
    "$\\mu_{0}=200$<br>\n",
    "Доверительная вероятность $= 0.99$<br>\n",
    "Число степеней свободы = $n - 1 = 9$<br>\n",
    "По формуле (2), находим наблюдаемое значение критерий Стьюдента (t)."
   ]
  },
  {
   "cell_type": "code",
   "execution_count": 34,
   "id": "02fbb0c8",
   "metadata": {},
   "outputs": [
    {
     "data": {
      "text/plain": [
       "198.5"
      ]
     },
     "execution_count": 34,
     "metadata": {},
     "output_type": "execute_result"
    }
   ],
   "source": [
    "pechenie = [202, 203, 199, 197, 195, 201, 200, 204, 194, 190]\n",
    "st.mean(pechenie)   # sum(f)/len(f)"
   ]
  },
  {
   "cell_type": "code",
   "execution_count": 35,
   "id": "a5c4fb5a",
   "metadata": {},
   "outputs": [
    {
     "name": "stdout",
     "output_type": "stream",
     "text": [
      "Наблюдаемое значение критерия Стьюдента (t): -1.0651\n"
     ]
    }
   ],
   "source": [
    "t_n=(st.mean(pechenie)-200)/(np.std(pechenie,ddof=1)/len(pechenie)**0.5)\n",
    "print(f'Наблюдаемое значение критерия Стьюдента (t): {t_n: .4f}')"
   ]
  },
  {
   "cell_type": "markdown",
   "id": "3ef592f7",
   "metadata": {},
   "source": [
    "**5 этап - Сравнение табличного и наблюдаемого значений критерия.**<br>\n",
    "По таблице 2 Стьюдента, с учетом $t_t$, для $\\alpha/2=0.01/2=0.005$, Доверительная вероятность  = 0.99, Число степеней свободы =  𝑛−1=9, находим значение:<br>\n",
    "$t_1= 3.25$   <br>\n",
    "$t_2= -3.25$ <br>\n",
    "$\\Omega_\\alpha = (-\\infty, -3.25) \\cup (3.25, \\infty).$"
   ]
  },
  {
   "cell_type": "code",
   "execution_count": 36,
   "id": "af51e88c",
   "metadata": {},
   "outputs": [
    {
     "name": "stdout",
     "output_type": "stream",
     "text": [
      "Табличное значение критерия Стьюдента (t):  3.2498\n"
     ]
    }
   ],
   "source": [
    "# Проверим\n",
    "t_t=stats.t.ppf(0.995,len(pechenie)-1)\n",
    "print(f'Табличное значение критерия Стьюдента (t): {t_t: .4f}')"
   ]
  },
  {
   "cell_type": "markdown",
   "id": "00126609",
   "metadata": {},
   "source": [
    "Сравним полученные значения (поскольку у нас двусторонний критерий, то используем абсолютное значение полученного критерия Стьюдента):"
   ]
  },
  {
   "cell_type": "code",
   "execution_count": 37,
   "id": "8bfecc36",
   "metadata": {},
   "outputs": [
    {
     "data": {
      "text/plain": [
       "True"
      ]
     },
     "execution_count": 37,
     "metadata": {},
     "output_type": "execute_result"
    }
   ],
   "source": [
    "np.abs(t_n)<t_t"
   ]
  },
  {
   "cell_type": "markdown",
   "id": "8ba6ab50",
   "metadata": {},
   "source": [
    "Т.к. значение $t$ не попадает в критическую область $|t_н|<t_t$, **принимаем** нулевую гипотезу на уровне значимости $\\alpha=0.01$"
   ]
  },
  {
   "cell_type": "markdown",
   "id": "46afe808",
   "metadata": {},
   "source": [
    "<div class=\"alert alert-block alert-success\"><font size=3 color='b'><b>ОТВЕТ: </b><br> $Z_{nab} > Z_{tab}$ Продавец прав, т.к. значение 𝑡 не попадает в критическую область  $|𝑡_н|<𝑡_𝑡$, принимаем нулевую гипотезу на уровне значимости  𝛼=0.01.</font></div>"
   ]
  },
  {
   "cell_type": "markdown",
   "id": "7f644e8e",
   "metadata": {},
   "source": [
    "---"
   ]
  },
  {
   "cell_type": "markdown",
   "id": "9eb5c5d8",
   "metadata": {},
   "source": [
    "## ЗАДАНИЕ 4. \n",
    "**Есть ли статистически значимые различия в росте дочерей? Рост матерей 172, 177, 158, 170, 178,175, 164, 160, 169 Рост взрослых дочерей: 173, 175, 162, 174, 175, 168, 155, 170, 160.**"
   ]
  },
  {
   "cell_type": "markdown",
   "id": "d7fed6ef",
   "metadata": {},
   "source": [
    "1 вариант."
   ]
  },
  {
   "cell_type": "code",
   "execution_count": 46,
   "id": "4b73aed3",
   "metadata": {},
   "outputs": [
    {
     "data": {
      "text/plain": [
       "TtestResult(statistic=0.6648478531431979, pvalue=0.5228168632983574, df=9)"
      ]
     },
     "execution_count": 46,
     "metadata": {},
     "output_type": "execute_result"
    }
   ],
   "source": [
    "mothers = [172, 177, 158, 170, 178, 175, 164, 160, 169, 165]\n",
    "daughters = [173, 175, 162, 174, 175, 168, 155, 170, 160, 163]\n",
    "\n",
    "stats.ttest_rel(mothers, daughters)"
   ]
  },
  {
   "cell_type": "markdown",
   "id": "6b81836f",
   "metadata": {},
   "source": [
    "Т.к. $p-value > \\alpha (0,05)$, принемаем $H_0$. Статистически значимых различий нет."
   ]
  },
  {
   "cell_type": "markdown",
   "id": "9f659b51",
   "metadata": {},
   "source": [
    "2 вариант."
   ]
  },
  {
   "cell_type": "code",
   "execution_count": 42,
   "id": "09156664",
   "metadata": {},
   "outputs": [],
   "source": [
    "def equalmean(x,y):\n",
    "    # вычисляем разность выборок\n",
    "    dif=mothers-daughters\n",
    "    n=len(dif)\n",
    "    # вычисляем среднее разности\n",
    "    mean_dif=dif.mean()\n",
    "    # вычисляем несмещенную дисперсию разности\n",
    "    var_dif=dif.var()*n/(n-1)\n",
    "    # вычисляем t-статистику\n",
    "    t=mean_dif/math.sqrt(var_dif)*math.sqrt(n)\n",
    "    # вычисляем р-уровень\n",
    "    p = 1 - math.fabs(stats.t.cdf(t,n-1) - stats.t.cdf(-t,n-1))\n",
    "    return t,p"
   ]
  },
  {
   "cell_type": "code",
   "execution_count": 45,
   "id": "9e823ba3",
   "metadata": {},
   "outputs": [
    {
     "name": "stdout",
     "output_type": "stream",
     "text": [
      "t-статистика критерия =  0.664847853143198\n",
      "p-уровень =  0.5228168632983574\n",
      "Введите уровень значимости 0.05\n",
      "статистически значимых различий в росте матерей и дочерей нет\n",
      "\n",
      " Проверка с помощью встроенной функции\n",
      "t-статистика критерия =  0.6648478531431979\n",
      "p-уровень =  0.5228168632983574\n"
     ]
    }
   ],
   "source": [
    "mothers=np.array([172,177,158,170,178,175,164,160,169,165])\n",
    "daughters=np.array([173,175,162,174,175,168,155,170,160,163])\n",
    "t,p=equalmean(mothers,daughters)\n",
    "print(\"t-статистика критерия = \",t)\n",
    "print(\"p-уровень = \",p)\n",
    "alpha=float(input(\"Введите уровень значимости \"))\n",
    "if p>alpha:\n",
    "    print(\"статистически значимых различий в росте матерей и дочерей нет\")\n",
    "else:\n",
    "    print(\"есть статистически значимые различия в росте матерей и дочерей\")\n",
    "print(\"\\n Проверка с помощью встроенной функции\")\n",
    "res=stats.ttest_rel (a=mothers, b=daughters)\n",
    "print(\"t-статистика критерия = \",res.statistic)\n",
    "print(\"p-уровень = \",res.pvalue)"
   ]
  }
 ],
 "metadata": {
  "kernelspec": {
   "display_name": "Python 3 (ipykernel)",
   "language": "python",
   "name": "python3"
  },
  "language_info": {
   "codemirror_mode": {
    "name": "ipython",
    "version": 3
   },
   "file_extension": ".py",
   "mimetype": "text/x-python",
   "name": "python",
   "nbconvert_exporter": "python",
   "pygments_lexer": "ipython3",
   "version": "3.11.3"
  }
 },
 "nbformat": 4,
 "nbformat_minor": 5
}
