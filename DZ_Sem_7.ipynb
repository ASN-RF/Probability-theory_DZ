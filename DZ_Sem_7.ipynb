{
 "cells": [
  {
   "cell_type": "markdown",
   "id": "fa4ec578",
   "metadata": {},
   "source": [
    "#  <p style=\"text-align: center;\">Практическое задание к Семинару 7.<br><br>Урок 7. Непараметрические тесты.</p>"
   ]
  },
  {
   "cell_type": "code",
   "execution_count": 2,
   "id": "1f287cb8",
   "metadata": {},
   "outputs": [],
   "source": [
    "import numpy as np\n",
    "import statistics as st\n",
    "import scipy.stats as stats\n",
    "import math"
   ]
  },
  {
   "cell_type": "markdown",
   "id": "6455f4d9",
   "metadata": {},
   "source": [
    "**Критерий Стьюдента (t)**\n",
    "<div class=\"alert alert-block alert-warning\"><font size=4 color=black><b>$t_н=\\frac{\\bar X-\\mu_0}{\\sigma_н\\sqrt n}$ (2)</b></font></div>\n"
   ]
  },
  {
   "cell_type": "markdown",
   "id": "72080e6d",
   "metadata": {},
   "source": [
    "**АЛГОРИТМ МЕТОДИКИ ТЕСТИРОВАНИЯ  ГИПОТЕЗ**\n",
    "<div class=\"alert alert-block alert-warning\"><font size=4 color=black><b>1 этап - Формулирование нулевой  $H_{0}$ и  альтернативной гипотез $H_{1}$;<br>\n",
    "2 этап - Выбор уровня статистической значимости α;<br>\n",
    "3 этап - Выбор статистического критерия;<br>\n",
    "4 этап - Расчет наблюдаемого критерия;<br>\n",
    "5 этап - Сравнение табличного и наблюдаемого значений критерия;<br>\n",
    "6 этап - Вывод.</b></font></div>"
   ]
  },
  {
   "cell_type": "markdown",
   "id": "5d473338",
   "metadata": {},
   "source": [
    "Таблица 1. Таблица Стьюдента "
   ]
  },
  {
   "cell_type": "markdown",
   "id": "286104d8",
   "metadata": {},
   "source": [
    "![Student Table](https://fsd.multiurok.ru/viewImage.php?image=http://nice-diplom.ru/templates/blue/images/img/form_69.gif)"
   ]
  },
  {
   "cell_type": "markdown",
   "id": "f3b8a97a",
   "metadata": {},
   "source": [
    "*!!!1-4 задачи решать с помощью функций, 5-ю вручную!!!*<br>\n",
    "**Выбрать тест и проверить, есть  ли различия между выборками:**"
   ]
  },
  {
   "cell_type": "markdown",
   "id": "60b5ebf3",
   "metadata": {},
   "source": [
    "## ЗАДАНИЕ 1. \n",
    "***Даны две  независимые выборки. Не соблюдается условие нормальности:***\n",
    "```\n",
    "x1  380,420, 290\n",
    "y1 140,360,200,900\n",
    "```\n",
    "*Сделайте вывод по результатам, полученным с помощью функции.*"
   ]
  },
  {
   "cell_type": "markdown",
   "id": "7980f332",
   "metadata": {},
   "source": [
    "**<p style=\"text-align: center;\">\n",
    "    <font size=10 color=#32CD32><b>-------------------------------</b></font><br>\n",
    "    <font size=4.5 color=#3ac444>РЕШЕНИЕ:</font><br>\n",
    "<font size=10 color=#32CD32><b>-------------------------------</b></font></p>**"
   ]
  },
  {
   "cell_type": "markdown",
   "id": "9faad228",
   "metadata": {},
   "source": [
    "Т.к. в условиях задачи, указано, что выборки являются независимыми и НЕ соблюдается условие номральности, то будем использовать **Критерий Манна – Уитни U**."
   ]
  },
  {
   "cell_type": "code",
   "execution_count": 13,
   "id": "1fc33277",
   "metadata": {},
   "outputs": [
    {
     "data": {
      "text/plain": [
       "MannwhitneyuResult(statistic=8.0, pvalue=0.6285714285714286)"
      ]
     },
     "execution_count": 13,
     "metadata": {},
     "output_type": "execute_result"
    }
   ],
   "source": [
    "# Дано\n",
    "x1 = np.array ([380,420, 290])\n",
    "y1 = np.array ([140, 360, 200, 900])\n",
    "stats.mannwhitneyu(x1, y1)"
   ]
  },
  {
   "cell_type": "markdown",
   "id": "8c9f28aa",
   "metadata": {},
   "source": [
    "Т.к. p-value > α (5%), делаем вывод в пользу нулевой гипотезы, т.е. различий между выборками НЕТ."
   ]
  },
  {
   "cell_type": "markdown",
   "id": "fa5d93ac",
   "metadata": {},
   "source": [
    "<div class=\"alert alert-block alert-success\"><font size=3 color='b'><b>ОТВЕТ: </b><br>Выбрали тест <b>Критерий Манна – Уитни</b> и установили, что различий между выборками <b>НЕТ</b>.</font></div>"
   ]
  },
  {
   "cell_type": "markdown",
   "id": "6ccbfa77",
   "metadata": {},
   "source": [
    "---"
   ]
  },
  {
   "cell_type": "markdown",
   "id": "10410c04",
   "metadata": {},
   "source": [
    "## ЗАДАНИЕ 2. \n",
    "***Исследовалось влияние препарата на уровень давления пациентов. Сначала измерялось давление до приема препарата, потом через 10 минут и через 30 минут. Есть ли статистически значимые различия?:***\n",
    "```\n",
    "1е измерение до приема препарата: 150, 160, 165, 145, 155\n",
    "2е измерение через 10 минут: 140, 155, 150,  130, 135\n",
    "3е измерение через 30 минут: 130, 130, 120, 130, 125\n",
    "```"
   ]
  },
  {
   "cell_type": "markdown",
   "id": "e840fa73",
   "metadata": {},
   "source": [
    "**<p style=\"text-align: center;\">\n",
    "    <font size=10 color=#32CD32><b>-------------------------------</b></font><br>\n",
    "    <font size=4.5 color=#3ac444>РЕШЕНИЕ:</font><br>\n",
    "<font size=10 color=#32CD32><b>-------------------------------</b></font></p>**"
   ]
  },
  {
   "cell_type": "markdown",
   "id": "7068865a",
   "metadata": {},
   "source": [
    "Исходя из условия задачи, можно сделать вывод, что имеются повторные измерения одних и тех же пациентов, будем использовать **Критерий Фридмана**."
   ]
  },
  {
   "cell_type": "code",
   "execution_count": 15,
   "id": "2e66e728",
   "metadata": {},
   "outputs": [
    {
     "data": {
      "text/plain": [
       "FriedmanchisquareResult(statistic=9.578947368421062, pvalue=0.00831683351100441)"
      ]
     },
     "execution_count": 15,
     "metadata": {},
     "output_type": "execute_result"
    }
   ],
   "source": [
    "# Дано\n",
    "x_0_min = np.array ([150, 160, 165, 145, 155])\n",
    "x_10_min = np.array ([140, 155, 150,  130, 135])\n",
    "x_30_min = np.array ([130, 130, 120, 130, 125])\n",
    "stats.friedmanchisquare (x_0_min, x_10_min, x_30_min)"
   ]
  },
  {
   "cell_type": "markdown",
   "id": "5d1aaa47",
   "metadata": {},
   "source": [
    "Т.к. p-value < α (1%), делаем вывод в пользу альтернативной гипотезы, т.е. различий между выборками ЕСТЬ. Применение препарата оказывает влияние на давление пациентов."
   ]
  },
  {
   "cell_type": "markdown",
   "id": "e88bea30",
   "metadata": {},
   "source": [
    "<div class=\"alert alert-block alert-success\"><font size=3 color='b'><b>ОТВЕТ: </b><br>Выбрали тест <b>Критерий Фридмана</b> и установили, что статистические различия между выборками <b>ЕСТЬ</b>. Применение препарата оказывает влияние на давление пациентов.</font></div>"
   ]
  },
  {
   "cell_type": "markdown",
   "id": "ed343811",
   "metadata": {},
   "source": [
    "---"
   ]
  },
  {
   "cell_type": "markdown",
   "id": "cc1dd226",
   "metadata": {},
   "source": [
    "## ЗАДАНИЕ 3. \n",
    "***Сравните 1 и 2-е измерения, предполагая, что 3-го измерения через 30 минут не было.***"
   ]
  },
  {
   "cell_type": "markdown",
   "id": "5420aaf2",
   "metadata": {},
   "source": [
    "**<p style=\"text-align: center;\">\n",
    "    <font size=10 color=#32CD32><b>-------------------------------</b></font><br>\n",
    "    <font size=4.5 color=#3ac444>РЕШЕНИЕ:</font><br>\n",
    "<font size=10 color=#32CD32><b>-------------------------------</b></font></p>**"
   ]
  },
  {
   "cell_type": "markdown",
   "id": "aad59b63",
   "metadata": {},
   "source": [
    "Т.к. у нас ДВЕ зависмые выборки, то выбираем - **Критерий Уилкоксона**."
   ]
  },
  {
   "cell_type": "code",
   "execution_count": 22,
   "id": "cb448549",
   "metadata": {},
   "outputs": [
    {
     "data": {
      "text/plain": [
       "WilcoxonResult(statistic=0.0, pvalue=0.0625)"
      ]
     },
     "execution_count": 22,
     "metadata": {},
     "output_type": "execute_result"
    }
   ],
   "source": [
    "# Дано\n",
    "x_0_min = np.array ([150, 160, 165, 145, 155])\n",
    "x_10_min = np.array ([140, 155, 150,  130, 135])\n",
    "stats.wilcoxon(x_0_min, x_10_min)"
   ]
  },
  {
   "cell_type": "markdown",
   "id": "ee11ffb0",
   "metadata": {},
   "source": [
    "Т.к. p-value > α (5%), делаем вывод в пользу нулевой гипотезы, т.е. различий между выборками НЕТ. Применение препарата НЕ оказывает вляиние на давление пациентов."
   ]
  },
  {
   "cell_type": "markdown",
   "id": "5eb7fb86",
   "metadata": {},
   "source": [
    "<div class=\"alert alert-block alert-success\"><font size=3 color='b'><b>ОТВЕТ: </b><br>Выбрали тест <b>Критерий Уилкоксона</b> и установили, что различий между выборками <b>НЕТ</b>. Применение препарата НЕ оказывает влияние на давление пациентов.</font></div>"
   ]
  },
  {
   "cell_type": "markdown",
   "id": "20d34762",
   "metadata": {},
   "source": [
    "---"
   ]
  },
  {
   "cell_type": "markdown",
   "id": "8e7e6588",
   "metadata": {},
   "source": [
    "## ЗАДАНИЕ 4. \n",
    "***Даны 3 группы  учеников плавания:***\n",
    "```\n",
    "В 1 группе время на дистанцию 50 м составляют:\n",
    "56, 60, 62, 55, 71, 67, 59, 58, 64, 67\n",
    "Вторая группа : 57, 58, 69, 48, 72, 70, 68, 71, 50, 53\n",
    "Третья группа: 57, 67, 49, 48, 47, 55, 66, 51, 54\n",
    "```"
   ]
  },
  {
   "cell_type": "markdown",
   "id": "d3e44bf5",
   "metadata": {},
   "source": [
    "**<p style=\"text-align: center;\">\n",
    "    <font size=10 color=#32CD32><b>-------------------------------</b></font><br>\n",
    "    <font size=4.5 color=#3ac444>РЕШЕНИЕ:</font><br>\n",
    "<font size=10 color=#32CD32><b>-------------------------------</b></font></p>**"
   ]
  },
  {
   "cell_type": "markdown",
   "id": "8a09ee08",
   "metadata": {},
   "source": [
    "Т.к. у нас множественные независмые выборки (более 2-х), то выбираем - **Критерий Крускала - Уоллиса (Краскела - Уоллиса)**"
   ]
  },
  {
   "cell_type": "code",
   "execution_count": 19,
   "id": "544e6e0d",
   "metadata": {},
   "outputs": [
    {
     "data": {
      "text/plain": [
       "KruskalResult(statistic=5.465564058257224, pvalue=0.0650380998590494)"
      ]
     },
     "execution_count": 19,
     "metadata": {},
     "output_type": "execute_result"
    }
   ],
   "source": [
    "# Дано\n",
    "Gr_1 = np.array ([56, 60, 62, 55, 71, 67, 59, 58, 64, 67])\n",
    "Gr_2 = np.array ([57, 58, 69, 48, 72, 70, 68, 71, 50, 53])\n",
    "Gr_3 = np.array ([57, 67, 49, 48, 47, 55, 66, 51, 54])\n",
    "stats.kruskal(Gr_1, Gr_2, Gr_3)"
   ]
  },
  {
   "cell_type": "markdown",
   "id": "01e74643",
   "metadata": {},
   "source": [
    "Т.к. p-value > α (5%), делаем вывод в пользу нулевой гипотезы, т.е. различий между выборками НЕТ. Однако если выбрать α (1%), то можно установить, что различия между выборками ЕСТЬ."
   ]
  },
  {
   "cell_type": "markdown",
   "id": "5a4c09e9",
   "metadata": {},
   "source": [
    "<div class=\"alert alert-block alert-success\"><font size=3 color='b'><b>ОТВЕТ: </b><br>Выбрали тест <b>Критерий Крускала –Уоллиса (Краскела – Уоллиса)</b> и установили, что различий между выборками <b>НЕТ</b>.</font></div>"
   ]
  },
  {
   "cell_type": "markdown",
   "id": "c0ec1ed0",
   "metadata": {},
   "source": [
    "---"
   ]
  },
  {
   "cell_type": "markdown",
   "id": "ae51a89b",
   "metadata": {},
   "source": [
    "## ЗАДАНИЕ 5. \n",
    "***Заявляется, что партия изготавливается со средним арифметическим 2,5 см. Проверить данную гипотезу, если известно, что размеры изделий подчинены нормальному закону распределения. Объем выборки 10, уровень статистической значимости 5%.***\n",
    "```\n",
    "2.51, 2.35, 2.74, 2.56, 2.40, 2.36, 2.65, 2.7, 2.67, 2.34\n",
    "```"
   ]
  },
  {
   "cell_type": "markdown",
   "id": "edba9e5f",
   "metadata": {},
   "source": [
    "**<p style=\"text-align: center;\">\n",
    "    <font size=10 color=#32CD32><b>-------------------------------</b></font><br>\n",
    "    <font size=4.5 color=#3ac444>РЕШЕНИЕ:</font><br>\n",
    "<font size=10 color=#32CD32><b>-------------------------------</b></font></p>**"
   ]
  },
  {
   "cell_type": "markdown",
   "id": "aeff4750",
   "metadata": {},
   "source": [
    "Т.к. нам не известна дисперсия и(или) сигма будем использовать Критерий Стьюдента и формулу (1)."
   ]
  },
  {
   "cell_type": "markdown",
   "id": "479ddf6b",
   "metadata": {},
   "source": [
    "**1 этап - Формулирование нулевой  $H_{0}$ и  альтернативной гипотез $H_{1}$.**<br>\n",
    "***$H_{0}$ гипотеза*** - Среднии размеры изделий составляет 2,5 см. и <b>НЕ ИМЕЕТ</b> различий со значениями из выборки. $H_{0}$: $M(X) = 2,5 => \\mu=\\mu_0$<br>\n",
    "***$H_{1}$ гипотеза*** - Среднии размеры изделий составляет 2,5 см. и <b>ИМЕЕТ</b> различия со значениями из выборки. $H_{1}:  М \\neq 2.5 => \\mu\\neq\\mu_0$<br><br>\n",
    "**2 этап - Выбор уровня статистической значимости α.**<br>\n",
    "Из условия **$\\alpha=0,05$**.<br><br>\n",
    "**3 этап - Выбор статистического критерия.**<br>\n",
    "Т.к. из условия нам не известна дисперсия генеральной совокупности, то будем использовать критерий Стьюдента (t).<br><br>\n",
    "**4 этап - Расчет наблюдаемого критерия.**<br>\n",
    "***Дано:***<br>\n",
    "$\\alpha = 0.05$<br>\n",
    "viborka = 2.51, 2.35, 2.74, 2.56, 2.40, 2.36, 2.65, 2.7, 2.67, 2.34<br>\n",
    "n = 10 пач. размер выборки<br>\n",
    "Доверительная вероятность $= 0.95$<br>\n",
    "Число степеней свободы = $n - 1 = 9$<br>\n",
    "По формуле (1), находим наблюдаемое значение критерий Стьюдента (t)."
   ]
  },
  {
   "cell_type": "code",
   "execution_count": 41,
   "id": "b25597b8",
   "metadata": {},
   "outputs": [
    {
     "data": {
      "text/plain": [
       "(2.5279999999999996, 0.1572542173961923)"
      ]
     },
     "execution_count": 41,
     "metadata": {},
     "output_type": "execute_result"
    }
   ],
   "source": [
    "# Дано\n",
    "alpha = 0.05\n",
    "n = 10\n",
    "x_mean = 2.5\n",
    "viborka = np.array([2.51, 2.35, 2.74, 2.56, 2.40, 2.36, 2.65, 2.7, 2.67, 2.34])\n",
    "mean_viborka = np.mean(viborka)\n",
    "std = viborka.std(ddof=1)\n",
    "mean_viborka, std"
   ]
  },
  {
   "cell_type": "code",
   "execution_count": 38,
   "id": "4c8228ea",
   "metadata": {},
   "outputs": [
    {
     "name": "stdout",
     "output_type": "stream",
     "text": [
      "Наблюдаемое значение критерия Стьюдента (t):  0.5631\n"
     ]
    }
   ],
   "source": [
    "t_n=(mean_viborka-2.5)/(std/n**0.5)\n",
    "print(f'Наблюдаемое значение критерия Стьюдента (t): {t_n: .4f}')"
   ]
  },
  {
   "cell_type": "markdown",
   "id": "d025f27d",
   "metadata": {},
   "source": [
    "**5 этап - Сравнение табличного и наблюдаемого значений критерия.**<br>\n",
    "По таблице 2 Стьюдента, с учетом $t_t$, для $\\alpha/2=0.05/2=0.025$, Доверительная вероятность  = 0.95, Число степеней свободы =  𝑛−1=9, находим значение:<br>\n",
    "$t_1= 2.262$   <br>\n",
    "$t_2= -2.262$ <br>\n",
    "$\\Omega_\\alpha = (-\\infty, -2.262) \\cup (2.262, \\infty).$"
   ]
  },
  {
   "cell_type": "code",
   "execution_count": 39,
   "id": "d4b69ec5",
   "metadata": {},
   "outputs": [
    {
     "name": "stdout",
     "output_type": "stream",
     "text": [
      "Табличное значение критерия Стьюдента (t):  2.2622\n"
     ]
    }
   ],
   "source": [
    "# Проверим\n",
    "t_t=stats.t.ppf(0.975,len(viborka)-1)\n",
    "print(f'Табличное значение критерия Стьюдента (t): {t_t: .4f}')"
   ]
  },
  {
   "cell_type": "code",
   "execution_count": 40,
   "id": "8690b988",
   "metadata": {},
   "outputs": [
    {
     "data": {
      "text/plain": [
       "True"
      ]
     },
     "execution_count": 40,
     "metadata": {},
     "output_type": "execute_result"
    }
   ],
   "source": [
    "np.abs(t_n)<t_t"
   ]
  },
  {
   "cell_type": "markdown",
   "id": "8159fe86",
   "metadata": {},
   "source": [
    "Т.к. значение $t$ не попадает в критическую область $|t_н|<t_t$, **принимаем** нулевую гипотезу на уровне значимости $\\alpha=0.05$"
   ]
  },
  {
   "cell_type": "markdown",
   "id": "bb896121",
   "metadata": {},
   "source": [
    "<div class=\"alert alert-block alert-success\"><font size=3 color='b'><b>ОТВЕТ: </b><br>Выбрали тест <b>Проверив гипотезу установили, что различий между выборками <b>НЕТ</b>. Среднии размеры изделий составляет 2,5 см.</font></div>"
   ]
  }
 ],
 "metadata": {
  "kernelspec": {
   "display_name": "Python 3 (ipykernel)",
   "language": "python",
   "name": "python3"
  },
  "language_info": {
   "codemirror_mode": {
    "name": "ipython",
    "version": 3
   },
   "file_extension": ".py",
   "mimetype": "text/x-python",
   "name": "python",
   "nbconvert_exporter": "python",
   "pygments_lexer": "ipython3",
   "version": "3.11.3"
  }
 },
 "nbformat": 4,
 "nbformat_minor": 5
}
