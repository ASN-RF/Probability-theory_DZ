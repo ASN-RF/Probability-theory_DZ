{
 "cells": [
  {
   "cell_type": "markdown",
   "id": "40bb048b",
   "metadata": {},
   "source": [
    "#  <p style=\"text-align: center;\">Практическое задание к Семинару 6.<br><br>Урок 6. Сравнение долей. Построение доверительного интервала.</p>"
   ]
  },
  {
   "cell_type": "code",
   "execution_count": 17,
   "id": "4cc64bb8",
   "metadata": {},
   "outputs": [],
   "source": [
    "import numpy as np\n",
    "import statistics as st\n",
    "import scipy.stats as stats\n",
    "import math"
   ]
  },
  {
   "cell_type": "markdown",
   "id": "e5f242a5",
   "metadata": {},
   "source": [
    "**Z-критерий**\n",
    "<div class=\"alert alert-block alert-warning\"><font size=4 color=black><b>$\\displaystyle\\bar X\\pm z_{\\alpha/2}\\cdot\\frac{\\sigma}{\\sqrt n}$, (1) </b></font></div>где: <b>X</b> - среднее значение выборки, $z_{\\alpha/2}$ табличное значение <b>Z</b>-критерия, \n",
    "$\\sigma$-среднее квадратическое отклонение генеральной совокупности, <b>n</b> - объем выборки"
   ]
  },
  {
   "cell_type": "markdown",
   "id": "fa2a2c38",
   "metadata": {},
   "source": [
    "**Критерий Стьюдента (t)**\n",
    "<div class=\"alert alert-block alert-warning\"><font size=4 color=black><b>$\\displaystyle\\bar X\\pm t_{\\alpha/2}\\cdot\\frac{\\sigma_{несмещ}}{\\sqrt n}$, (2) </b></font></div>где: <b>X</b> - среднее значение выборки, $t_{\\alpha/2}$ - табличное значение критерия Стьюдента, \n",
    "$\\sigma$ - несмещённое среднее квадратическое отклонение выборки, <b>n</b> - объем выборки"
   ]
  },
  {
   "cell_type": "markdown",
   "id": "7ddbb203",
   "metadata": {},
   "source": [
    "Таблица 1. Z Таблица (положительные значения)"
   ]
  },
  {
   "cell_type": "markdown",
   "id": "2f529883",
   "metadata": {},
   "source": [
    "![Positive Z Table](https://datascience.eu/wp-content/uploads/2020/05/image1.png)"
   ]
  },
  {
   "cell_type": "markdown",
   "id": "84e16b4e",
   "metadata": {},
   "source": [
    "Таблица 2. Z Таблица (отрицательные значения)"
   ]
  },
  {
   "cell_type": "markdown",
   "id": "ec6c5d1d",
   "metadata": {},
   "source": [
    "![Negative Z Table](https://www.ztable.net/wp-content/uploads/2018/11/negativeztable.png)"
   ]
  },
  {
   "cell_type": "markdown",
   "id": "8e035295",
   "metadata": {},
   "source": [
    "Таблица 3. Таблица Стьюдента   "
   ]
  },
  {
   "cell_type": "markdown",
   "id": "db980fdf",
   "metadata": {},
   "source": [
    "![Student Table](https://fsd.multiurok.ru/viewImage.php?image=http://nice-diplom.ru/templates/blue/images/img/form_69.gif)"
   ]
  },
  {
   "cell_type": "code",
   "execution_count": 18,
   "id": "13eed630",
   "metadata": {},
   "outputs": [],
   "source": [
    "def Z_interval (X_mean, alpha, sigma, n):\n",
    "    Z_table = stats.norm.ppf(1-alpha/2) # Также можно найти по Таблице 1\n",
    "    print (f'[{X_mean - (Z_table*(sigma/(n**0.5)))}, {X_mean + (Z_table*(sigma/(n**0.5)))}]')"
   ]
  },
  {
   "cell_type": "code",
   "execution_count": 19,
   "id": "88b0d11c",
   "metadata": {},
   "outputs": [],
   "source": [
    "def t_interval (array, alpha):\n",
    "    array_mean = np.mean(array)\n",
    "    D = np.var(array, ddof=1)\n",
    "    t = stats.t.ppf(1-alpha/2, len(array) - 1) # Также можно найти по Таблице 2\n",
    "    print (f'[{array_mean - t * np.sqrt(D/len(array))}, {array_mean + t * np.sqrt(D/len(array))}]')"
   ]
  },
  {
   "cell_type": "code",
   "execution_count": 20,
   "id": "5f12577d",
   "metadata": {},
   "outputs": [],
   "source": [
    "def interval_for_mean (array_1, array_2, alpha):     # Интервальная оценка для разности средних арифметических\n",
    "    raznost = array_1 - array_2\n",
    "    raznost_mean = np.mean(raznost)\n",
    "    n = len(raznost)\n",
    "    raznost_var = raznost.var()*n/(n-1)\n",
    "    sigma = np.sqrt(raznost_var)\n",
    "    t_kriteriy = stats.t.ppf((1+(1-alpha))/2, n-1)\n",
    "    print (f'[{raznost_mean - t_kriteriy * sigma/np.sqrt(n)}, {raznost_mean + t_kriteriy * sigma/np.sqrt(n)}]')"
   ]
  },
  {
   "cell_type": "markdown",
   "id": "1546462d",
   "metadata": {},
   "source": [
    "## ЗАДАНИЕ 1. \n",
    "**Известно, что генеральная совокупность распределена нормально со средним квадратическим отклонением, равным 16. Найти доверительный интервал для оценки математического ожидания a с надежностью 0.95, если выборочная средняя M = 80, а объем выборки n = 256.**"
   ]
  },
  {
   "cell_type": "markdown",
   "id": "64f2ea63",
   "metadata": {},
   "source": [
    "**<p style=\"text-align: center;\">\n",
    "    <font size=10 color=#32CD32><b>-------------------------------</b></font><br>\n",
    "    <font size=4.5 color=#3ac444>РЕШЕНИЕ:</font><br>\n",
    "<font size=10 color=#32CD32><b>-------------------------------</b></font></p>**"
   ]
  },
  {
   "cell_type": "markdown",
   "id": "adf78b69",
   "metadata": {},
   "source": [
    "Т.к., из условия задачи нам известно среднее квадратическое отклонение генеральной совокупности $\\sigma=16$, то для расчета $95\\%$-го доверительного интервала, будем использовать $Z$-критерий. Границы доверительного интервала расчитаем по формуле (1) и будет равен:<br>\n",
    "Левая граница: $80-1.96\\cdot\\frac{16}{\\sqrt 256}$<br>\n",
    "Правая граница: $80+1.96\\cdot\\frac{16}{\\sqrt 256}$"
   ]
  },
  {
   "cell_type": "code",
   "execution_count": 21,
   "id": "875780a0",
   "metadata": {},
   "outputs": [
    {
     "name": "stdout",
     "output_type": "stream",
     "text": [
      "[78.04003601545995, 81.95996398454005]\n"
     ]
    }
   ],
   "source": [
    "# Дано\n",
    "sigma = 16\n",
    "alpha = 0.05\n",
    "n = 256\n",
    "X_mean = 80\n",
    "Z_interval (X_mean, alpha, sigma, n)"
   ]
  },
  {
   "cell_type": "markdown",
   "id": "9512d175",
   "metadata": {},
   "source": [
    "<div class=\"alert alert-block alert-success\"><font size=3 color='b'><b>ОТВЕТ: </b><br>Доверительный интервал для оценки математического ожидания с надежностью 0.95? будет находиться в границах [78.04, 81.96]</font></div>"
   ]
  },
  {
   "cell_type": "markdown",
   "id": "9f71d79b",
   "metadata": {},
   "source": [
    "---"
   ]
  },
  {
   "cell_type": "markdown",
   "id": "d3de586d",
   "metadata": {},
   "source": [
    "## ЗАДАНИЕ 2. \n",
    "**В результате 10 независимых измерений некоторой величины X, выполненных с одинаковой точностью, получены опытные данные:**\n",
    "```\n",
    "6.9, 6.1, 6.2, 6.8, 7.5, 6.3, 6.4, 6.9, 6.7, 6.1\n",
    "```\n",
    "**Предполагая, что результаты измерений подчинены нормальному закону распределения вероятностей, оценить истинное значение величины X при помощи доверительного интервала, покрывающего это значение с доверительной вероятностью 0,95.**"
   ]
  },
  {
   "cell_type": "markdown",
   "id": "f2d1a5f9",
   "metadata": {},
   "source": [
    "**<p style=\"text-align: center;\">\n",
    "    <font size=10 color=#32CD32><b>-------------------------------</b></font><br>\n",
    "    <font size=4.5 color=#3ac444>РЕШЕНИЕ:</font><br>\n",
    "<font size=10 color=#32CD32><b>-------------------------------</b></font></p>**"
   ]
  },
  {
   "cell_type": "markdown",
   "id": "e7310d47",
   "metadata": {},
   "source": [
    "Т.к., из условия задачи нам НЕ известно мат. ожидании генеральной совокупности, СКО для генеральной совокупности, то для расчета $95\\%$-го доверительного интервала будем использовать $t$-критерий и формулу (2)."
   ]
  },
  {
   "cell_type": "code",
   "execution_count": 22,
   "id": "80dfb653",
   "metadata": {},
   "outputs": [
    {
     "name": "stdout",
     "output_type": "stream",
     "text": [
      "[6.267515851415713, 6.912484148584288]\n"
     ]
    }
   ],
   "source": [
    "# Дано\n",
    "data = [6.9, 6.1, 6.2, 6.8, 7.5, 6.3, 6.4, 6.9, 6.7, 6.1]\n",
    "data_mean = np.mean(data)\n",
    "alpha = 0.05\n",
    "n = 10\n",
    "t_interval (data, alpha)"
   ]
  },
  {
   "cell_type": "markdown",
   "id": "96229abb",
   "metadata": {},
   "source": [
    "<div class=\"alert alert-block alert-success\"><font size=3 color='b'><b>ОТВЕТ: </b><br>Истинное значение величины X будет находиться в интервале [6.268, 6.912]</font></div>"
   ]
  },
  {
   "cell_type": "markdown",
   "id": "2c8bb4a1",
   "metadata": {},
   "source": [
    "---"
   ]
  },
  {
   "cell_type": "markdown",
   "id": "e6d9e1b8",
   "metadata": {},
   "source": [
    "## ЗАДАНИЕ 3. \n",
    "*Рост дочерей:*\n",
    "```\n",
    "175, 167, 154, 174, 178, 148, 160, 167, 169, 170\n",
    "``` \n",
    "*Рост матерей:*\n",
    "```\n",
    "178, 165, 165, 173, 168, 155, 160, 164, 178, 175\n",
    "```\n",
    "**Используя эти данные построить 95% доверительный интервал для разности среднего роста родителей и детей.**"
   ]
  },
  {
   "cell_type": "markdown",
   "id": "8b884a84",
   "metadata": {},
   "source": [
    "**<p style=\"text-align: center;\">\n",
    "    <font size=10 color=#32CD32><b>-------------------------------</b></font><br>\n",
    "    <font size=4.5 color=#3ac444>РЕШЕНИЕ:</font><br>\n",
    "<font size=10 color=#32CD32><b>-------------------------------</b></font></p>**"
   ]
  },
  {
   "cell_type": "markdown",
   "id": "45f1339c",
   "metadata": {},
   "source": [
    "Т.к., из условия задачи нам НЕ известно мат. ожидании генеральной совокупности, СКО для генеральной совокупности, то для расчета $95\\%$-го доверительного интервала будем использовать $t$-критерий и формулу (2)."
   ]
  },
  {
   "cell_type": "code",
   "execution_count": 23,
   "id": "56fb35fb",
   "metadata": {},
   "outputs": [
    {
     "name": "stdout",
     "output_type": "stream",
     "text": [
      "95% доверительный интервал для разности среднего роста родителей и детей: [-6.27, 10.07]\n"
     ]
    }
   ],
   "source": [
    "daughters = np.array([175, 167, 154, 174, 178, 148, 160, 167, 169, 170])\n",
    "mothers = np.array([178, 165, 165, 173, 168, 155, 160, 164, 178, 175])\n",
    "delta = np.mean(daughters) - np.mean(mothers)\n",
    "D1 = np.var(mothers, ddof=1)\n",
    "D2 = np.var(daughters, ddof=1)\n",
    "D = (D1 + D2) /2\n",
    "SE = np.sqrt(D/len(mothers) + D/len(daughters)) #Ошибка разницы средних\n",
    "t = stats.t.ppf(0.975, 2*len(mothers) - 2) \n",
    "left = raznost_means - t * SE # Нижняя (левая) граница интервала\n",
    "right = raznost_means + t * SE # Верхняя (правая) граница интервала\n",
    "print(f'95% доверительный интервал для разности среднего роста родителей и детей: [{left:.2f}, {right:.2f}]')"
   ]
  },
  {
   "cell_type": "markdown",
   "id": "84aec5bd",
   "metadata": {},
   "source": [
    "<div class=\"alert alert-block alert-success\"><font size=3 color='b'><b>ОТВЕТ: </b><br>95% lоверительный интервал для разности среднего роста РОДИТЕЛЕЙ и ДЕТЕЙ [-6.27, 10.07]</font></div>"
   ]
  },
  {
   "cell_type": "code",
   "execution_count": null,
   "id": "857bf256",
   "metadata": {},
   "outputs": [],
   "source": []
  },
  {
   "cell_type": "code",
   "execution_count": null,
   "id": "65a2e002",
   "metadata": {},
   "outputs": [],
   "source": []
  }
 ],
 "metadata": {
  "kernelspec": {
   "display_name": "Python 3 (ipykernel)",
   "language": "python",
   "name": "python3"
  },
  "language_info": {
   "codemirror_mode": {
    "name": "ipython",
    "version": 3
   },
   "file_extension": ".py",
   "mimetype": "text/x-python",
   "name": "python",
   "nbconvert_exporter": "python",
   "pygments_lexer": "ipython3",
   "version": "3.11.3"
  }
 },
 "nbformat": 4,
 "nbformat_minor": 5
}
