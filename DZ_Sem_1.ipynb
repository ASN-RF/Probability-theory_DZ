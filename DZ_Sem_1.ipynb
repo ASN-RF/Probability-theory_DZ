{
 "cells": [
  {
   "cell_type": "markdown",
   "id": "f8fb1492",
   "metadata": {},
   "source": [
    "#  <p style=\"text-align: center;\">Практическое задание к Семинару 1.<br><br>Урок 1. Расчет вероятности случайных событий.</p>\n"
   ]
  },
  {
   "cell_type": "code",
   "execution_count": 2,
   "id": "6702d2f9",
   "metadata": {},
   "outputs": [
    {
     "name": "stdout",
     "output_type": "stream",
     "text": [
      "m = 715\n"
     ]
    }
   ],
   "source": [
    "from math import factorial"
   ]
  },
  {
   "cell_type": "markdown",
   "id": "c76debb7",
   "metadata": {},
   "source": [
    "***Задание 1.*** Из колоды в 52 карты извлекаются случайным образом 4 карты.<br>\n",
    "```\n",
    "a) Найти вероятность того, что все карты – крести.\n",
    "б) Найти вероятность, что среди 4-х карт окажется хотя бы один туз.\n",
    "```"
   ]
  },
  {
   "cell_type": "markdown",
   "id": "581a6c8c",
   "metadata": {},
   "source": [
    "<font size=4.5 color=#3ac444>**РЕШЕНИЕ:**</font>"
   ]
  },
  {
   "cell_type": "markdown",
   "id": "c296cf05",
   "metadata": {},
   "source": [
    "a) *Найти вероятность того, что все карты – крести.*\n",
    "1) Находим все сочетания из 4 карт возможные в колоде из 52 карт.\n",
    "2) Находим все сочетания 4 карт одной масти (учитываем, что в колоде 4 масти, тогда $\\frac{52}{4}=13$).\n",
    "3) Находим вероятность вытащить 4 карты одной масти."
   ]
  },
  {
   "cell_type": "markdown",
   "id": "1af7bb4d",
   "metadata": {},
   "source": [
    "Формула вероятности:  \n",
    "$\\displaystyle P(A)=\\frac{m}{n}$, где $m$-число благоприятных исходов, $n$-общее число всех исходов.\n"
   ]
  },
  {
   "cell_type": "markdown",
   "id": "3b4255e5",
   "metadata": {},
   "source": [
    "Формула подсчета количества сочетаний по $k$ элементов из множества $n$:  \n",
    "$\\displaystyle C^k_n=\\frac{n!}{k!(n-k)!}$ "
   ]
  },
  {
   "cell_type": "markdown",
   "id": "d8951bc2",
   "metadata": {},
   "source": [
    ", тогда  все сочетания из 4 карт возможные в колоде из 52 карт: $\\displaystyle n=C^4_{52}$,<br>, а все сочетания 4 карт одной масти (учитываем, что в колоде 4 масти, тогда $\\frac{52}{4}=13$ ): $\\displaystyle m=C^4_{13}$"
   ]
  },
  {
   "cell_type": "code",
   "execution_count": 28,
   "id": "a35c930c",
   "metadata": {},
   "outputs": [],
   "source": [
    "def combinations(n, k): #функция расчета количества сочетаний\n",
    "    return int(factorial(n) / (factorial(k) * factorial(n - k)))"
   ]
  },
  {
   "cell_type": "code",
   "execution_count": 29,
   "id": "0e72df83",
   "metadata": {},
   "outputs": [
    {
     "name": "stdout",
     "output_type": "stream",
     "text": [
      "n = 270725\n"
     ]
    }
   ],
   "source": [
    "# n - все возможные сочетания\n",
    "n=combinations(52, 4)\n",
    "print(f'n = {n}')"
   ]
  },
  {
   "cell_type": "code",
   "execution_count": 30,
   "id": "ae17f357",
   "metadata": {},
   "outputs": [
    {
     "name": "stdout",
     "output_type": "stream",
     "text": [
      "m = 715\n"
     ]
    }
   ],
   "source": [
    "# m - все сочетания одной масти\n",
    "m=combinations(13, 4)\n",
    "print(f'm = {m}')"
   ]
  },
  {
   "cell_type": "code",
   "execution_count": 31,
   "id": "912baca1",
   "metadata": {},
   "outputs": [
    {
     "data": {
      "text/plain": [
       "0.0026410564225690276"
      ]
     },
     "execution_count": 31,
     "metadata": {},
     "output_type": "execute_result"
    }
   ],
   "source": [
    "P=(m/n)\n",
    "P"
   ]
  },
  {
   "cell_type": "markdown",
   "id": "a2da393a",
   "metadata": {},
   "source": [
    "б) *Найти вероятность, что среди 4-х карт окажется хотя бы один туз.*\n",
    "1) Находим все сочетания из 4 карт возможные в колоде из 52 карт.  => $\\displaystyle n=C^4_{52}$\n",
    "2) Находим все сочетания 4 карт, в которых нет ни одного туза. (в колоде 4 туза разной масти, тогда 52-4=48) => $\\displaystyle n=C^4_{48}$\n",
    "3) Находим вероятность вытащить хотябы один туз. Учтем,что сумма вероятностей противоположных событий равна 1:<br>  $\\displaystyle P(A)+P(\\bar{A})=1$, т.е. количество способов извлечь 4 карты из колоды **без** тузов. Тогда $\\displaystyle P(A)=1-P(\\bar{A})$"
   ]
  },
  {
   "cell_type": "code",
   "execution_count": 32,
   "id": "848c6844",
   "metadata": {},
   "outputs": [
    {
     "name": "stdout",
     "output_type": "stream",
     "text": [
      "n = 270725\n"
     ]
    }
   ],
   "source": [
    "# n - все возможные сочетания\n",
    "n=combinations(52, 4)\n",
    "print(f'n = {n}')"
   ]
  },
  {
   "cell_type": "code",
   "execution_count": 33,
   "id": "d1ac0866",
   "metadata": {},
   "outputs": [
    {
     "name": "stdout",
     "output_type": "stream",
     "text": [
      "m = 194580\n"
     ]
    }
   ],
   "source": [
    "# m - все сочетания одной масти\n",
    "m=combinations(48, 4)\n",
    "print(f'm = {m}')"
   ]
  },
  {
   "cell_type": "code",
   "execution_count": 34,
   "id": "4f816ccb",
   "metadata": {},
   "outputs": [
    {
     "data": {
      "text/plain": [
       "0.2812632745405854"
      ]
     },
     "execution_count": 34,
     "metadata": {},
     "output_type": "execute_result"
    }
   ],
   "source": [
    "P_tyz=1-(m/n)\n",
    "P_tyz"
   ]
  },
  {
   "cell_type": "markdown",
   "id": "5fc1f0e1",
   "metadata": {},
   "source": [
    "<div class=\"alert alert-block alert-success\"><font size=3 color='b'><b>ОТВЕТ: </b><br>  1.а) Вероятность вытащить все карты масти крести равна $P\\approx 0.0026 \\approx 0.26\\%$.<br>1.б) Вероятность, что среди 4-х карт окажется хотя бы один туз равна $P\\approx 0.2813 \\approx 28.13\\%$.</font></div>"
   ]
  },
  {
   "cell_type": "markdown",
   "id": "7e5c8173",
   "metadata": {},
   "source": [
    "<br><br><br><font size=10 color=#32CD32><b>-------------------------------------------------------------</b></font>"
   ]
  },
  {
   "cell_type": "markdown",
   "id": "47935727",
   "metadata": {},
   "source": [
    "#  <p style=\"text-align: center;\">ПРОШУ НЕ ОЦЕНИВАТЬ ДО 14.10.2023.<br><br>ОБЯЗУЮСЬ ДОДЕЛАТЬ ВСЕ ЗАДАНИЯ до 22:00 (МСК) 14.10.2023<br><br>*нахожусь в командировке, не всегда есть возможность сделать задания*</p>\n"
   ]
  },
  {
   "cell_type": "markdown",
   "id": "8e2d22c9",
   "metadata": {},
   "source": [
    "<br><br><br><font size=10 color=#32CD32><b>-------------------------------------------------------------</b></font>"
   ]
  }
 ],
 "metadata": {
  "kernelspec": {
   "display_name": "Python 3 (ipykernel)",
   "language": "python",
   "name": "python3"
  },
  "language_info": {
   "codemirror_mode": {
    "name": "ipython",
    "version": 3
   },
   "file_extension": ".py",
   "mimetype": "text/x-python",
   "name": "python",
   "nbconvert_exporter": "python",
   "pygments_lexer": "ipython3",
   "version": "3.11.3"
  }
 },
 "nbformat": 4,
 "nbformat_minor": 5
}
