{
 "cells": [
  {
   "cell_type": "markdown",
   "id": "acc95c6e",
   "metadata": {},
   "source": [
    "#  <p style=\"text-align: center;\">Практическое задание к Семинару 1.<br><br>Урок 1. Расчет вероятности случайных событий.</p>\n"
   ]
  },
  {
   "cell_type": "code",
   "execution_count": 5,
   "id": "2e4374c8",
   "metadata": {},
   "outputs": [],
   "source": [
    "from math import factorial"
   ]
  },
  {
   "cell_type": "markdown",
   "id": "b6334875",
   "metadata": {},
   "source": [
    "**Формула вероятности:**\n",
    "<div class=\"alert alert-block alert-warning\"><font size=4 color=black><b>\n",
    "$\\displaystyle P(A)=\\frac{m}{n}$ (1)<br>, где $m$-число благоприятных исходов, $n$-общее число всех исходов.</b></font></div>\n"
   ]
  },
  {
   "cell_type": "markdown",
   "id": "8e7421ec",
   "metadata": {},
   "source": [
    "**Формула подсчета количества сочетаний по $k$ элементов из множества $n$:**  \n",
    "<div class=\"alert alert-block alert-warning\"><font size=4 color=black><b>$\\displaystyle C^k_n=\\frac{n!}{k!(n-k)!}$ (2)</b></font></div>"
   ]
  },
  {
   "cell_type": "markdown",
   "id": "5d382830",
   "metadata": {},
   "source": [
    "## ЗАДАНИЕ 1. \n",
    "**Из колоды в 52 карты извлекаются случайным образом 4 карты.**<br>\n",
    "```\n",
    "a) Найти вероятность того, что все карты – крести.\n",
    "б) Найти вероятность, что среди 4-х карт окажется хотя бы один туз.\n",
    "```"
   ]
  },
  {
   "cell_type": "markdown",
   "id": "dcf4ac29",
   "metadata": {},
   "source": [
    "**<p style=\"text-align: center;\">\n",
    "    <font size=10 color=#32CD32><b>-------------------------------</b></font><br>\n",
    "    <font size=4.5 color=#3ac444>РЕШЕНИЕ:</font><br>\n",
    "<font size=10 color=#32CD32><b>-------------------------------</b></font></p>**"
   ]
  },
  {
   "cell_type": "markdown",
   "id": "577afb64",
   "metadata": {},
   "source": [
    "В данной задаче ПОРЯДОК неважен и участвуют НЕ ВСЕ ЭЛЕМЕНТЫ, то задачу будем решать формулой **СОЧЕТАНИЙ**."
   ]
  },
  {
   "cell_type": "markdown",
   "id": "0327e227",
   "metadata": {},
   "source": [
    "**a) *Найти вероятность того, что все карты – крести.***\n",
    "1) Находим все сочетания из 4 карт возможные в колоде из 52 карт.\n",
    "2) Находим все сочетания 4 карт одной масти (учитываем, что в колоде 4 масти, тогда $\\frac{52}{4}=13$).\n",
    "3) Находим вероятность вытащить 4 карты одной масти."
   ]
  },
  {
   "cell_type": "markdown",
   "id": "1cced83b",
   "metadata": {},
   "source": [
    "Исходя из формулы 2, найдем:<br>1) $n$ - общее число всех исходов или все сочетания из 4 карт возможные в колоде из 52 карт: $\\displaystyle n=C^4_{52}$;<br> \n",
    "2) $m$ - число благоприятных исходов или все сочетания из 4 карт одной масти (учитываем, что в колоде 4 масти, тогда $\\frac{52}{4}=13$ ): $\\displaystyle m=C^4_{13}$"
   ]
  },
  {
   "cell_type": "code",
   "execution_count": 10,
   "id": "61b94845",
   "metadata": {},
   "outputs": [],
   "source": [
    "def sochetaniy(n, m): #функция расчета количества сочетаний\n",
    "    return int(factorial(n) / (factorial(m) * factorial(n - m)))"
   ]
  },
  {
   "cell_type": "code",
   "execution_count": 29,
   "id": "13ca292b",
   "metadata": {},
   "outputs": [
    {
     "name": "stdout",
     "output_type": "stream",
     "text": [
      "n = 270725\n"
     ]
    }
   ],
   "source": [
    "# n - все возможные исходы\n",
    "n_1=sochetaniy(52, 4)\n",
    "print(f'n = {n}')"
   ]
  },
  {
   "cell_type": "code",
   "execution_count": 30,
   "id": "4be17678",
   "metadata": {},
   "outputs": [
    {
     "name": "stdout",
     "output_type": "stream",
     "text": [
      "m = 715\n"
     ]
    }
   ],
   "source": [
    "# m - все благоприятные исходы\n",
    "m_1=sochetaniy(13, 4)\n",
    "print(f'm = {m}')"
   ]
  },
  {
   "cell_type": "code",
   "execution_count": 67,
   "id": "eb17fb9f",
   "metadata": {},
   "outputs": [
    {
     "name": "stdout",
     "output_type": "stream",
     "text": [
      "P = 0.0026410564225690276\n"
     ]
    }
   ],
   "source": [
    "# P - вероятность\n",
    "P_1=(m_1/n_1)\n",
    "print(f'P = {P_1}')"
   ]
  },
  {
   "cell_type": "markdown",
   "id": "7dc20136",
   "metadata": {},
   "source": [
    "### 2 способ. Решение задачи через формулу вероятности.\n",
    "Рассчитаем вероятность вытащить крестовую карту, для каждой попытки:<br>\n",
    "$\\displaystyle P_{1-карта}=\\frac{13}{52}$;\n",
    "$\\displaystyle P_{2-карта}=\\frac{12}{51}$;\n",
    "$\\displaystyle P_{3-карта}=\\frac{11}{50}$; \n",
    "$\\displaystyle P_{4-карта}=\\frac{10}{49}$.|  \n",
    "$\\displaystyle P(4 крестовые)=\\frac{13}{52}\\cdot\\frac{12}{51}\\cdot\\frac{11}{50}\\cdot\\frac{10}{49}$   "
   ]
  },
  {
   "cell_type": "code",
   "execution_count": 70,
   "id": "02338e1a",
   "metadata": {},
   "outputs": [
    {
     "name": "stdout",
     "output_type": "stream",
     "text": [
      "P(4крестовые) = 0.0026\n"
     ]
    }
   ],
   "source": [
    "P_1_2=13/52*12/51*11/50*10/49\n",
    "print(f'P(4крестовые) = {round(P_1_2,4)}')"
   ]
  },
  {
   "cell_type": "markdown",
   "id": "b65d75e6",
   "metadata": {},
   "source": [
    "**б) *Найти вероятность, что среди 4-х карт окажется хотя бы один туз.***\n",
    "1) Находим все сочетания из 4 карт возможные в колоде из 52 карт.  => $\\displaystyle n=C^4_{52}$\n",
    "2) Находим все сочетания 4 карт, в которых нет ни одного туза (в колоде 4 туза разной масти, тогда 52-4=48) => $\\displaystyle n=C^4_{48}$\n",
    "3) Находим вероятность вытащить хотя бы один туз. Учтем,что сумма вероятностей противоположных событий равна 1:<br>  $\\displaystyle P(A)+P(\\bar{A})=1$, т.е. количество способов извлечь 4 карты из колоды **без** тузов. Тогда $\\displaystyle P(A)=1-P(\\bar{A})$"
   ]
  },
  {
   "cell_type": "markdown",
   "id": "2cb4709c",
   "metadata": {},
   "source": [
    "Исходя из формулы 2, найдем:<br>1) $n$ - общее число всех исходов или все сочетания из 4 карт возможные в колоде из 52 карт: $\\displaystyle n=C^4_{52}$;<br> \n",
    "2) $m$ - число благоприятных исходов или все все сочетания карт без тузов: $\\displaystyle m=C^4_{48}$"
   ]
  },
  {
   "cell_type": "code",
   "execution_count": 33,
   "id": "eb8d9ac4",
   "metadata": {},
   "outputs": [
    {
     "name": "stdout",
     "output_type": "stream",
     "text": [
      "n = 270725\n"
     ]
    }
   ],
   "source": [
    "# n_1_b - все возможные сочетания\n",
    "n_1_b=sochetaniy(52, 4)\n",
    "print(f'n = {n_1_b}')"
   ]
  },
  {
   "cell_type": "code",
   "execution_count": 36,
   "id": "ecd45217",
   "metadata": {},
   "outputs": [
    {
     "name": "stdout",
     "output_type": "stream",
     "text": [
      "m = 194580\n"
     ]
    }
   ],
   "source": [
    "# m_1_b - все сочетания карт без тузов\n",
    "m_1_b=sochetaniy(48, 4)\n",
    "print(f'm = {m_1_b}')"
   ]
  },
  {
   "cell_type": "code",
   "execution_count": 37,
   "id": "bf68b920",
   "metadata": {},
   "outputs": [
    {
     "data": {
      "text/plain": [
       "0.2812632745405854"
      ]
     },
     "execution_count": 37,
     "metadata": {},
     "output_type": "execute_result"
    }
   ],
   "source": [
    "# P - вероятность\n",
    "P_tyz=1-(m_1_b/n_1_b)\n",
    "P_tyz"
   ]
  },
  {
   "cell_type": "markdown",
   "id": "2010b8de",
   "metadata": {},
   "source": [
    "<div class=\"alert alert-block alert-success\"><font size=3 color='b'><b>ОТВЕТ: </b><br>  а) Вероятность вытащить все карты масти крести равна $P\\approx 0.0026 \\approx 0.26\\%$.<br>б) Вероятность, что среди 4-х карт окажется хотя бы один туз равна $P\\approx 0.2813 \\approx 28.13\\%$.</font></div>"
   ]
  },
  {
   "cell_type": "markdown",
   "id": "020912d8",
   "metadata": {},
   "source": [
    "---"
   ]
  },
  {
   "cell_type": "markdown",
   "id": "ae18a661",
   "metadata": {},
   "source": [
    "## ЗАДАНИЕ 2. \n",
    "**На входной двери подъезда установлен кодовый замок, содержащий десять кнопок с цифрами от 0 до 9. Код содержит три цифры, которые нужно нажать одновременно. Какова вероятность того, что человек, не знающий код, откроет дверь с первой попытки?**"
   ]
  },
  {
   "cell_type": "markdown",
   "id": "827f0cca",
   "metadata": {},
   "source": [
    "**<p style=\"text-align: center;\">\n",
    "    <font size=10 color=#32CD32><b>-------------------------------</b></font><br>\n",
    "    <font size=4.5 color=#3ac444>РЕШЕНИЕ:</font><br>\n",
    "<font size=10 color=#32CD32><b>-------------------------------</b></font></p>**"
   ]
  },
  {
   "cell_type": "markdown",
   "id": "b4f40d26",
   "metadata": {},
   "source": [
    "В данной задаче ПОРЯДОК неважен и участвуют НЕ ВСЕ ЭЛЕМЕНТЫ, то задачу будем решать формулой **СОЧЕТАНИЙ**.\n",
    "1) Найдем **n** - общее число всех исходов.\n",
    "2) Найдем **m** -  число благоприятных исходов.\n",
    "3) Найдем **P** - вероятность, что человек, не знающий код, откроет дверь с первой попытки."
   ]
  },
  {
   "cell_type": "markdown",
   "id": "532a19ac",
   "metadata": {},
   "source": [
    "Исходя из формулы 2, найдем:<br>1) $n$ - общее число всех исходов (цифр 10 и 3 кнопки надо нажать одновременно): $\\displaystyle n=C^3_{10}$;<br> \n",
    "2) $m$ - число благоприятных исходов или все все сочетания карт без тузов: $\\displaystyle m=1$"
   ]
  },
  {
   "cell_type": "code",
   "execution_count": 59,
   "id": "b7b879cb",
   "metadata": {},
   "outputs": [
    {
     "name": "stdout",
     "output_type": "stream",
     "text": [
      "n = 120\n"
     ]
    }
   ],
   "source": [
    "# n - общее число всех исходов (цифр 10 и 3 кнопки надо нажать одновременно)\n",
    "n_2=sochetaniy(10, 3)\n",
    "print(f'n = {n_2}')"
   ]
  },
  {
   "cell_type": "code",
   "execution_count": 60,
   "id": "c6c99577",
   "metadata": {},
   "outputs": [
    {
     "name": "stdout",
     "output_type": "stream",
     "text": [
      "m = 1\n"
     ]
    }
   ],
   "source": [
    "# m - все благоприятные исходы, т.к. нам надо найти вероятность того, что человек откроет дверь с ПЕРВОЙ попытки, то у нас есть только ОДИН благоприятный исход.\n",
    "m_2 = 1\n",
    "print(f'm = {m_2}')"
   ]
  },
  {
   "cell_type": "code",
   "execution_count": 61,
   "id": "4682d76d",
   "metadata": {},
   "outputs": [
    {
     "data": {
      "text/plain": [
       "0.008333333333333333"
      ]
     },
     "execution_count": 61,
     "metadata": {},
     "output_type": "execute_result"
    }
   ],
   "source": [
    "# P - вероятность\n",
    "P_2=m_2/n_2\n",
    "P_2"
   ]
  },
  {
   "cell_type": "markdown",
   "id": "bd00a8c7",
   "metadata": {},
   "source": [
    "<div class=\"alert alert-block alert-success\"><font size=3 color='b'><b>ОТВЕТ: </b><br>Вероятность открыть дверь с <b>ПЕРВОЙ</b> попытки одновременным нажатием <b>ТРЁХ</b> кнопок (цифр): $\\displaystyle P\\approx0.0083\\approx0.83\\%$</font></div>"
   ]
  },
  {
   "cell_type": "markdown",
   "id": "ceea8b36",
   "metadata": {},
   "source": [
    "---"
   ]
  },
  {
   "cell_type": "markdown",
   "id": "88035701",
   "metadata": {},
   "source": [
    "## ЗАДАНИЕ 3. \n",
    "**В ящике имеется 15 деталей, из которых 9 окрашены. Рабочий случайным образом извлекает 3 детали. Какова вероятность того, что все извлеченные детали окрашены?**"
   ]
  },
  {
   "cell_type": "markdown",
   "id": "c704767a",
   "metadata": {},
   "source": [
    "**<p style=\"text-align: center;\">\n",
    "    <font size=10 color=#32CD32><b>-------------------------------</b></font><br>\n",
    "    <font size=4.5 color=#3ac444>РЕШЕНИЕ:</font><br>\n",
    "<font size=10 color=#32CD32><b>-------------------------------</b></font></p>**"
   ]
  },
  {
   "cell_type": "markdown",
   "id": "a76ad63a",
   "metadata": {},
   "source": [
    "В данной задаче ПОРЯДОК неважен и участвуют НЕ ВСЕ ЭЛЕМЕНТЫ, то задачу будем решать формулой **СОЧЕТАНИЙ**.\n",
    "1) Найдем **n** - общее число всех исходов.\n",
    "2) Найдем **m** - число благоприятных исходов.\n",
    "3) Найдем **P** - вероятность, что извлеченные детали окрашены."
   ]
  },
  {
   "cell_type": "markdown",
   "id": "52572d0c",
   "metadata": {},
   "source": [
    "Исходя из формулы 2, найдем:<br>1) $n$ - общее число всех исходов (всего количество деталей 15 штук, извлекаются 3 детали): $\\displaystyle n=C^3_{15}$;<br> \n",
    "2) $m$ - все благоприятные исходы (всего окрашенных деталей 9 и надо извлечь 3 детали): $\\displaystyle m=C^3_{9}$"
   ]
  },
  {
   "cell_type": "code",
   "execution_count": 49,
   "id": "df16f092",
   "metadata": {},
   "outputs": [
    {
     "name": "stdout",
     "output_type": "stream",
     "text": [
      "n = 455\n"
     ]
    }
   ],
   "source": [
    "# n - общее число всех исходов (всего количество деталей 15 штук, извлекаются 3 детали)\n",
    "n_3=sochetaniy(15, 3)\n",
    "print(f'n = {n_3}')"
   ]
  },
  {
   "cell_type": "code",
   "execution_count": 50,
   "id": "037ba8f9",
   "metadata": {},
   "outputs": [
    {
     "name": "stdout",
     "output_type": "stream",
     "text": [
      "m = 84\n"
     ]
    }
   ],
   "source": [
    "# m - все благоприятные исходы (всего окрашенных деталей 9 и надо извлечь 3 детали)\n",
    "m_3=sochetaniy(9, 3)\n",
    "print(f'm = {m_3}')"
   ]
  },
  {
   "cell_type": "code",
   "execution_count": 65,
   "id": "dd20e5c8",
   "metadata": {},
   "outputs": [
    {
     "data": {
      "text/plain": [
       "0.18461538461538463"
      ]
     },
     "execution_count": 65,
     "metadata": {},
     "output_type": "execute_result"
    }
   ],
   "source": [
    "# P - вероятность\n",
    "P_3=m_3/n_3\n",
    "P_3"
   ]
  },
  {
   "cell_type": "markdown",
   "id": "35a498f5",
   "metadata": {},
   "source": [
    "Или $P(\\text{3 из 3-х окрашены})=\\frac{9}{15}\\cdot\\frac{8}{14}\\cdot\\frac{7}{13}$"
   ]
  },
  {
   "cell_type": "markdown",
   "id": "15ff34d0",
   "metadata": {},
   "source": [
    "<div class=\"alert alert-block alert-success\"><font size=3 color='b'><b>ОТВЕТ: </b><br>Вероятность вытащить с <b>ПЕРВОЙ</b> попытки 3 окрашенные детали: $\\displaystyle P\\approx0.1846\\approx18.46\\%$</font></div>"
   ]
  },
  {
   "cell_type": "markdown",
   "id": "eee105c7",
   "metadata": {},
   "source": [
    "---"
   ]
  },
  {
   "cell_type": "markdown",
   "id": "721f440f",
   "metadata": {},
   "source": [
    "## ЗАДАНИЕ 4. \n",
    "**В лотерее 100 билетов. Из них 2 выигрышных. Какова вероятность того, что 2 приобретенных билета окажутся выигрышными?**"
   ]
  },
  {
   "cell_type": "markdown",
   "id": "50c3963e",
   "metadata": {},
   "source": [
    "**<p style=\"text-align: center;\">\n",
    "    <font size=10 color=#32CD32><b>-------------------------------</b></font><br>\n",
    "    <font size=4.5 color=#3ac444>РЕШЕНИЕ:</font><br>\n",
    "<font size=10 color=#32CD32><b>-------------------------------</b></font></p>**"
   ]
  },
  {
   "cell_type": "markdown",
   "id": "cdc39314",
   "metadata": {},
   "source": [
    "В данной задаче ПОРЯДОК неважен и участвуют НЕ ВСЕ ЭЛЕМЕНТЫ, то задачу будем решать формулой **СОЧЕТАНИЙ**.\n",
    "1) Найдем **n** - общее число всех исходов.\n",
    "2) Найдем **m** - число благоприятных исходов.\n",
    "3) Найдем **P** - вероятность, что извлеченные детали окрашены."
   ]
  },
  {
   "cell_type": "markdown",
   "id": "23e03c8e",
   "metadata": {},
   "source": [
    "Исходя из формулы 2, найдем:<br>1) $n$ - общее число всех исходов (всего билетов 100 штук, извлекаются 2 билета): $\\displaystyle n=C^2_{100}$;<br> \n",
    "2) $m$ - все благоприятные исходы, т.к. нам надо найти вероятность того, что приобретаем билеты с первого раза: $\\displaystyle m=1$"
   ]
  },
  {
   "cell_type": "code",
   "execution_count": 62,
   "id": "d92f857e",
   "metadata": {},
   "outputs": [
    {
     "name": "stdout",
     "output_type": "stream",
     "text": [
      "n = 4950\n"
     ]
    }
   ],
   "source": [
    "# n - общее число всех исходов (всего билетов 100 штук, извлекаются 2 билета)\n",
    "n_4=sochetaniy(100, 2)\n",
    "print(f'n = {n_4}')"
   ]
  },
  {
   "cell_type": "code",
   "execution_count": 63,
   "id": "9af3fadc",
   "metadata": {},
   "outputs": [
    {
     "name": "stdout",
     "output_type": "stream",
     "text": [
      "m = 1\n"
     ]
    }
   ],
   "source": [
    "# m - все благоприятные исходы, т.к. нам надо найти вероятность того, что приобретаем билеты с ОДИН раз.\n",
    "m_4 = 1\n",
    "print(f'm = {m_4}')"
   ]
  },
  {
   "cell_type": "code",
   "execution_count": 64,
   "id": "c394ce48",
   "metadata": {},
   "outputs": [
    {
     "data": {
      "text/plain": [
       "0.00020202020202020202"
      ]
     },
     "execution_count": 64,
     "metadata": {},
     "output_type": "execute_result"
    }
   ],
   "source": [
    "# P - вероятность\n",
    "P_4=m_4/n_4\n",
    "P_4"
   ]
  },
  {
   "cell_type": "markdown",
   "id": "f3b6b9db",
   "metadata": {},
   "source": [
    "<div class=\"alert alert-block alert-success\"><font size=3 color='b'><b>ОТВЕТ: </b><br>Вероятность того, что 2 приобретенных билета окажутся выигрышными: $\\displaystyle P\\approx0.0002\\approx0.02\\%$</font></div>"
   ]
  }
 ],
 "metadata": {
  "kernelspec": {
   "display_name": "Python 3 (ipykernel)",
   "language": "python",
   "name": "python3"
  },
  "language_info": {
   "codemirror_mode": {
    "name": "ipython",
    "version": 3
   },
   "file_extension": ".py",
   "mimetype": "text/x-python",
   "name": "python",
   "nbconvert_exporter": "python",
   "pygments_lexer": "ipython3",
   "version": "3.11.3"
  }
 },
 "nbformat": 4,
 "nbformat_minor": 5
}
