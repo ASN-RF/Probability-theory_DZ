{
 "cells": [
  {
   "cell_type": "markdown",
   "id": "e580b257",
   "metadata": {},
   "source": [
    "#  <p style=\"text-align: center;\">Практическое задание к Семинару 2.<br><br>Урок 2. Дискретные распределения вероятностей.</p>\n"
   ]
  },
  {
   "cell_type": "code",
   "execution_count": 111,
   "id": "d49fcde6",
   "metadata": {},
   "outputs": [],
   "source": [
    "from math import factorial, exp"
   ]
  },
  {
   "cell_type": "markdown",
   "id": "ee1f386c",
   "metadata": {},
   "source": [
    "**Формула вероятности:**\n",
    "<div class=\"alert alert-block alert-warning\"><font size=4 color=black><b>\n",
    "$\\displaystyle P(A)=\\frac{m}{n}$ (1)<br>, где $m$-число благоприятных исходов, $n$-общее число всех исходов.</b></font></div>"
   ]
  },
  {
   "cell_type": "markdown",
   "id": "6467f4bf",
   "metadata": {},
   "source": [
    "**Формула подсчета количества сочетаний по $k$ элементов из множества $n$:**  \n",
    "<div class=\"alert alert-block alert-warning\"><font size=4 color=black><b>$\\displaystyle C^k_n=\\frac{n!}{k!(n-k)!}$ (2)</b></font></div>"
   ]
  },
  {
   "cell_type": "markdown",
   "id": "51f274c3",
   "metadata": {},
   "source": [
    "**Формула Бернулли:**\n",
    "<div class=\"alert alert-block alert-warning\"><font size=4 color=black><b>$\\displaystyle P_{n}(X=k)=C^k_{n}p^{k}q^{n-k}$ (3)</b></font></div>"
   ]
  },
  {
   "cell_type": "markdown",
   "id": "830c0097",
   "metadata": {},
   "source": [
    "**Формула Пуассона:**\n",
    "<div class=\"alert alert-block alert-warning\"><font size=4 color=black><b>$\\displaystyle P_m=\\frac{\\lambda^m}{m!}\\cdot e^{-\\lambda}$ (4)<br>, где $\\lambda$ - среднее количество наступления события за определенную единицу измерений, и $\\lambda=p\\cdot n$.</b></font></div>"
   ]
  },
  {
   "cell_type": "code",
   "execution_count": 112,
   "id": "781d893f",
   "metadata": {},
   "outputs": [],
   "source": [
    "def sochetaniy(n, k): #функция расчета количества сочетаний\n",
    "    return int(factorial(n) / (factorial(k) * factorial(n - k)))"
   ]
  },
  {
   "cell_type": "code",
   "execution_count": 113,
   "id": "f800411c",
   "metadata": {},
   "outputs": [],
   "source": [
    "def bernylli(n, k, p): # Формула Бернулли\n",
    "    q = 1 - p;\n",
    "    return float(sochetaniy(n, k)*p**k*q**(n-k))"
   ]
  },
  {
   "cell_type": "code",
   "execution_count": 114,
   "id": "e4444836",
   "metadata": {},
   "outputs": [],
   "source": [
    "def pyassona (m,p,n): # Формула Пуассона\n",
    "    lambd=p*n\n",
    "    return (lambd**m)/factorial(m)*exp(-lambd)"
   ]
  },
  {
   "cell_type": "markdown",
   "id": "e3904001",
   "metadata": {},
   "source": [
    "## ЗАДАНИЕ 1. \n",
    "**Вероятность того, что стрелок попадет в мишень, выстрелив один раз, равна 0.8. Стрелок выстрелил 100 раз. Найдите вероятность того, что стрелок попадет в цель ровно 85 раз.**"
   ]
  },
  {
   "cell_type": "markdown",
   "id": "03fb0125",
   "metadata": {},
   "source": [
    "**<p style=\"text-align: center;\">\n",
    "    <font size=10 color=#32CD32><b>-------------------------------</b></font><br>\n",
    "    <font size=4.5 color=#3ac444>РЕШЕНИЕ:</font><br>\n",
    "<font size=10 color=#32CD32><b>-------------------------------</b></font></p>**"
   ]
  },
  {
   "cell_type": "markdown",
   "id": "c2314cad",
   "metadata": {},
   "source": [
    "Дано:<br>\n",
    "    n = 100<br>\n",
    "    p = 0.8<br>\n",
    "    k = 85<br>\n",
    "    q = 1 - p"
   ]
  },
  {
   "cell_type": "markdown",
   "id": "a627d225",
   "metadata": {},
   "source": [
    "Так как нам известна точная вероятность наступления события и проводиться небольшое количество испытаний, то это биномиальное распределение и находить вероятность будем по формуле Бернулли. Подставив известные нам значения из условия задачи получим:\n",
    "$P_{100}(X=85)=C^{85}_{100}\\cdot0.8^{85}\\cdot0.2^{15}=\\frac{100!}{85!(100-85)!}\\cdot0.8^{85}\\cdot0.2^{15}$"
   ]
  },
  {
   "cell_type": "code",
   "execution_count": 115,
   "id": "1e5e3469",
   "metadata": {},
   "outputs": [
    {
     "data": {
      "text/plain": [
       "0.048061793700746355"
      ]
     },
     "execution_count": 115,
     "metadata": {},
     "output_type": "execute_result"
    }
   ],
   "source": [
    "n = 100\n",
    "p = 0.8\n",
    "k = 85\n",
    "bernylli(n, k, p)"
   ]
  },
  {
   "cell_type": "markdown",
   "id": "97263075",
   "metadata": {},
   "source": [
    "<div class=\"alert alert-block alert-success\"><font size=3 color='b'><b>ОТВЕТ: </b><br>Вероятность того, что стрелок попадет в цель ровно 85 раз: $P\\approx0.0481\\approx4.81\\%$</font></div>"
   ]
  },
  {
   "cell_type": "markdown",
   "id": "16502871",
   "metadata": {},
   "source": [
    "---"
   ]
  },
  {
   "cell_type": "markdown",
   "id": "01c72a03",
   "metadata": {},
   "source": [
    "## ЗАДАНИЕ 2. \n",
    "**Вероятность того, что лампочка перегорит в течение первого дня эксплуатации, равна 0.0004. В жилом комплексе после ремонта в один день включили 5000 новых лампочек.<br>а) Какова вероятность, что ни одна из них не перегорит в первый день?<br>б) Какова вероятность, что перегорят ровно две?**"
   ]
  },
  {
   "cell_type": "markdown",
   "id": "89a980be",
   "metadata": {},
   "source": [
    "**<p style=\"text-align: center;\">\n",
    "    <font size=10 color=#32CD32><b>-------------------------------</b></font><br>\n",
    "    <font size=4.5 color=#3ac444>РЕШЕНИЕ:</font><br>\n",
    "<font size=10 color=#32CD32><b>-------------------------------</b></font></p>**"
   ]
  },
  {
   "cell_type": "markdown",
   "id": "238babea",
   "metadata": {},
   "source": [
    "**а)** Дано:<br>\n",
    "    n = 5000<br>\n",
    "    p = 0.0004<br>\n",
    "    m = 0"
   ]
  },
  {
   "cell_type": "markdown",
   "id": "11aec9dc",
   "metadata": {},
   "source": [
    "Так как вероятность наступления события мала (<0,1) и проводиться большое количество испытаний, то это частный случай биномиального распределения или распределение Пуассона и находить вероятность будем по формуле Пуассона. Подставив известные нам значения из условия задачи получим:<br>\n",
    "$P_{0}=\\frac{\\lambda^0}{0!}\\cdot e^{-\\lambda}$, а $\\lambda =  0.0004 * 5000 = 2 $ => $P_{0}=\\frac{2^0}{0!}\\cdot e^{-2}$"
   ]
  },
  {
   "cell_type": "code",
   "execution_count": 116,
   "id": "a3fce9ce",
   "metadata": {},
   "outputs": [
    {
     "data": {
      "text/plain": [
       "0.1353352832366127"
      ]
     },
     "execution_count": 116,
     "metadata": {},
     "output_type": "execute_result"
    }
   ],
   "source": [
    "m = 0\n",
    "p = 0.0004\n",
    "n = 5000\n",
    "pyassona (m,p,n)"
   ]
  },
  {
   "cell_type": "markdown",
   "id": "4dbc792d",
   "metadata": {},
   "source": [
    "**б)** Дано:<br>\n",
    "    n = 5000<br>\n",
    "    p = 0.0004<br>\n",
    "    m = 2"
   ]
  },
  {
   "cell_type": "markdown",
   "id": "623500e2",
   "metadata": {},
   "source": [
    "Так как вероятность наступления события мала (<0,1) и проводиться большое количество испытаний, то это частный случай биномиального распределения или распределение Пуассона и находить вероятность будем по формуле Пуассона. Подставив известные нам значения из условия задачи получим:<br>\n",
    "$P_{2}=\\frac{\\lambda^2}{2!}\\cdot e^{-\\lambda}$, а $\\lambda =  0.0004 * 5000 = 2 $ => $P_{2}=\\frac{2^2}{2!}\\cdot e^{-2}$"
   ]
  },
  {
   "cell_type": "code",
   "execution_count": 117,
   "id": "e9bb0a09",
   "metadata": {},
   "outputs": [
    {
     "data": {
      "text/plain": [
       "0.2706705664732254"
      ]
     },
     "execution_count": 117,
     "metadata": {},
     "output_type": "execute_result"
    }
   ],
   "source": [
    "m = 2\n",
    "p = 0.0004\n",
    "n = 5000\n",
    "pyassona (m,p,n)"
   ]
  },
  {
   "cell_type": "markdown",
   "id": "a1161896",
   "metadata": {},
   "source": [
    "<div class=\"alert alert-block alert-success\"><font size=3 color='b'><b>ОТВЕТ: </b><br>а) Вероятность того, что ни одна из ламп не перегорит в первый день: $P\\approx0.1353\\approx13.53\\%$<br>б) Вероятность того, что 2 лампы перегорят в первый день: $P\\approx0.2707\\approx27.07\\%$</font></div>"
   ]
  },
  {
   "cell_type": "markdown",
   "id": "ba2e9971",
   "metadata": {},
   "source": [
    "---"
   ]
  },
  {
   "cell_type": "markdown",
   "id": "e39c9d47",
   "metadata": {},
   "source": [
    "## ЗАДАНИЕ 3. \n",
    "**Монету подбросили 144 раза. Какова вероятность, что орел выпадет ровно 70 раз?**"
   ]
  },
  {
   "cell_type": "markdown",
   "id": "28ac71cd",
   "metadata": {},
   "source": [
    "**<p style=\"text-align: center;\">\n",
    "    <font size=10 color=#32CD32><b>-------------------------------</b></font><br>\n",
    "    <font size=4.5 color=#3ac444>РЕШЕНИЕ:</font><br>\n",
    "<font size=10 color=#32CD32><b>-------------------------------</b></font></p>**"
   ]
  },
  {
   "cell_type": "markdown",
   "id": "d5171ec1",
   "metadata": {},
   "source": [
    "Дано:<br>\n",
    "n = 144<br>\n",
    "p = 0.5<br>\n",
    "q = 0.5<br>\n",
    "k = 70"
   ]
  },
  {
   "cell_type": "markdown",
   "id": "f5e669cf",
   "metadata": {},
   "source": [
    "Так как нам известна точная вероятность наступления события и проводиться небольшое количество испытаний, то это биномиальное распределение и находить вероятность будем по формуле Бернулли. Подставив известные нам значения из условия задачи получим:\n",
    "$P_{144}(X=70)=C^{70}_{144}\\cdot0.5^{70}\\cdot0.5^{144-70}=\\frac{144!}{70!(144-70)!}\\cdot0.5^{70}\\cdot0.5^{74}$"
   ]
  },
  {
   "cell_type": "code",
   "execution_count": 118,
   "id": "4528c947",
   "metadata": {},
   "outputs": [
    {
     "data": {
      "text/plain": [
       "0.06281178035144776"
      ]
     },
     "execution_count": 118,
     "metadata": {},
     "output_type": "execute_result"
    }
   ],
   "source": [
    "n = 144\n",
    "p = 0.5\n",
    "k = 70\n",
    "bernylli(n, k, p)"
   ]
  },
  {
   "cell_type": "markdown",
   "id": "9b780c64",
   "metadata": {},
   "source": [
    "<div class=\"alert alert-block alert-success\"><font size=3 color='b'><b>ОТВЕТ: </b><br>Вероятность того, что при подбрасывании монеты 144 раза орёл выпадет ровно 70 раз: $P\\approx0.0628\\approx6.28\\%$</font></div>"
   ]
  },
  {
   "cell_type": "markdown",
   "id": "53a24963",
   "metadata": {},
   "source": [
    "---"
   ]
  },
  {
   "cell_type": "markdown",
   "id": "b3f01da1",
   "metadata": {},
   "source": [
    "## ЗАДАНИЕ 4. \n",
    "**В первом ящике находится 10 мячей, из которых 7 - белые. Во втором ящике - 11 мячей, из которых 9 белых. Из каждого ящика вытаскивают случайным образом по два мяча.<br>а) Какова вероятность того, что все мячи белые?<br>б) Какова вероятность того, что ровно два мяча белые?<br>в) Какова вероятность того, что хотя бы один мяч белый?**<br><br>"
   ]
  },
  {
   "cell_type": "markdown",
   "id": "e52aaddb",
   "metadata": {},
   "source": [
    "**<p style=\"text-align: center;\">\n",
    "    <font size=10 color=#32CD32><b>-------------------------------</b></font><br>\n",
    "    <font size=4.5 color=#3ac444>РЕШЕНИЕ:</font><br>\n",
    "<font size=10 color=#32CD32><b>-------------------------------</b></font></p>**"
   ]
  },
  {
   "cell_type": "markdown",
   "id": "34b16ea1",
   "metadata": {},
   "source": [
    "**а)  Какова вероятность того, что все мячи белые?**<br>\n",
    "n_1 = 10\n",
    "n_bel_1 = 7\n",
    "n_2 = 11\n",
    "n_bel_2 = 9\n",
    "k = 2\n",
    "Решаем по формуле 1, $\\displaystyle P(A)=\\frac{m}{n}$, т.к. из условия задачи имеются разные ящики, то вероятность будем рассчитывать для каждого ящика по отдельности. Общая вероятность будет находиться по формуле: $P(A+B)=P(A)\\cdot P(B)$, для этого:\n",
    "1) Находим все благоприятные исходы в первом ящике (все сочетания белых шаров).  => $\\displaystyle C^2_{7}$\n",
    "2) Находим все возможные исходы в первом ящике (все сочетания шаров).  => $\\displaystyle C^2_{10}$\n",
    "3) Находим вероятность вытащить оба белых шара подряд из первого ящика. => $P(A) = \\frac {C^2_{7}} {C^2_{10}}$\n",
    "4) Находим все благоприятные исходы во втором ящике (все сочетания белых шаров).  => $\\displaystyle C^2_{9}$\n",
    "5) Находим все возможные исходы во втором ящике (все сочетания шаров).  => $\\displaystyle C^2_{11}$\n",
    "6) Находим вероятность вытащить оба белых шара подряд из второго ящика. => $P(B) = \\frac {C^2_{9}} {C^2_{11}}$\n",
    "7) Находим вероятность того, что все мячи белые. => $P(A+B)=P(A)\\cdot P(B)$"
   ]
  },
  {
   "cell_type": "code",
   "execution_count": 119,
   "id": "463fcd3d",
   "metadata": {},
   "outputs": [],
   "source": [
    "n_1 = 10\n",
    "n_bel_1 = 7\n",
    "\n",
    "n_2 = 11\n",
    "n_bel_2 = 9\n",
    "k = 2"
   ]
  },
  {
   "cell_type": "code",
   "execution_count": 120,
   "id": "a7fc01b5",
   "metadata": {},
   "outputs": [
    {
     "name": "stdout",
     "output_type": "stream",
     "text": [
      "Вероятность того, что все мячи белые Р =  0.3055\n"
     ]
    }
   ],
   "source": [
    "P = sochetaniy(n_bel_1, k)/sochetaniy(n_1, k) * sochetaniy(n_bel_2, k)/sochetaniy(n_2, k)\n",
    "print(f'Вероятность того, что все мячи белые Р = {P: .4f}')"
   ]
  },
  {
   "cell_type": "markdown",
   "id": "ea81e45f",
   "metadata": {},
   "source": [
    "---"
   ]
  },
  {
   "cell_type": "markdown",
   "id": "12c1c741",
   "metadata": {},
   "source": [
    "**б) Какова вероятность того, что ровно два мяча белые?**<br>\n",
    "Решаем по формуле 1, $\\displaystyle P(A)=\\frac{m}{n}$, т.к. из условия задачи имеются разные ящики, то вероятность будем рассчитывать для каждого ящика по отдельности. \n",
    "Общая вероятность будет находиться по формуле: $P(1,2,3)=P(1) + P(2) + P(3)$, для этого:<br>\n",
    "**1 сценарий (P(1))** - Из первого ящика вынули 2 белых шара, тогда из второго 0 белых шаров:<br>\n",
    "1.1) Находим все благоприятные исходы в первом ящике (все сочетания белых шаров).  => $\\displaystyle C^2_{7}$<br>\n",
    "1.2) Находим все возможные исходы в первом ящике (все сочетания шаров).  => $\\displaystyle C^2_{10}$<br>\n",
    "1.3) Находим вероятность вытащить оба шара подряд из первого ящика. => $P(A) = \\frac {C^2_{7}} {C^2_{10}}$<br>\n",
    "1.4) Находим все благоприятные исходы во втором ящике (все сочетания НЕ белых шаров).  => $\\displaystyle C^2_{2}$<br>\n",
    "1.5) Находим все возможные исходы во втором ящике (все сочетания шаров).  => $\\displaystyle C^2_{11}$<br>\n",
    "1.6) Находим вероятность вытащить оба не белых шара подряд из второго ящика. => $P(B) = \\frac {C^2_{2}} {C^2_{11}}$<br>\n",
    "1.7) Находим вероятность того, что все мячи белые. => $P(1_{(A+B)})=P(A)\\cdot P(B)$\n",
    "\n",
    "**2 сценарий (P(2))** - Из каждого ящика вынули только 1 белый шара и 1 НЕ белый шар:<br>\n",
    "2.1) Находим все благоприятные исходы в первом ящике (все сочетания белых шаров).  => $\\displaystyle C^1_{7}$<br>\n",
    "2.2) Находим все благоприятные исходы в первом ящике (все сочетания НЕ белых шаров).  => $\\displaystyle C^1_{3}$<br>\n",
    "2.3) Находим все возможные исходы в первом ящике (все сочетания шаров).  => $\\displaystyle C^2_{10}$<br>\n",
    "2.4) Находим вероятность вытащить один белый и один НЕ белый шар из первого ящика. => $P(A) = \\frac {C^1_{7}+C^1_{3}} {C^2_{10}}$<br>\n",
    "2.5) Находим все благоприятные исходы во втором ящике (все сочетания белых шаров).  => $\\displaystyle C^1_{9}$<br>\n",
    "2.6) Находим все благоприятные исходы во втором ящике (все сочетания НЕ белых шаров).  => $\\displaystyle C^1_{2}$<br>\n",
    "2.7) Находим все возможные исходы во втором ящике (все сочетания шаров).  => $\\displaystyle C^2_{11}$<br>\n",
    "2.8) Находим вероятность вытащить один белый и один НЕ белый шар из второго ящика. => $P(B) = \\frac {C^1_{9}+C^1_{2}} {C^2_{11}}$<br>\n",
    "2.9) Находим вероятность того, что все мячи белые. => $P(2_{(A+B)})=P(A)\\cdot P(B)$\n",
    "\n",
    "**3 сценарий (P(3))** - Из второго ящика вынули 2 белых шара, тогда из первого 0 белых шаров:<br>\n",
    "3.1) Находим все благоприятные исходы в первом ящике (все сочетания белых шаров).  => $\\displaystyle C^2_{3}$<br>\n",
    "3.2) Находим все возможные исходы в первом ящике (все сочетания шаров).  => $\\displaystyle C^2_{10}$<br>\n",
    "3.3) Находим вероятность вытащить оба шара подряд из первого ящика. => $P(A) = \\frac {C^2_{3}} {C^2_{10}}$<br>\n",
    "3.4) Находим все благоприятные исходы во втором ящике (все сочетания белых шаров).  => $\\displaystyle C^2_{9}$<br>\n",
    "3.5) Находим все возможные исходы во втором ящике (все сочетания шаров).  => $\\displaystyle C^2_{11}$<br>\n",
    "3.6) Находим вероятность вытащить оба не белых шара подряд из второго ящика. => $P(B) = \\frac {C^2_{9}} {C^2_{11}}$<br>\n",
    "3.7) Находим вероятность того, что все мячи белые. => $P(3_{(A+B)})=P(A)\\cdot P(B)$<br><br>\n",
    "\n",
    "Находим вероятность того, что ровно два мяча белые:<br> 1 сценарий **ИЛИ** 2 сценарий **ИЛИ** 3 сценарий => **ИЛИ** = \"+\"<br>\n",
    "P(1,2,3) = 1 сценарий **+** 2 сценарий **+** 3 сценарий\n",
    "\n"
   ]
  },
  {
   "cell_type": "code",
   "execution_count": 121,
   "id": "1d4bfe69",
   "metadata": {},
   "outputs": [],
   "source": [
    "# Дано\n",
    "n_1 = 10\n",
    "n_bel_1 = 7\n",
    "n_no_bel_1 = n_1 - n_bel_1\n",
    "\n",
    "n_2 = 11\n",
    "n_bel_2 = 9\n",
    "n_no_bel_2 = n_2 - n_bel_2\n",
    "k_2 = 2\n",
    "k_1 = 1"
   ]
  },
  {
   "cell_type": "code",
   "execution_count": 122,
   "id": "13dfc565",
   "metadata": {
    "scrolled": true
   },
   "outputs": [
    {
     "data": {
      "text/plain": [
       "0.008484848484848486"
      ]
     },
     "execution_count": 122,
     "metadata": {},
     "output_type": "execute_result"
    }
   ],
   "source": [
    "P_1 = sochetaniy(n_bel_1, k_2)/sochetaniy(n_1, k_2) * sochetaniy(n_no_bel_2, k_2)/sochetaniy(n_2, k_2)\n",
    "P_1"
   ]
  },
  {
   "cell_type": "code",
   "execution_count": 123,
   "id": "1000af1f",
   "metadata": {},
   "outputs": [
    {
     "data": {
      "text/plain": [
       "0.15272727272727274"
      ]
     },
     "execution_count": 123,
     "metadata": {},
     "output_type": "execute_result"
    }
   ],
   "source": [
    "P_2 = (  (sochetaniy(n_no_bel_1, k_1) * sochetaniy(n_bel_1, k_1)) /(sochetaniy(n_1, k_2)) * ( (sochetaniy(n_bel_2, k_1) * sochetaniy(n_no_bel_2, k_1)) /sochetaniy(n_2, k_2)))\n",
    "P_2"
   ]
  },
  {
   "cell_type": "code",
   "execution_count": 124,
   "id": "6fcb6088",
   "metadata": {},
   "outputs": [
    {
     "data": {
      "text/plain": [
       "0.04363636363636363"
      ]
     },
     "execution_count": 124,
     "metadata": {},
     "output_type": "execute_result"
    }
   ],
   "source": [
    "P_3 = sochetaniy(n_no_bel_1, k_2)/sochetaniy(n_1, k_2) * sochetaniy(n_bel_2, k_2)/sochetaniy(n_2, k_2)\n",
    "P_3"
   ]
  },
  {
   "cell_type": "code",
   "execution_count": 125,
   "id": "918588eb",
   "metadata": {},
   "outputs": [
    {
     "data": {
      "text/plain": [
       "0.20484848484848486"
      ]
     },
     "execution_count": 125,
     "metadata": {},
     "output_type": "execute_result"
    }
   ],
   "source": [
    "P_123 = P_1 + P_2 + P_3\n",
    "P_123"
   ]
  },
  {
   "cell_type": "markdown",
   "id": "66ccc240",
   "metadata": {},
   "source": [
    "### 2 способ. Решение задачи через формулу вероятности.\n",
    "*Стоит учесть, при расчете 2 сценария, вероятность надо увеличить в 4 раза, т.к. есть четыре способа достать из ящиков 1 белый и 1 НЕ белый шар\n",
    "$P_{усл.}=\\frac{7}{10}\\cdot\\frac{6}{9}\\cdot\\frac{2}{11}\\cdot\\frac{1}{10}+4\\cdot\\left(\\frac{7}{10}\\cdot\\frac{3}{9}\\cdot\\frac{9}{11}\\cdot\\frac{2}{10}\\right)+\\frac{3}{10}\\cdot\\frac{2}{9}\\cdot\\frac{9}{11}\\cdot\\frac{8}{10}$  "
   ]
  },
  {
   "cell_type": "code",
   "execution_count": 126,
   "id": "ed39e214",
   "metadata": {},
   "outputs": [
    {
     "name": "stdout",
     "output_type": "stream",
     "text": [
      "Вероятность вероятность того, что будут вытащены ровно два мяча белые Р =  0.2048\n"
     ]
    }
   ],
   "source": [
    "P_ysl=((7/10)*(6/9)*(2/11)*(1/10))+4*((7/10)*(3/9)*(9/11)*(2/10))+((3/10)*(2/9)*(9/11)*(8/10))\n",
    "print(f'Вероятность вероятность того, что будут вытащены ровно два мяча белые Р = {P_ysl: .4f}')"
   ]
  },
  {
   "cell_type": "markdown",
   "id": "4d131ebd",
   "metadata": {},
   "source": [
    "---"
   ]
  },
  {
   "cell_type": "markdown",
   "id": "2be9c5e0",
   "metadata": {},
   "source": [
    "**в) Какова вероятность того, что хотя бы один мяч белый?**"
   ]
  },
  {
   "cell_type": "code",
   "execution_count": null,
   "id": "61e23905",
   "metadata": {},
   "outputs": [],
   "source": []
  },
  {
   "cell_type": "code",
   "execution_count": null,
   "id": "e690e7b2",
   "metadata": {},
   "outputs": [],
   "source": []
  }
 ],
 "metadata": {
  "kernelspec": {
   "display_name": "Python 3 (ipykernel)",
   "language": "python",
   "name": "python3"
  },
  "language_info": {
   "codemirror_mode": {
    "name": "ipython",
    "version": 3
   },
   "file_extension": ".py",
   "mimetype": "text/x-python",
   "name": "python",
   "nbconvert_exporter": "python",
   "pygments_lexer": "ipython3",
   "version": "3.11.3"
  }
 },
 "nbformat": 4,
 "nbformat_minor": 5
}
